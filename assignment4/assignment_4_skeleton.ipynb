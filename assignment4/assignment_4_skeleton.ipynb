{
 "cells": [
  {
   "cell_type": "markdown",
   "metadata": {
    "id": "d32f8d18"
   },
   "source": [
    "# Group Number:\n",
    "\n",
    "# Student 1: Ryan Meghoe\n",
    "\n",
    "# Student 2: Nikita Jain\n",
    "\n",
    "# Student 3: Andrei Rykov"
   ]
  },
  {
   "cell_type": "markdown",
   "metadata": {},
   "source": [
    "Interesting notes about implementation of the VAE with convolutional layers:\n",
    "\n",
    "https://towardsdatascience.com/building-a-convolutional-vae-in-pytorch-a0f54c947f71\n",
    "https://debuggercafe.com/convolutional-variational-autoencoder-in-pytorch-on-mnist-dataset/"
   ]
  },
  {
   "cell_type": "markdown",
   "metadata": {
    "id": "q7iMjOIffegC"
   },
   "source": [
    "# Imports"
   ]
  },
  {
   "cell_type": "code",
   "execution_count": null,
   "metadata": {
    "id": "8MwKglIGfegD"
   },
   "outputs": [],
   "source": [
    "import numpy as np\n",
    "import pickle\n",
    "import requests\n",
    "\n",
    "# other imports go here"
   ]
  },
  {
   "cell_type": "markdown",
   "metadata": {
    "id": "RmNxFthzfegE"
   },
   "source": [
    "# Data loading and inspection"
   ]
  },
  {
   "cell_type": "code",
   "execution_count": null,
   "metadata": {
    "id": "e0owj4HufegE"
   },
   "outputs": [],
   "source": [
    "# load and inspect data\n",
    "data_location = 'https://surfdrive.surf.nl/files/index.php/s/K3ArFDQJb5USQ6K/download'\n",
    "data_request = requests.get(data_location)\n",
    "full_data = pickle.loads(data_request.content)"
   ]
  },
  {
   "cell_type": "markdown",
   "metadata": {
    "id": "rK6euvGyfegF"
   },
   "source": [
    "# Data augmentation and pipeline"
   ]
  },
  {
   "cell_type": "code",
   "execution_count": null,
   "metadata": {
    "id": "GT3A46s9fegF"
   },
   "outputs": [],
   "source": [
    "# code for data augmentation pipeline "
   ]
  },
  {
   "cell_type": "markdown",
   "metadata": {
    "id": "g48a4EOZfegF"
   },
   "source": [
    "# Model definitions"
   ]
  },
  {
   "cell_type": "code",
   "execution_count": null,
   "metadata": {
    "id": "ht_CmVw1fegH"
   },
   "outputs": [],
   "source": [
    "# code for model definitions goes here"
   ]
  },
  {
   "cell_type": "markdown",
   "metadata": {
    "id": "LIgBXhKNfegH"
   },
   "source": [
    "# Training and validation loop"
   ]
  },
  {
   "cell_type": "code",
   "execution_count": null,
   "metadata": {
    "id": "JuTCVGqgfegI"
   },
   "outputs": [],
   "source": [
    "# write your training and validation loop here"
   ]
  },
  {
   "cell_type": "code",
   "execution_count": null,
   "metadata": {
    "id": "B83YjnvIfegI"
   },
   "outputs": [],
   "source": [
    "# perform training"
   ]
  },
  {
   "cell_type": "markdown",
   "metadata": {
    "id": "3QOez5aPfegJ"
   },
   "source": [
    "# Inspection, Validation, and Analysis"
   ]
  },
  {
   "cell_type": "code",
   "execution_count": null,
   "metadata": {
    "id": "nhLFSFOkfegJ"
   },
   "outputs": [],
   "source": [
    "# Inspect, validate, and analyse your trained model"
   ]
  }
 ],
 "metadata": {
  "colab": {
   "name": "assignment_4_skeleton.ipynb",
   "provenance": []
  },
  "interpreter": {
   "hash": "93aa0139fa57dda094a7ddd49a7a44ee21342a7ee37e3f7e1205953a77a5c532"
  },
  "kernelspec": {
   "display_name": "Python 3 (ipykernel)",
   "language": "python",
   "name": "python3"
  },
  "language_info": {
   "codemirror_mode": {
    "name": "ipython",
    "version": 3
   },
   "file_extension": ".py",
   "mimetype": "text/x-python",
   "name": "python",
   "nbconvert_exporter": "python",
   "pygments_lexer": "ipython3",
   "version": "3.9.7"
  }
 },
 "nbformat": 4,
 "nbformat_minor": 1
}
