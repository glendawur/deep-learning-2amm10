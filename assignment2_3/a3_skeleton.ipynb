{
  "cells": [
    {
      "cell_type": "markdown",
      "id": "bd8459f1",
      "metadata": {
        "id": "bd8459f1"
      },
      "source": [
        "# Group Number: 32\n",
        "\n",
        "# Student 1: Ryan Meghoe\n",
        "\n",
        "# Student 2: Nikita Jain\n",
        "\n",
        "# Student 3: Andrei Rykov"
      ]
    },
    {
      "cell_type": "markdown",
      "id": "2ca987ad",
      "metadata": {},
      "source": [
        "# Downloading Data and Preliminaries\n"
      ]
    },
    {
      "cell_type": "code",
      "execution_count": 5,
      "id": "7d0580a5",
      "metadata": {
        "id": "7d0580a5"
      },
      "outputs": [],
      "source": [
        "import pickle\n",
        "import matplotlib.pyplot as plt\n",
        "import matplotlib\n",
        "import numpy as np\n",
        "\n",
        "from zipfile import ZipFile\n",
        "import requests\n",
        "import io"
      ]
    },
    {
      "cell_type": "code",
      "execution_count": 6,
      "id": "8ce00edc",
      "metadata": {
        "id": "8ce00edc"
      },
      "outputs": [],
      "source": [
        "def load_zip(url):\n",
        "    response = requests.get(url)\n",
        "    response.raise_for_status()\n",
        "    zipf = ZipFile(io.BytesIO(response.content))\n",
        "    return {name: zipf.read(name) for name in zipf.namelist()}\n",
        "\n",
        "def load_pickle(zipfile, fn):\n",
        "    return pickle.load(io.BytesIO(zipfile[fn]))"
      ]
    },
    {
      "cell_type": "code",
      "execution_count": 7,
      "id": "bb77a4be",
      "metadata": {
        "id": "bb77a4be"
      },
      "outputs": [],
      "source": [
        "data = load_zip('https://surfdrive.surf.nl/files/index.php/s/cwqGaS22KXgnXtg/download')\n",
        "\n",
        "    \n",
        "\"\"\"\n",
        "simulation_{train, valid, test} is stored as a list of simulations. \n",
        "Each simulation is a numpy array of size (t, 2): For t timesteps an x and y coordinate of our particle.\n",
        "\"\"\"\n",
        "simulation_train = load_pickle(data, 'data/train/simulation.pickle')  # 3.1 + 3.2\n",
        "simulation_valid = load_pickle(data, 'data/valid/simulation.pickle')  # 3.1 + 3.2\n",
        "simulation_test = load_pickle(data, 'data/test/simulation.pickle')  # 3.1 + 3.2\n",
        "\n",
        "\"\"\"\n",
        "charges_{train, valid, test} is stored as a list of simulation-charges. \n",
        "These charges are stored as numpy arrays of size (3,): One value for each charge.\n",
        "\"\"\"\n",
        "charges_train = load_pickle(data, 'data/train/charges.pickle')  # 3.1\n",
        "charges_valid = load_pickle(data, 'data/valid/charges.pickle')  # 3.1\n",
        "charges_test = load_pickle(data, 'data/test/charges.pickle')  # 3.1\n",
        "\n",
        "\"\"\"\n",
        "simulation_continued_{train, valid, test} is stored as a list of simulations. \n",
        "Each simulation is a numpy array of size (t, 2): For t timesteps an x and y coordinate of our particle.\n",
        "\"\"\"\n",
        "simulation_continued_train = load_pickle(data, 'data/train/simulation_continued.pickle')  # 3.2\n",
        "simulation_continued_valid = load_pickle(data, 'data/valid/simulation_continued.pickle')  # 3.2\n",
        "simulation_continued_test = load_pickle(data, 'data/test/simulation_continued.pickle')  # 3.2\n",
        "\n",
        "\"\"\"\n",
        "Note that the indices are shared throughout the different lists, e.g., for the 4th training simulation:\n",
        "simulation_train[3] contains its initial simulation\n",
        "charges_train[3] contains the charges associated with the simulation\n",
        "simulation_continued_train[3] contains the continuation of the simulation \n",
        "                --> simulation_continued_train[3][0] is the state after simulation_train[3][-1]\n",
        "\"\"\"\n",
        "pass"
      ]
    },
    {
      "cell_type": "code",
      "execution_count": 8,
      "id": "10a3438a",
      "metadata": {
        "id": "10a3438a",
        "outputId": "3650d27b-c7e1-4650-c81b-b2b6ebcd8f82"
      },
      "outputs": [
        {
          "name": "stdout",
          "output_type": "stream",
          "text": [
            "Overview of no. datapoints:\n",
            "\n",
            "Task 3.1:\n",
            "800 train, 100 validation, 100 test simulations\n",
            "800 train, 100 validation, 100 test charge pairs\n",
            "\n",
            "Task 3.2:\n",
            "Since len(simulation_continued_train) < len(simulation_train), we can only use a subset of initial simulations\n",
            "We cut simulation_train down to the first 150 samples in simulation_train_task32\n",
            "150 train, 100 validation, 100 test simulations\n",
            "150 train, 100 validation, 100 test continuations\n",
            "\n",
            "For task 3.1, use:\n",
            "simulation_train + charges_train\n",
            "simulation_valid + charges_valid\n",
            "simulation_test + charges_test\n",
            "\n",
            "For task 3.2, use:\n",
            "simulation_train_task32 + simulation_continued_train\n",
            "simulation_valid + simulation_continued_valid\n",
            "simulation_test + simulation_continued_test\n",
            "\n"
          ]
        }
      ],
      "source": [
        "print('Overview of no. datapoints:\\n')\n",
        "\n",
        "print('Task 3.1:')\n",
        "print(f'{len(simulation_train)} train, {len(simulation_valid)} validation, {len(simulation_test)} test simulations')\n",
        "print(f'{len(charges_train)} train, {len(charges_valid)} validation, {len(charges_test)} test charge pairs')\n",
        "print()\n",
        "\n",
        "print('Task 3.2:')\n",
        "print('Since len(simulation_continued_train) < len(simulation_train), we can only use a subset of initial simulations')\n",
        "print('We cut simulation_train down to the first 150 samples in simulation_train_task32')\n",
        "simulation_train_task32 = simulation_train[:150]\n",
        "print(f'{len(simulation_train_task32)} train, {len(simulation_valid)} validation, {len(simulation_test)} test simulations')\n",
        "print(f'{len(simulation_continued_train)} train, {len(simulation_continued_valid)} validation, {len(simulation_continued_test)} test continuations')\n",
        "\n",
        "print(f\"\"\"\n",
        "For task 3.1, use:\n",
        "{chr(10).join([\"simulation_{} + charges_{}\".format(t, t) for t in [\"train\", \"valid\", \"test\"]])}\n",
        "\n",
        "For task 3.2, use:\n",
        "{chr(10).join([\"simulation_{} + simulation_continued_{}\".format(*((t[0], t[1]) if isinstance(t, tuple) else (t, t))) for t in [(\"train_task32\", \"train\"), \"valid\", \"test\"]])}\n",
        "\"\"\")\n"
      ]
    },
    {
      "cell_type": "code",
      "execution_count": 9,
      "id": "3cfafdb3",
      "metadata": {
        "id": "3cfafdb3",
        "outputId": "42ffce38-a6f3-4219-c759-ee0b42d6c44f"
      },
      "outputs": [
        {
          "name": "stdout",
          "output_type": "stream",
          "text": [
            "Print some shapes:\n",
            "\n",
            "simulation_train[0].shape: (103, 2) -> (t, 2), (x, y) at every t)\n",
            "charges_train[0].shape: (3,) -> charges for the simulation\n",
            "simulation_continued_train[0].shape: (54, 2) -> (t, 2), (x, y) at every t)\n",
            "----\n",
            "\n",
            "simulation_train[1].shape: (97, 2) -> (t, 2), (x, y) at every t)\n",
            "charges_train[1].shape: (3,) -> charges for the simulation\n",
            "simulation_continued_train[1].shape: (45, 2) -> (t, 2), (x, y) at every t)\n",
            "----\n",
            "\n",
            "simulation_train[2].shape: (99, 2) -> (t, 2), (x, y) at every t)\n",
            "charges_train[2].shape: (3,) -> charges for the simulation\n",
            "simulation_continued_train[2].shape: (47, 2) -> (t, 2), (x, y) at every t)\n",
            "----\n",
            "\n"
          ]
        }
      ],
      "source": [
        "print('Print some shapes:\\n')\n",
        "for i in range(3):\n",
        "    print('simulation_train[{}].shape:'.format(i), simulation_train[i].shape, '-> (t, 2), (x, y) at every t)')\n",
        "    print('charges_train[{}].shape:'.format(i), charges_train[i].shape, '-> charges for the simulation')\n",
        "    print('simulation_continued_train[{}].shape:'.format(i), simulation_continued_train[i].shape, '-> (t, 2), (x, y) at every t)')\n",
        "    print('----\\n')"
      ]
    },
    {
      "cell_type": "code",
      "execution_count": 10,
      "id": "f9106543",
      "metadata": {
        "id": "f9106543"
      },
      "outputs": [],
      "source": [
        "def plot_example(x, x_gt=None, x_pred=None, fn=None):\n",
        "    charge_locations = np.array([[-1.53846154, -1.53846154],\n",
        "                                 [ 1.53846154, -1.53846154],\n",
        "                                 [ 0.        ,  1.53846154]])  # charge locations are fixed\n",
        "    fig = plt.figure()\n",
        "    axes = plt.gca()\n",
        "    axes.set_xlim([-5., 5.])\n",
        "    axes.set_ylim([-5., 5.])\n",
        "    cmap = matplotlib.cm.get_cmap('tab20')\n",
        "    plt.plot(x[:, 0], x[:, 1], color=cmap(0))\n",
        "    plt.plot(x[0, 0], x[0, 1], 'd', color=cmap(1))\n",
        "    fig.set_size_inches(5, 5)\n",
        "    for charge in charge_locations:\n",
        "        plt.plot(charge[0], charge[1], 'd', color='black')\n",
        "    if x_gt is not None:\n",
        "        plt.plot(x_gt[:, 0], x_gt[:, 1], color='red', linewidth=.5)\n",
        "    if x_pred is not None:\n",
        "        plt.plot(x_pred[:, 0], x_pred[:, 1], color='green', linestyle='--')\n",
        "    if fn is None:\n",
        "        plt.show()\n",
        "    else:\n",
        "        plt.savefig(fn)"
      ]
    },
    {
      "cell_type": "code",
      "execution_count": 11,
      "id": "d28681a6",
      "metadata": {
        "id": "d28681a6",
        "outputId": "c34406d9-7732-4d6b-a092-d32025eaa83a"
      },
      "outputs": [
        {
          "data": {
            "image/png": "[encoded data removed]",
            "text/plain": [
              "<Figure size 360x360 with 1 Axes>"
            ]
          },
          "metadata": {
            "needs_background": "light"
          },
          "output_type": "display_data"
        },
        {
          "name": "stdout",
          "output_type": "stream",
          "text": [
            "Charges are [-0.16157069 -0.9385916  -0.53660326]\n"
          ]
        }
      ],
      "source": [
        "test_idx = np.random.randint(150)\n",
        "plot_example(simulation_train[test_idx], simulation_continued_train[test_idx])\n",
        "print(f'Charges are {charges_train[test_idx]}')"
      ]
    },
    {
      "cell_type": "markdown",
      "id": "4c1ddabe",
      "metadata": {
        "id": "4c1ddabe"
      },
      "source": [
        "## Data Handling and Preprocessing"
      ]
    },
    {
      "cell_type": "code",
      "execution_count": 12,
      "id": "bd9df856",
      "metadata": {
        "id": "bd9df856"
      },
      "outputs": [],
      "source": [
        "import torch.nn.functional as f\n",
        "import torch\n",
        "\n",
        "simulation_train = torch.cat(list(map(lambda x: f.pad(torch.Tensor(x), pad=(0, 0, 110 - x.shape[0], 0)).unsqueeze(0), simulation_train)))\n",
        "simulation_valid = torch.cat(list(map(lambda x: f.pad(torch.Tensor(x), pad=(0, 0, 110 - x.shape[0], 0)).unsqueeze(0), simulation_valid)))\n",
        "simulation_test = torch.cat(list(map(lambda x: f.pad(torch.Tensor(x), pad=(0, 0, 110 - x.shape[0], 0)).unsqueeze(0), simulation_test)))\n",
        "\n",
        "\n",
        "simulation_continued_train = torch.cat(list(map(lambda x: f.pad(torch.Tensor(x), pad=(0, 0, 0, 60 - x.shape[0])).unsqueeze(0), simulation_continued_train)))\n",
        "simulation_continued_valid = torch.cat(list(map(lambda x: f.pad(torch.Tensor(x), pad=(0, 0, 0, 60 - x.shape[0])).unsqueeze(0), simulation_continued_valid)))\n",
        "simulation_continued_test = torch.cat(list(map(lambda x: f.pad(torch.Tensor(x), pad=(0, 0, 0, 60 - x.shape[0])).unsqueeze(0), simulation_continued_test)))\n",
        "\n",
        "\n",
        "charges_train = torch.cat(list(map(lambda x: torch.Tensor(x).unsqueeze(0), charges_train)))\n",
        "charges_valid = torch.cat(list(map(lambda x: torch.Tensor(x).unsqueeze(0), charges_valid)))\n",
        "charges_test = torch.cat(list(map(lambda x: torch.Tensor(x).unsqueeze(0), charges_test)))"
      ]
    },
    {
      "cell_type": "code",
      "execution_count": 15,
      "id": "5b0c3264",
      "metadata": {},
      "outputs": [
        {
          "data": {
            "text/plain": [
              "torch.Size([150, 60, 2])"
            ]
          },
          "execution_count": 15,
          "metadata": {},
          "output_type": "execute_result"
        }
      ],
      "source": [
        "simulation_continued_train.shape"
      ]
    },
    {
      "cell_type": "code",
      "execution_count": 17,
      "id": "e872c309",
      "metadata": {},
      "outputs": [
        {
          "data": {
            "text/plain": [
              "torch.Size([800, 110, 2])"
            ]
          },
          "execution_count": 17,
          "metadata": {},
          "output_type": "execute_result"
        }
      ],
      "source": [
        "simulation_train.shape"
      ]
    },
    {
      "cell_type": "code",
      "execution_count": 19,
      "id": "7dd9b7c1",
      "metadata": {
        "id": "7dd9b7c1"
      },
      "outputs": [],
      "source": [
        "from torch.utils.data import TensorDataset, DataLoader\n",
        "\n",
        "lengths_train = torch.Tensor(list(map(lambda x: x.shape[0], simulation_continued_train))).unsqueeze(-1)\n",
        "lengths_valid = torch.Tensor(list(map(lambda x: x.shape[0], simulation_continued_valid))).unsqueeze(-1)\n",
        "lengths_test = torch.Tensor(list(map(lambda x: x.shape[0], simulation_continued_test))).unsqueeze(-1)\n",
        "\n",
        "train_dataset_31 = TensorDataset(simulation_train, charges_train)\n",
        "valid_dataset_31 = TensorDataset(simulation_valid, charges_valid)\n",
        "test_dataset_31 = TensorDataset(simulation_test, charges_test)\n",
        "\n",
        "train_dataset_32 = TensorDataset(simulation_train[:simulation_continued_train.shape[0]], simulation_continued_train, lengths_train)\n",
        "valid_dataset_32 = TensorDataset(simulation_valid[:simulation_continued_valid.shape[0]], simulation_continued_valid, lengths_valid)\n",
        "test_dataset_32 = TensorDataset(simulation_test[:simulation_continued_test.shape[0]], simulation_continued_test, lengths_test)"
      ]
    },
    {
      "cell_type": "code",
      "execution_count": 20,
      "id": "4ec1e03a",
      "metadata": {
        "id": "4ec1e03a"
      },
      "outputs": [],
      "source": [
        "batch_size = 64\n",
        "\n",
        "train_dataloader_31 = DataLoader(train_dataset_31, batch_size=batch_size, shuffle=True)\n",
        "valid_dataloader_31 = DataLoader(valid_dataset_31, batch_size=batch_size, shuffle=False)\n",
        "test_dataloader_31 = DataLoader(test_dataset_31, batch_size=batch_size, shuffle=False)\n",
        "\n",
        "train_dataloader_32 = DataLoader(train_dataset_32, batch_size=batch_size, shuffle=True)\n",
        "valid_dataloader_32 = DataLoader(valid_dataset_32, batch_size=batch_size, shuffle=False)\n",
        "test_dataloader_32 = DataLoader(test_dataset_32, batch_size=batch_size, shuffle=False)"
      ]
    },
    {
      "cell_type": "markdown",
      "id": "883762b1",
      "metadata": {
        "id": "883762b1"
      },
      "source": [
        "# Task 3.1"
      ]
    },
    {
      "cell_type": "markdown",
      "id": "cc8853f6",
      "metadata": {
        "id": "cc8853f6"
      },
      "source": [
        "## Model Implementation"
      ]
    },
    {
      "cell_type": "code",
      "execution_count": 32,
      "id": "8794a0cf",
      "metadata": {
        "id": "8794a0cf"
      },
      "outputs": [],
      "source": [
        "import torch\n",
        "import torch.nn as nn\n",
        "\n",
        "class Encoder(nn.Module):\n",
        "    def __init__(self, coord_shape, emb_dim, hid_dim, n_layers, dropout):\n",
        "        super(Encoder, self).__init__()\n",
        "        \n",
        "        self.hid_dim = hid_dim\n",
        "        self.n_layers = n_layers\n",
        "        \n",
        "        ### Your code here ###\n",
        "        #self.embedding = nn.Sequential(nn.Linear(coord_shape, emb_dim),\n",
        "        #                               nn.Dropout(droupout))\n",
        "        \n",
        "        self.rnn = nn.LSTM(coord_shape, hid_dim, n_layers, dropout = dropout, batch_first = True)\n",
        "        \n",
        "    def forward(self, input):\n",
        "        \n",
        "        _, (hidden, cell) = self.rnn(input)\n",
        "\n",
        "        return hidden, cell"
      ]
    },
    {
      "cell_type": "code",
      "execution_count": 33,
      "id": "d62b5aa6",
      "metadata": {
        "id": "d62b5aa6"
      },
      "outputs": [],
      "source": [
        "class SequenceToCharge(nn.Module):\n",
        "    def __init__(self, coord_shape, emb_dim, hid_dim, n_layers, dropout,\n",
        "                 output_shape):\n",
        "        super(SequenceToCharge, self).__init__()\n",
        "\n",
        "        self.encoder = Encoder(coord_shape, emb_dim, hid_dim, n_layers, dropout)\n",
        "\n",
        "        self.dense = nn.Sequential(nn.Linear(hid_dim, output_shape)\n",
        "                                #, nn.ReLU(),\n",
        "                                #  nn.Linear(hidden, output_shape)  \n",
        "                                  )\n",
        "\n",
        "    def forward(self, particle_trajectory):\n",
        "        hidden, _ = self.encoder(particle_trajectory)\n",
        "        output = self.dense(hidden[-1])\n",
        "\n",
        "        return output"
      ]
    },
    {
      "cell_type": "markdown",
      "id": "0e443b7f",
      "metadata": {
        "id": "0e443b7f"
      },
      "source": [
        "## Model Training"
      ]
    },
    {
      "cell_type": "code",
      "execution_count": 35,
      "id": "58348edd",
      "metadata": {
        "id": "58348edd"
      },
      "outputs": [],
      "source": [
        "from tqdm import tqdm\n",
        "\n",
        "class Trainer31():\n",
        "    def __init__(self,\n",
        "                 model: torch.nn.Module,\n",
        "                 device: torch.device,\n",
        "                 criterion: torch.nn.Module,\n",
        "                 optimizer: torch.optim.Optimizer,\n",
        "                 training_DataLoader: torch.utils.data.Dataset,\n",
        "                 validation_DataLoader: torch.utils.data.Dataset ,\n",
        "                 testing_DataLoader: torch.utils.data.Dataset ,\n",
        "                 epochs: int\n",
        "                 ):\n",
        "        \n",
        "        self.model = model\n",
        "        self.criterion = criterion\n",
        "        self.optimizer = optimizer\n",
        "        self.training_DataLoader = training_DataLoader\n",
        "        self.validation_DataLoader = validation_DataLoader\n",
        "        self.testing_DataLoader = testing_DataLoader\n",
        "        self.device = device\n",
        "        self.epochs = epochs\n",
        "\n",
        "\n",
        "    def run_trainer(self):\n",
        "\n",
        "        epoch_train_losses = []\n",
        "        epoch_val_losses = []\n",
        "\n",
        "        for epoch in tqdm(range(self.epochs)):\n",
        "                 \n",
        "\n",
        "            self.model.train()  # train mode\n",
        "\n",
        "            train_losses=[]\n",
        "            \n",
        "            correct = 0\n",
        "            length = 0\n",
        "            for x, y in self.training_DataLoader:\n",
        "\n",
        "                sequence, charges = x.float().to(self.device), y.float().to(self.device) # send to device (GPU or CPU)\n",
        "\n",
        "                self.optimizer.zero_grad()  # zerograd the parameters\n",
        "\n",
        "                loss = 0\n",
        "                out = self.model(sequence)  # one forward pass\n",
        "\n",
        "                loss += self.criterion(out, charges)  # calculate loss\n",
        "                \n",
        "                loss_value = loss.item()\n",
        "                train_losses.append(loss_value)\n",
        "                 \n",
        "                loss.backward()  # one backward pass\n",
        "                self.optimizer.step()  # update the parameters\n",
        "            \n",
        "            epoch_train_losses.append(np.mean(train_losses))\n",
        "            self.model.eval()  # evaluation mode\n",
        "            valid_losses = []  # accumulate the losses here\n",
        "\n",
        "            correct = 0\n",
        "            length = 0\n",
        "            for x,  y in self.validation_DataLoader:\n",
        "\n",
        "                sequence, charges = x.float().to(self.device), y.float().to(self.device) # send to device (GPU or CPU)\n",
        "\n",
        "                with torch.no_grad():\n",
        "                    loss = 0\n",
        "                    \n",
        "                    out = self.model(sequence)  # one forward pass\n",
        "                    loss += self.criterion(out, charges)  # calculate loss\n",
        "                 \n",
        "                    loss_value = loss.item()\n",
        "                    valid_losses.append(loss_value)\n",
        "\n",
        "            epoch_val_losses.append(np.mean(valid_losses))\n",
        "                \n",
        "            # print the results\n",
        "            print(\n",
        "                f'EPOCH: {epoch+1:0>{len(str(self.epochs))}}/{self.epochs}',\n",
        "                end=' '\n",
        "            )\n",
        "            print(f'LOSS: {np.mean(train_losses):.4f}',end=' ')\n",
        "            print(f'VAL-LOSS: {np.mean(valid_losses):.4f}',end='\\n')\n",
        "\n",
        "        return epoch_train_losses, epoch_val_losses\n",
        "        \n",
        "    def evaluate(self):\n",
        "\n",
        "        self.model.eval()\n",
        "\n",
        "        with torch.no_grad():\n",
        "            loss = []\n",
        "            length = 0\n",
        "            for x,y in self.testing_DataLoader:\n",
        "                \n",
        "                sequence, charges = x.float().to(self.device), y.float().to(self.device)\n",
        "                out = self.model(sequence)\n",
        "                loss.append(self.criterion(out, charges))\n",
        "                \n",
        "        print(f'Error: {np.mean(loss):.4f}')"
      ]
    },
    {
      "cell_type": "code",
      "execution_count": null,
      "id": "176b3ea3",
      "metadata": {
        "id": "176b3ea3"
      },
      "outputs": [],
      "source": []
    },
    {
      "cell_type": "markdown",
      "id": "da139d5b",
      "metadata": {
        "id": "da139d5b"
      },
      "source": [
        "## Evaluation"
      ]
    },
    {
      "cell_type": "code",
      "execution_count": 36,
      "id": "ebed03ba",
      "metadata": {
        "id": "ebed03ba"
      },
      "outputs": [
        {
          "name": "stderr",
          "output_type": "stream",
          "text": [
            "  5%|▌         | 1/20 [00:00<00:09,  1.95it/s]"
          ]
        },
        {
          "name": "stdout",
          "output_type": "stream",
          "text": [
            "EPOCH: 01/20 LOSS: 0.1838 VAL-LOSS: 0.1047\n"
          ]
        },
        {
          "name": "stderr",
          "output_type": "stream",
          "text": [
            " 10%|█         | 2/20 [00:00<00:08,  2.24it/s]"
          ]
        },
        {
          "name": "stdout",
          "output_type": "stream",
          "text": [
            "EPOCH: 02/20 LOSS: 0.0867 VAL-LOSS: 0.0916\n"
          ]
        },
        {
          "name": "stderr",
          "output_type": "stream",
          "text": [
            " 15%|█▌        | 3/20 [00:01<00:07,  2.20it/s]"
          ]
        },
        {
          "name": "stdout",
          "output_type": "stream",
          "text": [
            "EPOCH: 03/20 LOSS: 0.0766 VAL-LOSS: 0.0850\n"
          ]
        },
        {
          "name": "stderr",
          "output_type": "stream",
          "text": [
            " 20%|██        | 4/20 [00:01<00:07,  2.18it/s]"
          ]
        },
        {
          "name": "stdout",
          "output_type": "stream",
          "text": [
            "EPOCH: 04/20 LOSS: 0.0753 VAL-LOSS: 0.0873\n"
          ]
        },
        {
          "name": "stderr",
          "output_type": "stream",
          "text": [
            " 25%|██▌       | 5/20 [00:02<00:06,  2.15it/s]"
          ]
        },
        {
          "name": "stdout",
          "output_type": "stream",
          "text": [
            "EPOCH: 05/20 LOSS: 0.0735 VAL-LOSS: 0.0845\n"
          ]
        },
        {
          "name": "stderr",
          "output_type": "stream",
          "text": [
            " 30%|███       | 6/20 [00:02<00:06,  2.13it/s]"
          ]
        },
        {
          "name": "stdout",
          "output_type": "stream",
          "text": [
            "EPOCH: 06/20 LOSS: 0.0733 VAL-LOSS: 0.0856\n"
          ]
        },
        {
          "name": "stderr",
          "output_type": "stream",
          "text": [
            " 35%|███▌      | 7/20 [00:03<00:06,  2.17it/s]"
          ]
        },
        {
          "name": "stdout",
          "output_type": "stream",
          "text": [
            "EPOCH: 07/20 LOSS: 0.0723 VAL-LOSS: 0.0834\n"
          ]
        },
        {
          "name": "stderr",
          "output_type": "stream",
          "text": [
            " 40%|████      | 8/20 [00:03<00:05,  2.21it/s]"
          ]
        },
        {
          "name": "stdout",
          "output_type": "stream",
          "text": [
            "EPOCH: 08/20 LOSS: 0.0716 VAL-LOSS: 0.0822\n"
          ]
        },
        {
          "name": "stderr",
          "output_type": "stream",
          "text": [
            " 45%|████▌     | 9/20 [00:04<00:04,  2.30it/s]"
          ]
        },
        {
          "name": "stdout",
          "output_type": "stream",
          "text": [
            "EPOCH: 09/20 LOSS: 0.0716 VAL-LOSS: 0.0831\n"
          ]
        },
        {
          "name": "stderr",
          "output_type": "stream",
          "text": [
            " 50%|█████     | 10/20 [00:04<00:04,  2.30it/s]"
          ]
        },
        {
          "name": "stdout",
          "output_type": "stream",
          "text": [
            "EPOCH: 10/20 LOSS: 0.0698 VAL-LOSS: 0.0795\n"
          ]
        },
        {
          "name": "stderr",
          "output_type": "stream",
          "text": [
            " 55%|█████▌    | 11/20 [00:04<00:03,  2.29it/s]"
          ]
        },
        {
          "name": "stdout",
          "output_type": "stream",
          "text": [
            "EPOCH: 11/20 LOSS: 0.0672 VAL-LOSS: 0.0762\n"
          ]
        },
        {
          "name": "stderr",
          "output_type": "stream",
          "text": [
            " 60%|██████    | 12/20 [00:05<00:03,  2.31it/s]"
          ]
        },
        {
          "name": "stdout",
          "output_type": "stream",
          "text": [
            "EPOCH: 12/20 LOSS: 0.0634 VAL-LOSS: 0.0756\n"
          ]
        },
        {
          "name": "stderr",
          "output_type": "stream",
          "text": [
            " 65%|██████▌   | 13/20 [00:05<00:02,  2.34it/s]"
          ]
        },
        {
          "name": "stdout",
          "output_type": "stream",
          "text": [
            "EPOCH: 13/20 LOSS: 0.0693 VAL-LOSS: 0.0732\n"
          ]
        },
        {
          "name": "stderr",
          "output_type": "stream",
          "text": [
            " 70%|███████   | 14/20 [00:06<00:02,  2.32it/s]"
          ]
        },
        {
          "name": "stdout",
          "output_type": "stream",
          "text": [
            "EPOCH: 14/20 LOSS: 0.0668 VAL-LOSS: 0.0747\n"
          ]
        },
        {
          "name": "stderr",
          "output_type": "stream",
          "text": [
            " 75%|███████▌  | 15/20 [00:06<00:02,  2.35it/s]"
          ]
        },
        {
          "name": "stdout",
          "output_type": "stream",
          "text": [
            "EPOCH: 15/20 LOSS: 0.0618 VAL-LOSS: 0.0733\n"
          ]
        },
        {
          "name": "stderr",
          "output_type": "stream",
          "text": [
            " 80%|████████  | 16/20 [00:07<00:01,  2.30it/s]"
          ]
        },
        {
          "name": "stdout",
          "output_type": "stream",
          "text": [
            "EPOCH: 16/20 LOSS: 0.0625 VAL-LOSS: 0.0675\n"
          ]
        },
        {
          "name": "stderr",
          "output_type": "stream",
          "text": [
            " 85%|████████▌ | 17/20 [00:07<00:01,  2.26it/s]"
          ]
        },
        {
          "name": "stdout",
          "output_type": "stream",
          "text": [
            "EPOCH: 17/20 LOSS: 0.0588 VAL-LOSS: 0.0783\n"
          ]
        },
        {
          "name": "stderr",
          "output_type": "stream",
          "text": [
            " 90%|█████████ | 18/20 [00:08<00:00,  2.26it/s]"
          ]
        },
        {
          "name": "stdout",
          "output_type": "stream",
          "text": [
            "EPOCH: 18/20 LOSS: 0.0636 VAL-LOSS: 0.0714\n"
          ]
        },
        {
          "name": "stderr",
          "output_type": "stream",
          "text": [
            " 95%|█████████▌| 19/20 [00:08<00:00,  2.24it/s]"
          ]
        },
        {
          "name": "stdout",
          "output_type": "stream",
          "text": [
            "EPOCH: 19/20 LOSS: 0.0558 VAL-LOSS: 0.0628\n"
          ]
        },
        {
          "name": "stderr",
          "output_type": "stream",
          "text": [
            "100%|██████████| 20/20 [00:08<00:00,  2.25it/s]"
          ]
        },
        {
          "name": "stdout",
          "output_type": "stream",
          "text": [
            "EPOCH: 20/20 LOSS: 0.0506 VAL-LOSS: 0.0583\n",
            "Error: 0.0550\n"
          ]
        },
        {
          "name": "stderr",
          "output_type": "stream",
          "text": [
            "\n"
          ]
        }
      ],
      "source": [
        "if torch.cuda.is_available():\n",
        "        device = torch.device('cuda')\n",
        "else:\n",
        "        device=torch.device('cpu')\n",
        "\n",
        "model = SequenceToCharge(coord_shape = 2, emb_dim = 8, hid_dim = 16, n_layers = 1, dropout = 0.5, \n",
        "                        output_shape = 3).to(device)\n",
        "criterion = torch.nn.MSELoss()\n",
        "optimizer = torch.optim.Adam(model.parameters(), lr=0.01)\n",
        "\n",
        "TrainingProcedure = Trainer31(model, \n",
        "                                device, \n",
        "                                criterion, \n",
        "                                optimizer,\n",
        "                                train_dataloader_31,\n",
        "                                valid_dataloader_31,\n",
        "                                test_dataloader_31,\n",
        "                                epochs = 20)\n",
        "\n",
        "train_loss, val_loss = TrainingProcedure.run_trainer()\n",
        "TrainingProcedure.evaluate()"
      ]
    },
    {
      "cell_type": "code",
      "execution_count": null,
      "id": "17af7ec3",
      "metadata": {
        "id": "17af7ec3"
      },
      "outputs": [],
      "source": []
    },
    {
      "cell_type": "code",
      "execution_count": null,
      "id": "43a3422e",
      "metadata": {
        "id": "43a3422e"
      },
      "outputs": [],
      "source": []
    },
    {
      "cell_type": "markdown",
      "id": "9a59808b",
      "metadata": {
        "id": "9a59808b"
      },
      "source": [
        "# Task 3.2"
      ]
    },
    {
      "cell_type": "markdown",
      "id": "867aabb3",
      "metadata": {
        "id": "867aabb3"
      },
      "source": [
        "## Model Implementation"
      ]
    },
    {
      "cell_type": "code",
      "execution_count": 37,
      "id": "36fe2739",
      "metadata": {
        "id": "36fe2739"
      },
      "outputs": [],
      "source": [
        "class Decoder(nn.Module):\n",
        "    def __init__(self, input_shape, hid_dim, n_layers, dropout):\n",
        "        super(Decoder, self).__init__()\n",
        "\n",
        "        self.hid_dim = hid_dim\n",
        "        self.n_layers = n_layers\n",
        "\n",
        "        self.rnn = nn.LSTM(input_shape, hid_dim, n_layers, dropout=dropout, batch_first = True)\n",
        "\n",
        "    def forward(self, input, hidden, cell):\n",
        "        \n",
        "        output, (hidden, cell) = self.rnn(input, (hidden, cell))\n",
        "\n",
        "        return output, (hidden, cell)"
      ]
    },
    {
      "cell_type": "code",
      "execution_count": 74,
      "id": "f80b1ca2",
      "metadata": {
        "id": "f80b1ca2"
      },
      "outputs": [],
      "source": [
        "import numpy as np \n",
        "\n",
        "class Seq2SeqARG(nn.Module):\n",
        "    def __init__(self, coord_shape, emb_dim, hid_dim, n_layers, dropout, device = torch.device('cpu')):\n",
        "        super(Seq2SeqARG, self).__init__()\n",
        "        self.device = device\n",
        "\n",
        "        self.encoder = Encoder(coord_shape, emb_dim, hid_dim, n_layers, dropout)\n",
        "\n",
        "        self.decoder = Decoder(input_shape=coord_shape, hid_dim=hid_dim, n_layers=n_layers, dropout=dropout)\n",
        "\n",
        "        self.dense = nn.Sequential(nn.Linear(hid_dim, coord_shape))\n",
        "\n",
        "    def forward(self, particle_trajectory, target_trajectory, teacher_forcing_ratio = 0.5):\n",
        "        \n",
        "        hidden, cell = self.encoder(particle_trajectory)\n",
        "        \n",
        "        hidden = hidden[:,0,:]\n",
        "        cell = cell[:,0,:]\n",
        "\n",
        "        predicted_target = torch.zeros((target_trajectory.shape)).to(self.device)\n",
        "\n",
        "        input = particle_trajectory[:,-1,:]\n",
        "        for t in range(0, target_trajectory.shape[1]):\n",
        "            \n",
        "            output, (hidden, cell) = self.decoder(input, hidden, cell)\n",
        "            # output = (batch_size, 1, hid_dim)\n",
        "\n",
        "            predicted_target[:,t] = self.dense(output)\n",
        "\n",
        "            # ground truth usage\n",
        "            #decide if we are going to use teacher forcing or not\n",
        "            teacher_force = np.random.rand(1)[0] > teacher_forcing_ratio\n",
        "            #get the highest predicted token from our predictions\n",
        "            top1 = target_trajectory[:,t]\n",
        "\n",
        "            input = predicted_target[:,t ] if teacher_force else top1\n",
        "        \n",
        "        return predicted_target"
      ]
    },
    {
      "cell_type": "markdown",
      "id": "826fae3f",
      "metadata": {
        "id": "826fae3f"
      },
      "source": [
        "## Model Training"
      ]
    },
    {
      "cell_type": "code",
      "execution_count": 84,
      "id": "5a92c60d",
      "metadata": {},
      "outputs": [],
      "source": [
        "class Trainer32():\n",
        "    def __init__(self,\n",
        "                 model: torch.nn.Module,\n",
        "                 device: torch.device,\n",
        "                 criterion: torch.nn.Module,\n",
        "                 optimizer: torch.optim.Optimizer,\n",
        "                 training_DataLoader: torch.utils.data.Dataset,\n",
        "                 validation_DataLoader: torch.utils.data.Dataset ,\n",
        "                 testing_DataLoader: torch.utils.data.Dataset ,\n",
        "                 epochs: int\n",
        "                 ):\n",
        "        \n",
        "        self.model = model\n",
        "        self.criterion = criterion\n",
        "        self.optimizer = optimizer\n",
        "        self.training_DataLoader = training_DataLoader\n",
        "        self.validation_DataLoader = validation_DataLoader\n",
        "        self.testing_DataLoader = testing_DataLoader\n",
        "        self.device = device\n",
        "        self.epochs = epochs\n",
        "\n",
        "\n",
        "    def run_trainer(self):\n",
        "\n",
        "        epoch_train_losses = []\n",
        "        epoch_val_losses = []\n",
        "\n",
        "        for epoch in tqdm(range(self.epochs)):\n",
        "                 \n",
        "\n",
        "            self.model.train()  # train mode\n",
        "\n",
        "            train_losses=[]\n",
        "            \n",
        "            correct = 0\n",
        "            length = 0\n",
        "            for x, y, z in self.training_DataLoader:\n",
        "\n",
        "                x_sequence, y_sequence, lengths = x.float().to(self.device), y.float().to(self.device), z.float().to(self.device) # send to device (GPU or CPU)\n",
        "                \n",
        "\n",
        "                self.optimizer.zero_grad()  # zerograd the parameters\n",
        "\n",
        "                loss = 0\n",
        "                # out - (batch_size, sequence_length, coordinates)\n",
        "                out = self.model(x_sequence, y_sequence)  # one forward pass\n",
        "\n",
        "                #for pred,actual,seq_len in zip(out, y_sequence, lengths):\n",
        "\n",
        "                #    loss += self.criterion(pred[:seq_len], actual[:seq_len])  # calculate loss\n",
        "\n",
        "                mask = (torch.arange(60)[None, :] < lengths.view(-1)[:, None]).unsqueeze(-1)\n",
        "                loss += torch.mean(torch.sum((out*mask - y_sequence).pow(2), dim=[1,2]) / lengths.view(-1))\n",
        "                \n",
        "                loss_value = loss.item()\n",
        "                train_losses.append(loss_value)\n",
        "                 \n",
        "                loss.backward()  # one backward pass\n",
        "                self.optimizer.step()  # update the parameters\n",
        "            \n",
        "            epoch_train_losses.append(np.mean(train_losses))\n",
        "            self.model.eval()  # evaluation mode\n",
        "            valid_losses = []  # accumulate the losses here\n",
        "\n",
        "            correct = 0\n",
        "            length = 0\n",
        "            for x, y, z in self.validation_DataLoader:\n",
        "\n",
        "                x_sequence, y_sequence, lengths = x.float().to(self.device), y.float().to(self.device), z.float().to(self.device)\n",
        "\n",
        "                with torch.no_grad():\n",
        "                    loss = 0\n",
        "                    \n",
        "                    out = self.model(x_sequence, y_sequence)  # one forward pass\n",
        "                    \n",
        "                    mask = (torch.arange(60)[None, :] < lengths.view(-1)[:, None]).unsqueeze(-1)\n",
        "                    loss += torch.mean(torch.sum((out*mask - y_sequence).pow(2), dim=[1,2]) / lengths.view(-1) ) # calculate loss\n",
        "                 \n",
        "                    loss_value = loss.item()\n",
        "                    valid_losses.append(loss_value)\n",
        "\n",
        "            epoch_val_losses.append(np.mean(valid_losses))\n",
        "                \n",
        "            # print the results\n",
        "            print(\n",
        "                f'EPOCH: {epoch+1:0>{len(str(self.epochs))}}/{self.epochs}',\n",
        "                end=' '\n",
        "            )\n",
        "            print(f'LOSS: {np.mean(train_losses):.4f}',end=' ')\n",
        "            print(f'VAL-LOSS: {np.mean(valid_losses):.4f}',end='\\n')\n",
        "\n",
        "        return epoch_train_losses, epoch_val_losses\n",
        "        \n",
        "    def evaluate(self):\n",
        "\n",
        "        self.model.eval()\n",
        "        times = [0.5, 1, 1.5]\n",
        "        time_to_ind = {0.5:0, 1:1, 1.5:2}\n",
        "\n",
        "        with torch.no_grad():\n",
        "            loss = []\n",
        "            length = 0\n",
        "            for x,y,z in self.testing_DataLoader:\n",
        "                \n",
        "                x_sequence, y_sequence, lengths = x.float().to(self.device), y.float().to(self.device), z.float().to(self.device)\n",
        "                out = self.model(x_sequence, y_sequence)\n",
        "                loss_batch = 0\n",
        "                mask = (torch.arange(60)[None, :] < lengths.view(-1)[:, None]).unsqueeze(-1)\n",
        "                loss_batch += torch.mean(torch.sum((out*mask - y_sequence).pow(2), dim=[1,2]) / lengths.view(-1)) \n",
        "\n",
        "                loss.append(loss_batch)\n",
        "        print(f'Error: {np.mean(loss):.4f}')"
      ]
    },
    {
      "cell_type": "markdown",
      "id": "c87278a2",
      "metadata": {
        "id": "c87278a2"
      },
      "source": [
        "## Evaluation"
      ]
    },
    {
      "cell_type": "code",
      "execution_count": 85,
      "id": "2cbb6137",
      "metadata": {
        "id": "2cbb6137"
      },
      "outputs": [
        {
          "name": "stderr",
          "output_type": "stream",
          "text": [
            "c:\\Users\\onii-chan\\anaconda3\\lib\\site-packages\\torch\\nn\\modules\\rnn.py:62: UserWarning: dropout option adds dropout after all but last recurrent layer, so non-zero dropout expects num_layers greater than 1, but got dropout=0.5 and num_layers=1\n",
            "  warnings.warn(\"dropout option adds dropout after all but last \"\n",
            "  5%|▌         | 1/20 [00:01<00:36,  1.92s/it]"
          ]
        },
        {
          "name": "stdout",
          "output_type": "stream",
          "text": [
            "EPOCH: 01/20 LOSS: 4.0825 VAL-LOSS: 4.4322\n"
          ]
        },
        {
          "name": "stderr",
          "output_type": "stream",
          "text": [
            " 10%|█         | 2/20 [00:03<00:33,  1.86s/it]"
          ]
        },
        {
          "name": "stdout",
          "output_type": "stream",
          "text": [
            "EPOCH: 02/20 LOSS: 3.8802 VAL-LOSS: 4.2778\n"
          ]
        },
        {
          "name": "stderr",
          "output_type": "stream",
          "text": [
            " 15%|█▌        | 3/20 [00:05<00:30,  1.79s/it]"
          ]
        },
        {
          "name": "stdout",
          "output_type": "stream",
          "text": [
            "EPOCH: 03/20 LOSS: 3.8492 VAL-LOSS: 4.0551\n"
          ]
        },
        {
          "name": "stderr",
          "output_type": "stream",
          "text": [
            " 20%|██        | 4/20 [00:07<00:28,  1.75s/it]"
          ]
        },
        {
          "name": "stdout",
          "output_type": "stream",
          "text": [
            "EPOCH: 04/20 LOSS: 3.5875 VAL-LOSS: 4.0937\n"
          ]
        },
        {
          "name": "stderr",
          "output_type": "stream",
          "text": [
            " 25%|██▌       | 5/20 [00:08<00:26,  1.74s/it]"
          ]
        },
        {
          "name": "stdout",
          "output_type": "stream",
          "text": [
            "EPOCH: 05/20 LOSS: 3.6313 VAL-LOSS: 3.6563\n"
          ]
        },
        {
          "name": "stderr",
          "output_type": "stream",
          "text": [
            " 30%|███       | 6/20 [00:10<00:24,  1.74s/it]"
          ]
        },
        {
          "name": "stdout",
          "output_type": "stream",
          "text": [
            "EPOCH: 06/20 LOSS: 3.1282 VAL-LOSS: 3.4847\n"
          ]
        },
        {
          "name": "stderr",
          "output_type": "stream",
          "text": [
            " 35%|███▌      | 7/20 [00:12<00:22,  1.73s/it]"
          ]
        },
        {
          "name": "stdout",
          "output_type": "stream",
          "text": [
            "EPOCH: 07/20 LOSS: 2.6386 VAL-LOSS: 3.0876\n"
          ]
        },
        {
          "name": "stderr",
          "output_type": "stream",
          "text": [
            " 40%|████      | 8/20 [00:14<00:20,  1.74s/it]"
          ]
        },
        {
          "name": "stdout",
          "output_type": "stream",
          "text": [
            "EPOCH: 08/20 LOSS: 2.4266 VAL-LOSS: 2.3425\n"
          ]
        },
        {
          "name": "stderr",
          "output_type": "stream",
          "text": [
            " 45%|████▌     | 9/20 [00:15<00:19,  1.74s/it]"
          ]
        },
        {
          "name": "stdout",
          "output_type": "stream",
          "text": [
            "EPOCH: 09/20 LOSS: 2.0011 VAL-LOSS: 1.8586\n"
          ]
        },
        {
          "name": "stderr",
          "output_type": "stream",
          "text": [
            " 50%|█████     | 10/20 [00:17<00:17,  1.74s/it]"
          ]
        },
        {
          "name": "stdout",
          "output_type": "stream",
          "text": [
            "EPOCH: 10/20 LOSS: 1.5756 VAL-LOSS: 1.5825\n"
          ]
        },
        {
          "name": "stderr",
          "output_type": "stream",
          "text": [
            " 55%|█████▌    | 11/20 [00:19<00:15,  1.75s/it]"
          ]
        },
        {
          "name": "stdout",
          "output_type": "stream",
          "text": [
            "EPOCH: 11/20 LOSS: 1.2529 VAL-LOSS: 1.1462\n"
          ]
        },
        {
          "name": "stderr",
          "output_type": "stream",
          "text": [
            " 60%|██████    | 12/20 [00:21<00:13,  1.74s/it]"
          ]
        },
        {
          "name": "stdout",
          "output_type": "stream",
          "text": [
            "EPOCH: 12/20 LOSS: 1.0964 VAL-LOSS: 0.9927\n"
          ]
        },
        {
          "name": "stderr",
          "output_type": "stream",
          "text": [
            " 65%|██████▌   | 13/20 [00:22<00:12,  1.74s/it]"
          ]
        },
        {
          "name": "stdout",
          "output_type": "stream",
          "text": [
            "EPOCH: 13/20 LOSS: 0.7519 VAL-LOSS: 0.9023\n"
          ]
        },
        {
          "name": "stderr",
          "output_type": "stream",
          "text": [
            " 70%|███████   | 14/20 [00:24<00:10,  1.74s/it]"
          ]
        },
        {
          "name": "stdout",
          "output_type": "stream",
          "text": [
            "EPOCH: 14/20 LOSS: 0.6271 VAL-LOSS: 0.8209\n"
          ]
        },
        {
          "name": "stderr",
          "output_type": "stream",
          "text": [
            " 75%|███████▌  | 15/20 [00:26<00:08,  1.76s/it]"
          ]
        },
        {
          "name": "stdout",
          "output_type": "stream",
          "text": [
            "EPOCH: 15/20 LOSS: 0.5367 VAL-LOSS: 0.8167\n"
          ]
        },
        {
          "name": "stderr",
          "output_type": "stream",
          "text": [
            " 80%|████████  | 16/20 [00:28<00:07,  1.75s/it]"
          ]
        },
        {
          "name": "stdout",
          "output_type": "stream",
          "text": [
            "EPOCH: 16/20 LOSS: 0.4847 VAL-LOSS: 0.6676\n"
          ]
        },
        {
          "name": "stderr",
          "output_type": "stream",
          "text": [
            " 85%|████████▌ | 17/20 [00:29<00:05,  1.76s/it]"
          ]
        },
        {
          "name": "stdout",
          "output_type": "stream",
          "text": [
            "EPOCH: 17/20 LOSS: 0.4676 VAL-LOSS: 0.7321\n"
          ]
        },
        {
          "name": "stderr",
          "output_type": "stream",
          "text": [
            " 90%|█████████ | 18/20 [00:31<00:03,  1.77s/it]"
          ]
        },
        {
          "name": "stdout",
          "output_type": "stream",
          "text": [
            "EPOCH: 18/20 LOSS: 0.4705 VAL-LOSS: 0.6166\n"
          ]
        },
        {
          "name": "stderr",
          "output_type": "stream",
          "text": [
            " 95%|█████████▌| 19/20 [00:33<00:01,  1.75s/it]"
          ]
        },
        {
          "name": "stdout",
          "output_type": "stream",
          "text": [
            "EPOCH: 19/20 LOSS: 0.3841 VAL-LOSS: 0.5867\n"
          ]
        },
        {
          "name": "stderr",
          "output_type": "stream",
          "text": [
            "100%|██████████| 20/20 [00:35<00:00,  1.75s/it]"
          ]
        },
        {
          "name": "stdout",
          "output_type": "stream",
          "text": [
            "EPOCH: 20/20 LOSS: 0.4007 VAL-LOSS: 0.6593\n"
          ]
        },
        {
          "name": "stderr",
          "output_type": "stream",
          "text": [
            "\n"
          ]
        },
        {
          "name": "stdout",
          "output_type": "stream",
          "text": [
            "Error: 0.3325\n"
          ]
        }
      ],
      "source": [
        "if torch.cuda.is_available():\n",
        "        device = torch.device('cuda')\n",
        "else:\n",
        "        device=torch.device('cpu')\n",
        "\n",
        "model = Seq2SeqARG(coord_shape = 2, emb_dim = 8, hid_dim = 16, n_layers = 1, dropout = 0.5).to(device)\n",
        "criterion = torch.nn.MSELoss()\n",
        "optimizer = torch.optim.Adam(model.parameters(), lr=0.01)\n",
        "\n",
        "TrainingProcedure = Trainer32(model, \n",
        "                                device, \n",
        "                                criterion, \n",
        "                                optimizer,\n",
        "                                train_dataloader_32,\n",
        "                                valid_dataloader_32,\n",
        "                                test_dataloader_32,\n",
        "                                epochs = 20)\n",
        "\n",
        "train_loss, val_loss = TrainingProcedure.run_trainer()\n",
        "TrainingProcedure.evaluate()"
      ]
    }
  ],
  "metadata": {
    "colab": {
      "name": "a3_skeleton.ipynb",
      "provenance": []
    },
    "kernelspec": {
      "display_name": "Python 3",
      "language": "python",
      "name": "python3"
    },
    "language_info": {
      "codemirror_mode": {
        "name": "ipython",
        "version": 3
      },
      "file_extension": ".py",
      "mimetype": "text/x-python",
      "name": "python",
      "nbconvert_exporter": "python",
      "pygments_lexer": "ipython3",
      "version": "3.8.8"
    }
  },
  "nbformat": 4,
  "nbformat_minor": 5
}
