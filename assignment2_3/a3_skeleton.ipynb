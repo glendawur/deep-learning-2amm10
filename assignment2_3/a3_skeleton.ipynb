{
 "cells": [
  {
   "cell_type": "markdown",
   "id": "bd8459f1",
   "metadata": {
    "id": "bd8459f1"
   },
   "source": [
    "# Group Number: 32\n",
    "\n",
    "# Student 1: Ryan Meghoe\n",
    "\n",
    "# Student 2: Nikita Jain\n",
    "\n",
    "# Student 3: Andrei Rykov"
   ]
  },
  {
   "cell_type": "markdown",
   "id": "2ca987ad",
   "metadata": {},
   "source": [
    "# Downloading Data and Preliminaries\n"
   ]
  },
  {
   "cell_type": "code",
   "execution_count": 1,
   "id": "7d0580a5",
   "metadata": {
    "id": "7d0580a5"
   },
   "outputs": [],
   "source": [
    "import pickle\n",
    "import matplotlib.pyplot as plt\n",
    "import matplotlib\n",
    "import numpy as np\n",
    "\n",
    "from zipfile import ZipFile\n",
    "import requests\n",
    "import io"
   ]
  },
  {
   "cell_type": "code",
   "execution_count": 2,
   "id": "8ce00edc",
   "metadata": {
    "id": "8ce00edc"
   },
   "outputs": [],
   "source": [
    "def load_zip(url):\n",
    "    response = requests.get(url)\n",
    "    response.raise_for_status()\n",
    "    zipf = ZipFile(io.BytesIO(response.content))\n",
    "    return {name: zipf.read(name) for name in zipf.namelist()}\n",
    "\n",
    "def load_pickle(zipfile, fn):\n",
    "    return pickle.load(io.BytesIO(zipfile[fn]))"
   ]
  },
  {
   "cell_type": "code",
   "execution_count": 3,
   "id": "bb77a4be",
   "metadata": {
    "id": "bb77a4be"
   },
   "outputs": [],
   "source": [
    "data = load_zip('https://surfdrive.surf.nl/files/index.php/s/cwqGaS22KXgnXtg/download')\n",
    "\n",
    "    \n",
    "\"\"\"\n",
    "simulation_{train, valid, test} is stored as a list of simulations. \n",
    "Each simulation is a numpy array of size (t, 2): For t timesteps an x and y coordinate of our particle.\n",
    "\"\"\"\n",
    "simulation_train = load_pickle(data, 'data/train/simulation.pickle')  # 3.1 + 3.2\n",
    "simulation_valid = load_pickle(data, 'data/valid/simulation.pickle')  # 3.1 + 3.2\n",
    "simulation_test = load_pickle(data, 'data/test/simulation.pickle')  # 3.1 + 3.2\n",
    "\n",
    "\"\"\"\n",
    "charges_{train, valid, test} is stored as a list of simulation-charges. \n",
    "These charges are stored as numpy arrays of size (3,): One value for each charge.\n",
    "\"\"\"\n",
    "charges_train = load_pickle(data, 'data/train/charges.pickle')  # 3.1\n",
    "charges_valid = load_pickle(data, 'data/valid/charges.pickle')  # 3.1\n",
    "charges_test = load_pickle(data, 'data/test/charges.pickle')  # 3.1\n",
    "\n",
    "\"\"\"\n",
    "simulation_continued_{train, valid, test} is stored as a list of simulations. \n",
    "Each simulation is a numpy array of size (t, 2): For t timesteps an x and y coordinate of our particle.\n",
    "\"\"\"\n",
    "simulation_continued_train = load_pickle(data, 'data/train/simulation_continued.pickle')  # 3.2\n",
    "simulation_continued_valid = load_pickle(data, 'data/valid/simulation_continued.pickle')  # 3.2\n",
    "simulation_continued_test = load_pickle(data, 'data/test/simulation_continued.pickle')  # 3.2\n",
    "\n",
    "\"\"\"\n",
    "Note that the indices are shared throughout the different lists, e.g., for the 4th training simulation:\n",
    "simulation_train[3] contains its initial simulation\n",
    "charges_train[3] contains the charges associated with the simulation\n",
    "simulation_continued_train[3] contains the continuation of the simulation \n",
    "                --> simulation_continued_train[3][0] is the state after simulation_train[3][-1]\n",
    "\"\"\"\n",
    "pass"
   ]
  },
  {
   "cell_type": "code",
   "execution_count": 4,
   "id": "10a3438a",
   "metadata": {
    "id": "10a3438a",
    "outputId": "3650d27b-c7e1-4650-c81b-b2b6ebcd8f82"
   },
   "outputs": [
    {
     "name": "stdout",
     "output_type": "stream",
     "text": [
      "Overview of no. datapoints:\n",
      "\n",
      "Task 3.1:\n",
      "800 train, 100 validation, 100 test simulations\n",
      "800 train, 100 validation, 100 test charge pairs\n",
      "\n",
      "Task 3.2:\n",
      "Since len(simulation_continued_train) < len(simulation_train), we can only use a subset of initial simulations\n",
      "We cut simulation_train down to the first 150 samples in simulation_train_task32\n",
      "150 train, 100 validation, 100 test simulations\n",
      "150 train, 100 validation, 100 test continuations\n",
      "\n",
      "For task 3.1, use:\n",
      "simulation_train + charges_train\n",
      "simulation_valid + charges_valid\n",
      "simulation_test + charges_test\n",
      "\n",
      "For task 3.2, use:\n",
      "simulation_train_task32 + simulation_continued_train\n",
      "simulation_valid + simulation_continued_valid\n",
      "simulation_test + simulation_continued_test\n",
      "\n"
     ]
    }
   ],
   "source": [
    "print('Overview of no. datapoints:\\n')\n",
    "\n",
    "print('Task 3.1:')\n",
    "print(f'{len(simulation_train)} train, {len(simulation_valid)} validation, {len(simulation_test)} test simulations')\n",
    "print(f'{len(charges_train)} train, {len(charges_valid)} validation, {len(charges_test)} test charge pairs')\n",
    "print()\n",
    "\n",
    "print('Task 3.2:')\n",
    "print('Since len(simulation_continued_train) < len(simulation_train), we can only use a subset of initial simulations')\n",
    "print('We cut simulation_train down to the first 150 samples in simulation_train_task32')\n",
    "simulation_train_task32 = simulation_train[:150]\n",
    "print(f'{len(simulation_train_task32)} train, {len(simulation_valid)} validation, {len(simulation_test)} test simulations')\n",
    "print(f'{len(simulation_continued_train)} train, {len(simulation_continued_valid)} validation, {len(simulation_continued_test)} test continuations')\n",
    "\n",
    "print(f\"\"\"\n",
    "For task 3.1, use:\n",
    "{chr(10).join([\"simulation_{} + charges_{}\".format(t, t) for t in [\"train\", \"valid\", \"test\"]])}\n",
    "\n",
    "For task 3.2, use:\n",
    "{chr(10).join([\"simulation_{} + simulation_continued_{}\".format(*((t[0], t[1]) if isinstance(t, tuple) else (t, t))) for t in [(\"train_task32\", \"train\"), \"valid\", \"test\"]])}\n",
    "\"\"\")\n"
   ]
  },
  {
   "cell_type": "code",
   "execution_count": 5,
   "id": "3cfafdb3",
   "metadata": {
    "id": "3cfafdb3",
    "outputId": "42ffce38-a6f3-4219-c759-ee0b42d6c44f"
   },
   "outputs": [
    {
     "name": "stdout",
     "output_type": "stream",
     "text": [
      "Print some shapes:\n",
      "\n",
      "simulation_train[0].shape: (103, 2) -> (t, 2), (x, y) at every t)\n",
      "charges_train[0].shape: (3,) -> charges for the simulation\n",
      "simulation_continued_train[0].shape: (54, 2) -> (t, 2), (x, y) at every t)\n",
      "----\n",
      "\n",
      "simulation_train[1].shape: (97, 2) -> (t, 2), (x, y) at every t)\n",
      "charges_train[1].shape: (3,) -> charges for the simulation\n",
      "simulation_continued_train[1].shape: (45, 2) -> (t, 2), (x, y) at every t)\n",
      "----\n",
      "\n",
      "simulation_train[2].shape: (99, 2) -> (t, 2), (x, y) at every t)\n",
      "charges_train[2].shape: (3,) -> charges for the simulation\n",
      "simulation_continued_train[2].shape: (47, 2) -> (t, 2), (x, y) at every t)\n",
      "----\n",
      "\n"
     ]
    }
   ],
   "source": [
    "print('Print some shapes:\\n')\n",
    "for i in range(3):\n",
    "    print('simulation_train[{}].shape:'.format(i), simulation_train[i].shape, '-> (t, 2), (x, y) at every t)')\n",
    "    print('charges_train[{}].shape:'.format(i), charges_train[i].shape, '-> charges for the simulation')\n",
    "    print('simulation_continued_train[{}].shape:'.format(i), simulation_continued_train[i].shape, '-> (t, 2), (x, y) at every t)')\n",
    "    print('----\\n')"
   ]
  },
  {
   "cell_type": "code",
   "execution_count": 6,
   "id": "f9106543",
   "metadata": {
    "id": "f9106543"
   },
   "outputs": [],
   "source": [
    "def plot_example(x, x_gt=None, x_pred=None, fn=None):\n",
    "    charge_locations = np.array([[-1.53846154, -1.53846154],\n",
    "                                 [ 1.53846154, -1.53846154],\n",
    "                                 [ 0.        ,  1.53846154]])  # charge locations are fixed\n",
    "    fig = plt.figure()\n",
    "    axes = plt.gca()\n",
    "    axes.set_xlim([-5., 5.])\n",
    "    axes.set_ylim([-5., 5.])\n",
    "    cmap = matplotlib.cm.get_cmap('tab20')\n",
    "    plt.plot(x[:, 0], x[:, 1], color=cmap(0))\n",
    "    plt.plot(x[0, 0], x[0, 1], 'd', color=cmap(1))\n",
    "    fig.set_size_inches(5, 5)\n",
    "    for charge in charge_locations:\n",
    "        plt.plot(charge[0], charge[1], 'd', color='black')\n",
    "    if x_gt is not None:\n",
    "        plt.plot(x_gt[:, 0], x_gt[:, 1], color='red', linewidth=.5)\n",
    "    if x_pred is not None:\n",
    "        plt.plot(x_pred[:, 0], x_pred[:, 1], color='green', linestyle='--')\n",
    "    if fn is None:\n",
    "        plt.show()\n",
    "    else:\n",
    "        plt.savefig(fn)"
   ]
  },
  {
   "cell_type": "code",
   "execution_count": 7,
   "id": "d28681a6",
   "metadata": {
    "id": "d28681a6",
    "outputId": "c34406d9-7732-4d6b-a092-d32025eaa83a"
   },
   "outputs": [
    {
     "data": {
      "image/png": "[encoded data removed]",
      "text/plain": [
       "<Figure size 360x360 with 1 Axes>"
      ]
     },
     "metadata": {
      "needs_background": "light"
     },
     "output_type": "display_data"
    },
    {
     "name": "stdout",
     "output_type": "stream",
     "text": [
      "Charges are [-0.95420408 -0.57435255 -0.99420185]\n"
     ]
    }
   ],
   "source": [
    "test_idx = np.random.randint(150)\n",
    "plot_example(simulation_train[test_idx], simulation_continued_train[test_idx])\n",
    "print(f'Charges are {charges_train[test_idx]}')"
   ]
  },
  {
   "cell_type": "markdown",
   "id": "4c1ddabe",
   "metadata": {
    "id": "4c1ddabe"
   },
   "source": [
    "## Data Handling and Preprocessing"
   ]
  },
  {
   "cell_type": "code",
   "execution_count": 8,
   "id": "bd9df856",
   "metadata": {
    "id": "bd9df856"
   },
   "outputs": [],
   "source": [
    "import torch.nn.functional as f\n",
    "import torch\n",
    "\n",
    "lengths_train = torch.Tensor(list(map(lambda x: x.shape[0], simulation_continued_train))).unsqueeze(-1)\n",
    "lengths_valid = torch.Tensor(list(map(lambda x: x.shape[0], simulation_continued_valid))).unsqueeze(-1)\n",
    "lengths_test = torch.Tensor(list(map(lambda x: x.shape[0], simulation_continued_test))).unsqueeze(-1)\n",
    "\n",
    "\n",
    "simulation_train = torch.cat(list(map(lambda x: f.pad(torch.Tensor(x), pad=(0, 0, 110 - x.shape[0], 0)).unsqueeze(0), simulation_train)))\n",
    "simulation_valid = torch.cat(list(map(lambda x: f.pad(torch.Tensor(x), pad=(0, 0, 110 - x.shape[0], 0)).unsqueeze(0), simulation_valid)))\n",
    "simulation_test = torch.cat(list(map(lambda x: f.pad(torch.Tensor(x), pad=(0, 0, 110 - x.shape[0], 0)).unsqueeze(0), simulation_test)))\n",
    "\n",
    "\n",
    "simulation_continued_train = torch.cat(list(map(lambda x: f.pad(torch.Tensor(x), pad=(0, 0, 0, 60 - x.shape[0])).unsqueeze(0), simulation_continued_train)))\n",
    "simulation_continued_valid = torch.cat(list(map(lambda x: f.pad(torch.Tensor(x), pad=(0, 0, 0, 60 - x.shape[0])).unsqueeze(0), simulation_continued_valid)))\n",
    "simulation_continued_test = torch.cat(list(map(lambda x: f.pad(torch.Tensor(x), pad=(0, 0, 0, 60 - x.shape[0])).unsqueeze(0), simulation_continued_test)))\n",
    "\n",
    "\n",
    "charges_train = torch.cat(list(map(lambda x: torch.Tensor(x).unsqueeze(0), charges_train)))\n",
    "charges_valid = torch.cat(list(map(lambda x: torch.Tensor(x).unsqueeze(0), charges_valid)))\n",
    "charges_test = torch.cat(list(map(lambda x: torch.Tensor(x).unsqueeze(0), charges_test)))"
   ]
  },
  {
   "cell_type": "code",
   "execution_count": 9,
   "id": "7dd9b7c1",
   "metadata": {
    "id": "7dd9b7c1"
   },
   "outputs": [],
   "source": [
    "from torch.utils.data import TensorDataset, DataLoader\n",
    "\n",
    "train_dataset_31 = TensorDataset(simulation_train, charges_train)\n",
    "valid_dataset_31 = TensorDataset(simulation_valid, charges_valid)\n",
    "test_dataset_31 = TensorDataset(simulation_test, charges_test)\n",
    "\n",
    "train_dataset_32 = TensorDataset(simulation_train[:simulation_continued_train.shape[0]], simulation_continued_train, lengths_train)\n",
    "valid_dataset_32 = TensorDataset(simulation_valid[:simulation_continued_valid.shape[0]], simulation_continued_valid, lengths_valid)\n",
    "test_dataset_32 = TensorDataset(simulation_test[:simulation_continued_test.shape[0]], simulation_continued_test, lengths_test)"
   ]
  },
  {
   "cell_type": "code",
   "execution_count": 10,
   "id": "4ec1e03a",
   "metadata": {
    "id": "4ec1e03a"
   },
   "outputs": [],
   "source": [
    "batch_size = 64\n",
    "\n",
    "train_dataloader_31 = DataLoader(train_dataset_31, batch_size=batch_size, shuffle=True)\n",
    "valid_dataloader_31 = DataLoader(valid_dataset_31, batch_size=batch_size, shuffle=False)\n",
    "test_dataloader_31 = DataLoader(test_dataset_31, batch_size=batch_size, shuffle=False)\n",
    "\n",
    "train_dataloader_32 = DataLoader(train_dataset_32, batch_size=batch_size, shuffle=True)\n",
    "valid_dataloader_32 = DataLoader(valid_dataset_32, batch_size=batch_size, shuffle=False)\n",
    "test_dataloader_32 = DataLoader(test_dataset_32, batch_size=batch_size, shuffle=False)"
   ]
  },
  {
   "cell_type": "markdown",
   "id": "883762b1",
   "metadata": {
    "id": "883762b1"
   },
   "source": [
    "# Task 3.1"
   ]
  },
  {
   "cell_type": "markdown",
   "id": "cc8853f6",
   "metadata": {
    "id": "cc8853f6"
   },
   "source": [
    "## Model Implementation"
   ]
  },
  {
   "cell_type": "code",
   "execution_count": 37,
   "id": "8794a0cf",
   "metadata": {
    "id": "8794a0cf"
   },
   "outputs": [],
   "source": [
    "import torch\n",
    "import torch.nn as nn\n",
    "\n",
    "class Encoder(nn.Module):\n",
    "    def __init__(self, coord_shape, emb_dim, hid_dim, n_layers, dropout):\n",
    "        super(Encoder, self).__init__()\n",
    "        \n",
    "        self.hid_dim = hid_dim\n",
    "        self.n_layers = n_layers\n",
    "        \n",
    "        ### Your code here ###\n",
    "        self.embedding = nn.Sequential(nn.Linear(coord_shape, emb_dim),\n",
    "                                       nn.Dropout(dropout))\n",
    "        \n",
    "        self.rnn = nn.LSTM(emb_dim, hid_dim, n_layers, dropout = dropout, batch_first = True)\n",
    "        \n",
    "    def forward(self, x):\n",
    "        \n",
    "        x = self.embedding(x)\n",
    "        _, (hidden, cell) = self.rnn(x)\n",
    "\n",
    "        return hidden, cell\n",
    "\n"
   ]
  },
  {
   "cell_type": "code",
   "execution_count": 38,
   "id": "d62b5aa6",
   "metadata": {
    "id": "d62b5aa6"
   },
   "outputs": [],
   "source": [
    "class SequenceToCharge(nn.Module):\n",
    "    def __init__(self, coord_shape, emb_dim, hid_dim, n_layers, dropout,\n",
    "                 output_shape):\n",
    "        super(SequenceToCharge, self).__init__()\n",
    "\n",
    "        self.encoder = Encoder(coord_shape, emb_dim, hid_dim, n_layers, dropout)\n",
    "\n",
    "        self.dense = nn.Sequential(nn.Linear(hid_dim, 64),\n",
    "                                   nn.ReLU(),\n",
    "                                   nn.Dropout(0.6),\n",
    "                                   nn.Linear(64, output_shape),\n",
    "                                   nn.Sigmoid()\n",
    "                                  )\n",
    "\n",
    "    def forward(self, particle_trajectory):\n",
    "        hidden, _ = self.encoder(particle_trajectory)\n",
    "        output = self.dense(hidden[-1])\n",
    "\n",
    "        return output - 1"
   ]
  },
  {
   "cell_type": "markdown",
   "id": "0e443b7f",
   "metadata": {
    "id": "0e443b7f"
   },
   "source": [
    "## Model Training"
   ]
  },
  {
   "cell_type": "code",
   "execution_count": 39,
   "id": "58348edd",
   "metadata": {
    "id": "58348edd"
   },
   "outputs": [],
   "source": [
    "from tqdm import tqdm\n",
    "\n",
    "class Trainer31():\n",
    "    def __init__(self,\n",
    "                 model: torch.nn.Module,\n",
    "                 device: torch.device,\n",
    "                 criterion: torch.nn.Module,\n",
    "                 optimizer: torch.optim.Optimizer,\n",
    "                 training_DataLoader: torch.utils.data.Dataset,\n",
    "                 validation_DataLoader: torch.utils.data.Dataset ,\n",
    "                 testing_DataLoader: torch.utils.data.Dataset ,\n",
    "                 epochs: int\n",
    "                 ):\n",
    "        \n",
    "        self.model = model\n",
    "        self.criterion = criterion\n",
    "        self.optimizer = optimizer\n",
    "        self.training_DataLoader = training_DataLoader\n",
    "        self.validation_DataLoader = validation_DataLoader\n",
    "        self.testing_DataLoader = testing_DataLoader\n",
    "        self.device = device\n",
    "        self.epochs = epochs\n",
    "\n",
    "\n",
    "    def run_trainer(self):\n",
    "\n",
    "        epoch_train_losses = []\n",
    "        epoch_val_losses = []\n",
    "\n",
    "        for epoch in tqdm(range(self.epochs)):\n",
    "                 \n",
    "\n",
    "            self.model.train()  # train mode\n",
    "\n",
    "            train_losses=[]\n",
    "            \n",
    "            correct = 0\n",
    "            length = 0\n",
    "            for x, y in self.training_DataLoader:\n",
    "\n",
    "                sequence, charges = x.float().to(self.device), y.float().to(self.device) # send to device (GPU or CPU)\n",
    "\n",
    "                self.optimizer.zero_grad()  # zerograd the parameters\n",
    "\n",
    "                loss = 0\n",
    "                out = self.model(sequence)  # one forward pass\n",
    "\n",
    "                loss += self.criterion(out, charges)  # calculate loss\n",
    "                \n",
    "                loss_value = loss.item()\n",
    "                train_losses.append(loss_value)\n",
    "                 \n",
    "                loss.backward()  # one backward pass\n",
    "                self.optimizer.step()  # update the parameters\n",
    "            \n",
    "            epoch_train_losses.append(np.mean(train_losses))\n",
    "            self.model.eval()  # evaluation mode\n",
    "            valid_losses = []  # accumulate the losses here\n",
    "\n",
    "            correct = 0\n",
    "            length = 0\n",
    "            for x,  y in self.validation_DataLoader:\n",
    "\n",
    "                sequence, charges = x.float().to(self.device), y.float().to(self.device) # send to device (GPU or CPU)\n",
    "\n",
    "                with torch.no_grad():\n",
    "                    loss = 0\n",
    "                    \n",
    "                    out = self.model(sequence)  # one forward pass\n",
    "                    loss += self.criterion(out, charges)  # calculate loss\n",
    "                 \n",
    "                    loss_value = loss.item()\n",
    "                    valid_losses.append(loss_value)\n",
    "\n",
    "            epoch_val_losses.append(np.mean(valid_losses))\n",
    "                \n",
    "            # print the results\n",
    "            print(\n",
    "                f'EPOCH: {epoch+1:0>{len(str(self.epochs))}}/{self.epochs}',\n",
    "                end=' '\n",
    "            )\n",
    "            print(f'LOSS: {np.mean(train_losses):.4f}',end=' ')\n",
    "            print(f'VAL-LOSS: {np.mean(valid_losses):.4f}',end='\\n')\n",
    "\n",
    "        return epoch_train_losses, epoch_val_losses\n",
    "        \n",
    "    def evaluate(self):\n",
    "\n",
    "        self.model.eval()\n",
    "\n",
    "        with torch.no_grad():\n",
    "            loss = []\n",
    "            length = 0\n",
    "            for x,y in self.testing_DataLoader:\n",
    "                \n",
    "                sequence, charges = x.float().to(self.device), y.float().to(self.device)\n",
    "                out = self.model(sequence)\n",
    "                loss.append(self.criterion(out, charges))\n",
    "                \n",
    "        print(f'Error: {np.mean(loss):.4f}')\n",
    "        \n",
    "    def evaluate_train(self):\n",
    "\n",
    "        self.model.eval()\n",
    "\n",
    "        with torch.no_grad():\n",
    "            loss = []\n",
    "            length = 0\n",
    "            for x,y in self.training_DataLoader:\n",
    "                \n",
    "                sequence, charges = x.float().to(self.device), y.float().to(self.device)\n",
    "                out = self.model(sequence)\n",
    "                loss.append(self.criterion(out, charges))\n",
    "                \n",
    "        print(f'Error: {np.mean(loss):.4f}')"
   ]
  },
  {
   "cell_type": "markdown",
   "id": "da139d5b",
   "metadata": {
    "id": "da139d5b"
   },
   "source": [
    "## Evaluation"
   ]
  },
  {
   "cell_type": "code",
   "execution_count": 42,
   "id": "ebed03ba",
   "metadata": {
    "id": "ebed03ba"
   },
   "outputs": [
    {
     "name": "stderr",
     "output_type": "stream",
     "text": [
      "  4%|███▎                                                                               | 1/25 [00:00<00:09,  2.56it/s]"
     ]
    },
    {
     "name": "stdout",
     "output_type": "stream",
     "text": [
      "EPOCH: 01/25 LOSS: 0.2463 VAL-LOSS: 0.2645\n"
     ]
    },
    {
     "name": "stderr",
     "output_type": "stream",
     "text": [
      "\r",
      "  8%|██████▋                                                                            | 2/25 [00:00<00:09,  2.45it/s]"
     ]
    },
    {
     "name": "stdout",
     "output_type": "stream",
     "text": [
      "EPOCH: 02/25 LOSS: 0.2441 VAL-LOSS: 0.2599\n"
     ]
    },
    {
     "name": "stderr",
     "output_type": "stream",
     "text": [
      "\r",
      " 12%|█████████▉                                                                         | 3/25 [00:01<00:08,  2.46it/s]"
     ]
    },
    {
     "name": "stdout",
     "output_type": "stream",
     "text": [
      "EPOCH: 03/25 LOSS: 0.2398 VAL-LOSS: 0.2581\n"
     ]
    },
    {
     "name": "stderr",
     "output_type": "stream",
     "text": [
      "\r",
      " 16%|█████████████▎                                                                     | 4/25 [00:01<00:08,  2.39it/s]"
     ]
    },
    {
     "name": "stdout",
     "output_type": "stream",
     "text": [
      "EPOCH: 04/25 LOSS: 0.2409 VAL-LOSS: 0.2625\n"
     ]
    },
    {
     "name": "stderr",
     "output_type": "stream",
     "text": [
      "\r",
      " 20%|████████████████▌                                                                  | 5/25 [00:02<00:08,  2.40it/s]"
     ]
    },
    {
     "name": "stdout",
     "output_type": "stream",
     "text": [
      "EPOCH: 05/25 LOSS: 0.2382 VAL-LOSS: 0.2547\n"
     ]
    },
    {
     "name": "stderr",
     "output_type": "stream",
     "text": [
      "\r",
      " 24%|███████████████████▉                                                               | 6/25 [00:02<00:07,  2.40it/s]"
     ]
    },
    {
     "name": "stdout",
     "output_type": "stream",
     "text": [
      "EPOCH: 06/25 LOSS: 0.2368 VAL-LOSS: 0.2509\n"
     ]
    },
    {
     "name": "stderr",
     "output_type": "stream",
     "text": [
      "\r",
      " 28%|███████████████████████▏                                                           | 7/25 [00:02<00:07,  2.43it/s]"
     ]
    },
    {
     "name": "stdout",
     "output_type": "stream",
     "text": [
      "EPOCH: 07/25 LOSS: 0.2342 VAL-LOSS: 0.2458\n"
     ]
    },
    {
     "name": "stderr",
     "output_type": "stream",
     "text": [
      "\r",
      " 32%|██████████████████████████▌                                                        | 8/25 [00:03<00:07,  2.38it/s]"
     ]
    },
    {
     "name": "stdout",
     "output_type": "stream",
     "text": [
      "EPOCH: 08/25 LOSS: 0.2306 VAL-LOSS: 0.2399\n"
     ]
    },
    {
     "name": "stderr",
     "output_type": "stream",
     "text": [
      "\r",
      " 36%|█████████████████████████████▉                                                     | 9/25 [00:03<00:06,  2.31it/s]"
     ]
    },
    {
     "name": "stdout",
     "output_type": "stream",
     "text": [
      "EPOCH: 09/25 LOSS: 0.2248 VAL-LOSS: 0.2309\n"
     ]
    },
    {
     "name": "stderr",
     "output_type": "stream",
     "text": [
      "\r",
      " 40%|████████████████████████████████▊                                                 | 10/25 [00:04<00:06,  2.25it/s]"
     ]
    },
    {
     "name": "stdout",
     "output_type": "stream",
     "text": [
      "EPOCH: 10/25 LOSS: 0.2256 VAL-LOSS: 0.2323\n"
     ]
    },
    {
     "name": "stderr",
     "output_type": "stream",
     "text": [
      "\r",
      " 44%|████████████████████████████████████                                              | 11/25 [00:04<00:06,  2.21it/s]"
     ]
    },
    {
     "name": "stdout",
     "output_type": "stream",
     "text": [
      "EPOCH: 11/25 LOSS: 0.2217 VAL-LOSS: 0.2436\n"
     ]
    },
    {
     "name": "stderr",
     "output_type": "stream",
     "text": [
      "\r",
      " 48%|███████████████████████████████████████▎                                          | 12/25 [00:05<00:05,  2.27it/s]"
     ]
    },
    {
     "name": "stdout",
     "output_type": "stream",
     "text": [
      "EPOCH: 12/25 LOSS: 0.2295 VAL-LOSS: 0.2257\n"
     ]
    },
    {
     "name": "stderr",
     "output_type": "stream",
     "text": [
      "\r",
      " 52%|██████████████████████████████████████████▋                                       | 13/25 [00:05<00:05,  2.27it/s]"
     ]
    },
    {
     "name": "stdout",
     "output_type": "stream",
     "text": [
      "EPOCH: 13/25 LOSS: 0.2218 VAL-LOSS: 0.2225\n"
     ]
    },
    {
     "name": "stderr",
     "output_type": "stream",
     "text": [
      "\r",
      " 56%|█████████████████████████████████████████████▉                                    | 14/25 [00:06<00:04,  2.27it/s]"
     ]
    },
    {
     "name": "stdout",
     "output_type": "stream",
     "text": [
      "EPOCH: 14/25 LOSS: 0.2203 VAL-LOSS: 0.2191\n"
     ]
    },
    {
     "name": "stderr",
     "output_type": "stream",
     "text": [
      "\r",
      " 60%|█████████████████████████████████████████████████▏                                | 15/25 [00:06<00:04,  2.34it/s]"
     ]
    },
    {
     "name": "stdout",
     "output_type": "stream",
     "text": [
      "EPOCH: 15/25 LOSS: 0.2224 VAL-LOSS: 0.2184\n"
     ]
    },
    {
     "name": "stderr",
     "output_type": "stream",
     "text": [
      "\r",
      " 64%|████████████████████████████████████████████████████▍                             | 16/25 [00:06<00:03,  2.35it/s]"
     ]
    },
    {
     "name": "stdout",
     "output_type": "stream",
     "text": [
      "EPOCH: 16/25 LOSS: 0.2174 VAL-LOSS: 0.2162\n"
     ]
    },
    {
     "name": "stderr",
     "output_type": "stream",
     "text": [
      "\r",
      " 68%|███████████████████████████████████████████████████████▊                          | 17/25 [00:07<00:03,  2.35it/s]"
     ]
    },
    {
     "name": "stdout",
     "output_type": "stream",
     "text": [
      "EPOCH: 17/25 LOSS: 0.2146 VAL-LOSS: 0.2163\n"
     ]
    },
    {
     "name": "stderr",
     "output_type": "stream",
     "text": [
      "\r",
      " 72%|███████████████████████████████████████████████████████████                       | 18/25 [00:07<00:03,  2.31it/s]"
     ]
    },
    {
     "name": "stdout",
     "output_type": "stream",
     "text": [
      "EPOCH: 18/25 LOSS: 0.2073 VAL-LOSS: 0.2101\n"
     ]
    },
    {
     "name": "stderr",
     "output_type": "stream",
     "text": [
      "\r",
      " 76%|██████████████████████████████████████████████████████████████▎                   | 19/25 [00:08<00:02,  2.38it/s]"
     ]
    },
    {
     "name": "stdout",
     "output_type": "stream",
     "text": [
      "EPOCH: 19/25 LOSS: 0.2041 VAL-LOSS: 0.1949\n"
     ]
    },
    {
     "name": "stderr",
     "output_type": "stream",
     "text": [
      "\r",
      " 80%|█████████████████████████████████████████████████████████████████▌                | 20/25 [00:08<00:02,  2.34it/s]"
     ]
    },
    {
     "name": "stdout",
     "output_type": "stream",
     "text": [
      "EPOCH: 20/25 LOSS: 0.1953 VAL-LOSS: 0.1867\n"
     ]
    },
    {
     "name": "stderr",
     "output_type": "stream",
     "text": [
      "\r",
      " 84%|████████████████████████████████████████████████████████████████████▉             | 21/25 [00:08<00:01,  2.34it/s]"
     ]
    },
    {
     "name": "stdout",
     "output_type": "stream",
     "text": [
      "EPOCH: 21/25 LOSS: 0.1924 VAL-LOSS: 0.1928\n"
     ]
    },
    {
     "name": "stderr",
     "output_type": "stream",
     "text": [
      "\r",
      " 88%|████████████████████████████████████████████████████████████████████████▏         | 22/25 [00:09<00:01,  2.28it/s]"
     ]
    },
    {
     "name": "stdout",
     "output_type": "stream",
     "text": [
      "EPOCH: 22/25 LOSS: 0.1954 VAL-LOSS: 0.1873\n"
     ]
    },
    {
     "name": "stderr",
     "output_type": "stream",
     "text": [
      "\r",
      " 92%|███████████████████████████████████████████████████████████████████████████▍      | 23/25 [00:09<00:00,  2.26it/s]"
     ]
    },
    {
     "name": "stdout",
     "output_type": "stream",
     "text": [
      "EPOCH: 23/25 LOSS: 0.1895 VAL-LOSS: 0.1924\n"
     ]
    },
    {
     "name": "stderr",
     "output_type": "stream",
     "text": [
      "\r",
      " 96%|██████████████████████████████████████████████████████████████████████████████▋   | 24/25 [00:10<00:00,  2.23it/s]"
     ]
    },
    {
     "name": "stdout",
     "output_type": "stream",
     "text": [
      "EPOCH: 24/25 LOSS: 0.1849 VAL-LOSS: 0.1855\n"
     ]
    },
    {
     "name": "stderr",
     "output_type": "stream",
     "text": [
      "100%|██████████████████████████████████████████████████████████████████████████████████| 25/25 [00:10<00:00,  2.32it/s]"
     ]
    },
    {
     "name": "stdout",
     "output_type": "stream",
     "text": [
      "EPOCH: 25/25 LOSS: 0.1798 VAL-LOSS: 0.1744\n",
      "Error: 0.1706\n",
      "Error: 0.1650\n"
     ]
    },
    {
     "name": "stderr",
     "output_type": "stream",
     "text": [
      "\n"
     ]
    }
   ],
   "source": [
    "if torch.cuda.is_available():\n",
    "        device = torch.device('cuda')\n",
    "else:\n",
    "        device=torch.device('cpu')\n",
    "\n",
    "model = SequenceToCharge(coord_shape = 2, emb_dim = 8, hid_dim = 16, n_layers = 1, dropout = 0.5, \n",
    "                         output_shape = 3).to(device)\n",
    "criterion = torch.nn.L1Loss()\n",
    "optimizer = torch.optim.Adam(model.parameters(), lr=0.01)\n",
    "\n",
    "TrainingProcedure = Trainer31(model, \n",
    "                                device, \n",
    "                                criterion, \n",
    "                                optimizer,\n",
    "                                train_dataloader_31,\n",
    "                                valid_dataloader_31,\n",
    "                                test_dataloader_31,\n",
    "                                epochs = 25)\n",
    "\n",
    "train_loss, val_loss = TrainingProcedure.run_trainer()\n",
    "TrainingProcedure.evaluate()\n",
    "TrainingProcedure.evaluate_train()"
   ]
  },
  {
   "cell_type": "markdown",
   "id": "314afb95",
   "metadata": {},
   "source": [
    "### Look at the errors"
   ]
  },
  {
   "cell_type": "code",
   "execution_count": 47,
   "id": "17af7ec3",
   "metadata": {
    "id": "17af7ec3"
   },
   "outputs": [],
   "source": [
    "predicted_charges = model(simulation_test)\n",
    "indices = np.argsort(((predicted_charges - charges_test)**2).sqrt().mean(axis = 1).detach().numpy())[-5:]"
   ]
  },
  {
   "cell_type": "code",
   "execution_count": 48,
   "id": "2aa7edef",
   "metadata": {},
   "outputs": [
    {
     "name": "stdout",
     "output_type": "stream",
     "text": [
      "Predicted Charges: tensor([-0.2247, -0.6952, -0.2003]), Actual Charges: tensor([-0.9535, -0.7526, -0.0825])\n",
      "The length of the given sequence: 100\n"
     ]
    },
    {
     "data": {
      "image/png": "[encoded data removed]",
      "text/plain": [
       "<Figure size 360x360 with 1 Axes>"
      ]
     },
     "metadata": {
      "needs_background": "light"
     },
     "output_type": "display_data"
    }
   ],
   "source": [
    "print(f'Predicted Charges: {predicted_charges[indices[0]].detach()}, Actual Charges: {charges_test[indices[0]]}')\n",
    "print(f'The length of the given sequence: {((simulation_test[indices[0]] != 0).sum(axis = 1) > 0).sum().item()}')\n",
    "plot_example(simulation_test[indices[0]])"
   ]
  },
  {
   "cell_type": "code",
   "execution_count": 49,
   "id": "1b129ce9",
   "metadata": {},
   "outputs": [
    {
     "name": "stdout",
     "output_type": "stream",
     "text": [
      "Predicted Charges: tensor([-0.6234, -0.3900, -0.1427]), Actual Charges: tensor([-0.1228, -0.0967, -0.2784])\n",
      "The length of the given sequence: 93\n"
     ]
    },
    {
     "data": {
      "image/png": "[encoded data removed]",
      "text/plain": [
       "<Figure size 360x360 with 1 Axes>"
      ]
     },
     "metadata": {
      "needs_background": "light"
     },
     "output_type": "display_data"
    }
   ],
   "source": [
    "print(f'Predicted Charges: {predicted_charges[indices[1]].detach()}, Actual Charges: {charges_test[indices[1]]}')\n",
    "print(f'The length of the given sequence: {((simulation_test[indices[1]] != 0).sum(axis = 1) > 0).sum().item()}')\n",
    "\n",
    "plot_example(simulation_test[indices[1]])"
   ]
  },
  {
   "cell_type": "code",
   "execution_count": 50,
   "id": "18616911",
   "metadata": {},
   "outputs": [
    {
     "name": "stdout",
     "output_type": "stream",
     "text": [
      "Predicted Charges: tensor([-0.7460, -0.4963, -0.5088]), Actual Charges: tensor([-0.9233, -0.1502, -0.0910])\n",
      "The length of the given sequence: 100\n"
     ]
    },
    {
     "data": {
      "image/png": "[encoded data removed]",
      "text/plain": [
       "<Figure size 360x360 with 1 Axes>"
      ]
     },
     "metadata": {
      "needs_background": "light"
     },
     "output_type": "display_data"
    }
   ],
   "source": [
    "print(f'Predicted Charges: {predicted_charges[indices[2]].detach()}, Actual Charges: {charges_test[indices[2]]}')\n",
    "print(f'The length of the given sequence: {((simulation_test[indices[2]] != 0).sum(axis = 1) > 0).sum().item()}')\n",
    "\n",
    "plot_example(simulation_test[indices[2]])"
   ]
  },
  {
   "cell_type": "code",
   "execution_count": 51,
   "id": "e4e78fdb",
   "metadata": {},
   "outputs": [
    {
     "name": "stdout",
     "output_type": "stream",
     "text": [
      "Predicted Charges: tensor([-0.4695, -0.4723, -0.0735]), Actual Charges: tensor([-0.0670, -0.1208, -0.2702])\n",
      "The length of the given sequence: 96\n"
     ]
    },
    {
     "data": {
      "image/png": "[encoded data removed]",
      "text/plain": [
       "<Figure size 360x360 with 1 Axes>"
      ]
     },
     "metadata": {
      "needs_background": "light"
     },
     "output_type": "display_data"
    }
   ],
   "source": [
    "print(f'Predicted Charges: {predicted_charges[indices[3]].detach()}, Actual Charges: {charges_test[indices[3]]}')\n",
    "print(f'The length of the given sequence: {((simulation_test[indices[3]] != 0).sum(axis = 1) > 0).sum().item()}')\n",
    "plot_example(simulation_test[indices[3]])"
   ]
  },
  {
   "cell_type": "code",
   "execution_count": 52,
   "id": "ee36f8c6",
   "metadata": {},
   "outputs": [
    {
     "name": "stdout",
     "output_type": "stream",
     "text": [
      "Predicted Charges: tensor([-0.5917, -0.5259, -0.6212]), Actual Charges: tensor([-0.2383, -0.3075, -0.1021])\n",
      "The length of the given sequence: 104\n"
     ]
    },
    {
     "data": {
      "image/png": "[encoded data removed]",
      "text/plain": [
       "<Figure size 360x360 with 1 Axes>"
      ]
     },
     "metadata": {
      "needs_background": "light"
     },
     "output_type": "display_data"
    }
   ],
   "source": [
    "print(f'Predicted Charges: {predicted_charges[indices[4]].detach()}, Actual Charges: {charges_test[indices[4]]}')\n",
    "print(f'The length of the given sequence: {((simulation_test[indices[4]] != 0).sum(axis = 1) > 0).sum().item()}')\n",
    "plot_example(simulation_test[indices[4]])"
   ]
  },
  {
   "cell_type": "markdown",
   "id": "3b34b30b",
   "metadata": {},
   "source": [
    "#### The most precisely predicted examples"
   ]
  },
  {
   "cell_type": "code",
   "execution_count": 53,
   "id": "8abf0958",
   "metadata": {},
   "outputs": [],
   "source": [
    "indices = np.argsort(((predicted_charges - charges_test)**2).sqrt().mean(axis = 1).detach().numpy())[:5]"
   ]
  },
  {
   "cell_type": "code",
   "execution_count": 59,
   "id": "2c2125e8",
   "metadata": {},
   "outputs": [
    {
     "name": "stdout",
     "output_type": "stream",
     "text": [
      "Predicted Charges: tensor([-0.7669, -0.2791, -0.5056])\n",
      "Actual Charges: tensor([-0.7552, -0.2015, -0.5135])\n"
     ]
    },
    {
     "data": {
      "image/png": "[encoded data removed]",
      "text/plain": [
       "<Figure size 360x360 with 1 Axes>"
      ]
     },
     "metadata": {
      "needs_background": "light"
     },
     "output_type": "display_data"
    }
   ],
   "source": [
    "#print(f'Predicted Charges: {predicted_charges[indices[0]].detach()}, Actual Charges: {charges_test[indices[0]]}')\n",
    "#print(f'The length of the given sequence: {((simulation_test[indices[0]] != 0).sum(axis = 1) > 0).sum().item()}')\n",
    "\n",
    "print(f'Predicted Charges: {predicted_charges[indices[0]].detach()}')\n",
    "print(f'Actual Charges: {charges_test[indices[0]]}')\n",
    "plot_example(simulation_test[indices[0]])"
   ]
  },
  {
   "cell_type": "code",
   "execution_count": 60,
   "id": "2edd20e6",
   "metadata": {},
   "outputs": [
    {
     "name": "stdout",
     "output_type": "stream",
     "text": [
      "Predicted Charges: tensor([-0.1806, -0.8127, -0.2214])\n",
      "Actual Charges: tensor([-0.2351, -0.7718, -0.1956])\n"
     ]
    },
    {
     "data": {
      "image/png": "[encoded data removed]",
      "text/plain": [
       "<Figure size 360x360 with 1 Axes>"
      ]
     },
     "metadata": {
      "needs_background": "light"
     },
     "output_type": "display_data"
    }
   ],
   "source": [
    "#print(f'Predicted Charges: {predicted_charges[indices[1]].detach()}, Actual Charges: {charges_test[indices[1]]}')\n",
    "#print(f'The length of the given sequence: {((simulation_test[indices[1]] != 0).sum(axis = 1) > 0).sum().item()}')\n",
    "\n",
    "print(f'Predicted Charges: {predicted_charges[indices[1]].detach()}')\n",
    "print(f'Actual Charges: {charges_test[indices[1]]}')\n",
    "plot_example(simulation_test[indices[1]])"
   ]
  },
  {
   "cell_type": "code",
   "execution_count": 61,
   "id": "229582a5",
   "metadata": {},
   "outputs": [
    {
     "name": "stdout",
     "output_type": "stream",
     "text": [
      "Predicted Charges: tensor([-0.3386, -0.2514, -0.7079])\n",
      "Actual Charges: tensor([-0.3362, -0.2264, -0.5834])\n"
     ]
    },
    {
     "data": {
      "image/png": "[encoded data removed]",
      "text/plain": [
       "<Figure size 360x360 with 1 Axes>"
      ]
     },
     "metadata": {
      "needs_background": "light"
     },
     "output_type": "display_data"
    }
   ],
   "source": [
    "#print(f'Predicted Charges: {predicted_charges[indices[2]].detach()}, Actual Charges: {charges_test[indices[2]]}')\n",
    "#print(f'The length of the given sequence: {((simulation_test[indices[2]] != 0).sum(axis = 1) > 0).sum().item()}')\n",
    "print(f'Predicted Charges: {predicted_charges[indices[2]].detach()}')\n",
    "print(f'Actual Charges: {charges_test[indices[2]]}')\n",
    "plot_example(simulation_test[indices[2]])"
   ]
  },
  {
   "cell_type": "code",
   "execution_count": 62,
   "id": "71b0d0cd",
   "metadata": {},
   "outputs": [
    {
     "name": "stdout",
     "output_type": "stream",
     "text": [
      "Predicted Charges: tensor([-0.4562, -0.6797, -0.7136])\n",
      "Actual Charges: tensor([-0.5242, -0.6315, -0.6610])\n"
     ]
    },
    {
     "data": {
      "image/png": "[encoded data removed]",
      "text/plain": [
       "<Figure size 360x360 with 1 Axes>"
      ]
     },
     "metadata": {
      "needs_background": "light"
     },
     "output_type": "display_data"
    }
   ],
   "source": [
    "#print(f'Predicted Charges: {predicted_charges[indices[3]].detach()}, Actual Charges: {charges_test[indices[3]]}')\n",
    "#print(f'The length of the given sequence: {((simulation_test[indices[3]] != 0).sum(axis = 1) > 0).sum().item()}')\n",
    "\n",
    "print(f'Predicted Charges: {predicted_charges[indices[3]].detach()}')\n",
    "print(f'Actual Charges: {charges_test[indices[3]]}')\n",
    "plot_example(simulation_test[indices[3]])"
   ]
  },
  {
   "cell_type": "code",
   "execution_count": 63,
   "id": "8f2d6412",
   "metadata": {},
   "outputs": [
    {
     "name": "stdout",
     "output_type": "stream",
     "text": [
      "Predicted Charges: tensor([-0.2598, -0.8670, -0.1738])\n",
      "Actual Charges: tensor([-0.1416, -0.8942, -0.1479])\n"
     ]
    },
    {
     "data": {
      "image/png": "[encoded data removed]",
      "text/plain": [
       "<Figure size 360x360 with 1 Axes>"
      ]
     },
     "metadata": {
      "needs_background": "light"
     },
     "output_type": "display_data"
    }
   ],
   "source": [
    "#print(f'Predicted Charges: {predicted_charges[indices[4]].detach()}, Actual Charges: {charges_test[indices[4]]}')\n",
    "#print(f'The length of the given sequence: {((simulation_test[indices[4]] != 0).sum(axis = 1) > 0).sum().item()}')\n",
    "\n",
    "print(f'Predicted Charges: {predicted_charges[indices[4]].detach()}')\n",
    "print(f'Actual Charges: {charges_test[indices[4]]}')\n",
    "plot_example(simulation_test[indices[4]])"
   ]
  },
  {
   "cell_type": "markdown",
   "id": "9a59808b",
   "metadata": {
    "id": "9a59808b"
   },
   "source": [
    "# Task 3.2"
   ]
  },
  {
   "cell_type": "markdown",
   "id": "867aabb3",
   "metadata": {
    "id": "867aabb3"
   },
   "source": [
    "## Model Implementation"
   ]
  },
  {
   "cell_type": "code",
   "execution_count": 171,
   "id": "0da72703",
   "metadata": {},
   "outputs": [],
   "source": [
    "import torch\n",
    "import torch.nn as nn\n",
    "\n",
    "class Encoder(nn.Module):\n",
    "    def __init__(self, coord_shape, emb_dim, hid_dim, n_layers, dropout):\n",
    "        super(Encoder, self).__init__()\n",
    "        \n",
    "        self.hid_dim = hid_dim\n",
    "        self.n_layers = n_layers\n",
    "        \n",
    "        ### Your code here ###\n",
    "        self.embedding = nn.Sequential(nn.Linear(coord_shape, emb_dim),\n",
    "                                       nn.Dropout(dropout))\n",
    "        \n",
    "        self.rnn = nn.LSTM(emb_dim, hid_dim, n_layers, dropout = dropout, batch_first = True)\n",
    "        \n",
    "    def forward(self, x):\n",
    "        \n",
    "        x = self.embedding(x)\n",
    "        _, (hidden, cell) = self.rnn(x)\n",
    "\n",
    "        return hidden, cell"
   ]
  },
  {
   "cell_type": "code",
   "execution_count": 172,
   "id": "36fe2739",
   "metadata": {
    "id": "36fe2739"
   },
   "outputs": [],
   "source": [
    "class Decoder(nn.Module):\n",
    "    def __init__(self, input_shape, hid_dim, n_layers, dropout):\n",
    "        super(Decoder, self).__init__()\n",
    "\n",
    "        self.hid_dim = hid_dim\n",
    "        self.n_layers = n_layers\n",
    "\n",
    "        self.rnn = nn.LSTM(input_shape, hid_dim, n_layers, dropout=dropout, batch_first = True)\n",
    "\n",
    "    def forward(self, x, hidden, cell):\n",
    "        \n",
    "        output, (hidden, cell) = self.rnn(x, (hidden, cell))\n",
    "\n",
    "        return output, (hidden, cell)"
   ]
  },
  {
   "cell_type": "code",
   "execution_count": 173,
   "id": "f80b1ca2",
   "metadata": {
    "id": "f80b1ca2"
   },
   "outputs": [],
   "source": [
    "import numpy as np \n",
    "\n",
    "class Seq2SeqARG(nn.Module):\n",
    "    def __init__(self, coord_shape, emb_dim, hid_dim, n_layers, dropout, device = torch.device('cpu')):\n",
    "        super(Seq2SeqARG, self).__init__()\n",
    "        self.device = device\n",
    "\n",
    "        self.encoder = Encoder(coord_shape, emb_dim, hid_dim, n_layers, dropout)\n",
    "\n",
    "        self.decoder = Decoder(input_shape=coord_shape, hid_dim=hid_dim, n_layers=n_layers, dropout=dropout)\n",
    "\n",
    "        self.dense = nn.Sequential(nn.Linear(hid_dim, 128),\n",
    "                                   nn.ReLU(),\n",
    "                                   nn.Dropout(0.5),\n",
    "                                   nn.Linear(128, coord_shape))\n",
    "                                  \n",
    "    def forward(self, particle_trajectory, target_trajectory, teacher_forcing_ratio = 0.5):\n",
    "        \n",
    "        hidden, cell = self.encoder(particle_trajectory)\n",
    "        \n",
    "        hidden = hidden[:,0,:]\n",
    "        cell = cell[:,0,:]\n",
    "\n",
    "        predicted_target = torch.zeros((target_trajectory.shape)).to(self.device)\n",
    "\n",
    "        previous = particle_trajectory[:,-1,:]\n",
    "        for t in range(0, target_trajectory.shape[1]):\n",
    "            \n",
    "            output, (hidden, cell) = self.decoder(previous, hidden, cell)\n",
    "            # output = (batch_size, 1, hid_dim)\n",
    "\n",
    "            predicted_target[:,t] = self.dense(output)\n",
    "\n",
    "            # ground truth usage\n",
    "            #decide if we are going to use teacher forcing or not\n",
    "            teacher_force = np.random.rand(1)[0] > teacher_forcing_ratio\n",
    "            #get the highest predicted token from our predictions\n",
    "            top1 = target_trajectory[:,t]\n",
    "\n",
    "            previous = predicted_target[:,t ] if teacher_force else top1\n",
    "        \n",
    "        return predicted_target"
   ]
  },
  {
   "cell_type": "markdown",
   "id": "826fae3f",
   "metadata": {
    "id": "826fae3f"
   },
   "source": [
    "## Model Training"
   ]
  },
  {
   "cell_type": "code",
   "execution_count": 174,
   "id": "5a92c60d",
   "metadata": {},
   "outputs": [],
   "source": [
    "class Trainer32():\n",
    "    def __init__(self,\n",
    "                 model: torch.nn.Module,\n",
    "                 device: torch.device,\n",
    "                 criterion: torch.nn.Module,\n",
    "                 optimizer: torch.optim.Optimizer,\n",
    "                 training_DataLoader: torch.utils.data.Dataset,\n",
    "                 validation_DataLoader: torch.utils.data.Dataset ,\n",
    "                 testing_DataLoader: torch.utils.data.Dataset ,\n",
    "                 epochs: int\n",
    "                 ):\n",
    "        \n",
    "        self.model = model\n",
    "        self.criterion = criterion\n",
    "        self.optimizer = optimizer\n",
    "        self.training_DataLoader = training_DataLoader\n",
    "        self.validation_DataLoader = validation_DataLoader\n",
    "        self.testing_DataLoader = testing_DataLoader\n",
    "        self.device = device\n",
    "        self.epochs = epochs\n",
    "\n",
    "\n",
    "    def run_trainer(self):\n",
    "\n",
    "        epoch_train_losses = []\n",
    "        epoch_val_losses = []\n",
    "\n",
    "        for epoch in tqdm(range(self.epochs)):\n",
    "                 \n",
    "\n",
    "            self.model.train()  # train mode\n",
    "\n",
    "            train_losses=[]\n",
    "            \n",
    "            correct = 0\n",
    "            length = 0\n",
    "            for x, y, z in self.training_DataLoader:\n",
    "\n",
    "                x_sequence, y_sequence, lengths = x.float().to(self.device), y.float().to(self.device), z.float().to(self.device) # send to device (GPU or CPU)\n",
    "                \n",
    "\n",
    "                self.optimizer.zero_grad()  # zerograd the parameters\n",
    "\n",
    "                loss = 0\n",
    "                # out - (batch_size, sequence_length, coordinates)\n",
    "                out = self.model(x_sequence, y_sequence)  # one forward pass\n",
    "\n",
    "                #for pred,actual,seq_len in zip(out, y_sequence, lengths):\n",
    "\n",
    "                #    loss += self.criterion(pred[:seq_len], actual[:seq_len])  # calculate loss\n",
    "\n",
    "                mask = (torch.arange(60)[None, :] < lengths.view(-1)[:, None]).unsqueeze(-1)\n",
    "                loss += torch.mean(torch.sum((out*mask - y_sequence).pow(2), dim=[1,2]) / lengths.view(-1))\n",
    "                \n",
    "                loss_value = loss.item()\n",
    "                train_losses.append(loss_value)\n",
    "                 \n",
    "                loss.backward()  # one backward pass\n",
    "                self.optimizer.step()  # update the parameters\n",
    "            \n",
    "            epoch_train_losses.append(np.mean(train_losses))\n",
    "            self.model.eval()  # evaluation mode\n",
    "            valid_losses = []  # accumulate the losses here\n",
    "\n",
    "            correct = 0\n",
    "            length = 0\n",
    "            for x, y, z in self.validation_DataLoader:\n",
    "\n",
    "                x_sequence, y_sequence, lengths = x.float().to(self.device), y.float().to(self.device), z.float().to(self.device)\n",
    "\n",
    "                with torch.no_grad():\n",
    "                    loss = 0\n",
    "                    \n",
    "                    out = self.model(x_sequence, y_sequence)  # one forward pass\n",
    "                    \n",
    "                    mask = (torch.arange(60)[None, :] < lengths.view(-1)[:, None]).unsqueeze(-1)\n",
    "                    loss += torch.mean(torch.sum((out*mask - y_sequence).pow(2), dim=[1,2]) / lengths.view(-1) ) # calculate loss\n",
    "                 \n",
    "                    loss_value = loss.item()\n",
    "                    valid_losses.append(loss_value)\n",
    "\n",
    "            epoch_val_losses.append(np.mean(valid_losses))\n",
    "                \n",
    "            # print the results\n",
    "            print(\n",
    "                f'EPOCH: {epoch+1:0>{len(str(self.epochs))}}/{self.epochs}',\n",
    "                end=' '\n",
    "            )\n",
    "            print(f'LOSS: {np.mean(train_losses):.4f}',end=' ')\n",
    "            print(f'VAL-LOSS: {np.mean(valid_losses):.4f}',end='\\n')\n",
    "\n",
    "        return epoch_train_losses, epoch_val_losses\n",
    "        \n",
    "    def evaluate(self):\n",
    "\n",
    "        self.model.eval()\n",
    "\n",
    "        with torch.no_grad():\n",
    "            loss = []\n",
    "            length = 0\n",
    "            for x,y,z in self.testing_DataLoader:\n",
    "                \n",
    "                x_sequence, y_sequence, lengths = x.float().to(self.device), y.float().to(self.device), z.float().to(self.device)\n",
    "                out = self.model(x_sequence, y_sequence, 0)\n",
    "                loss_batch = 0\n",
    "                mask = (torch.arange(60)[None, :] < lengths.view(-1)[:, None]).unsqueeze(-1)\n",
    "                loss_batch += torch.mean(torch.sum((out*mask - y_sequence).pow(2), dim=[1,2]) / lengths.view(-1)) \n",
    "\n",
    "                loss.append(loss_batch)\n",
    "        print(f'Error: {np.mean(loss):.4f}')"
   ]
  },
  {
   "cell_type": "markdown",
   "id": "c87278a2",
   "metadata": {
    "id": "c87278a2"
   },
   "source": [
    "## Evaluation"
   ]
  },
  {
   "cell_type": "markdown",
   "id": "51ddb03a",
   "metadata": {},
   "source": [
    "Train with 0.5 probability of teacher force\n",
    "\n",
    "Evaluation is always without teacher force"
   ]
  },
  {
   "cell_type": "code",
   "execution_count": 175,
   "id": "2cbb6137",
   "metadata": {
    "id": "2cbb6137",
    "scrolled": true
   },
   "outputs": [
    {
     "name": "stderr",
     "output_type": "stream",
     "text": [
      "  3%|██▊                                                                                | 1/30 [00:01<00:52,  1.82s/it]"
     ]
    },
    {
     "name": "stdout",
     "output_type": "stream",
     "text": [
      "EPOCH: 01/30 LOSS: 6.1855 VAL-LOSS: 6.4961\n"
     ]
    },
    {
     "name": "stderr",
     "output_type": "stream",
     "text": [
      "\r",
      "  7%|█████▌                                                                             | 2/30 [00:03<00:49,  1.76s/it]"
     ]
    },
    {
     "name": "stdout",
     "output_type": "stream",
     "text": [
      "EPOCH: 02/30 LOSS: 5.8739 VAL-LOSS: 5.8921\n"
     ]
    },
    {
     "name": "stderr",
     "output_type": "stream",
     "text": [
      "\r",
      " 10%|████████▎                                                                          | 3/30 [00:05<00:48,  1.80s/it]"
     ]
    },
    {
     "name": "stdout",
     "output_type": "stream",
     "text": [
      "EPOCH: 03/30 LOSS: 4.8474 VAL-LOSS: 4.9471\n"
     ]
    },
    {
     "name": "stderr",
     "output_type": "stream",
     "text": [
      "\r",
      " 13%|███████████                                                                        | 4/30 [00:07<00:46,  1.80s/it]"
     ]
    },
    {
     "name": "stdout",
     "output_type": "stream",
     "text": [
      "EPOCH: 04/30 LOSS: 4.0783 VAL-LOSS: 3.6138\n"
     ]
    },
    {
     "name": "stderr",
     "output_type": "stream",
     "text": [
      "\r",
      " 17%|█████████████▊                                                                     | 5/30 [00:09<00:47,  1.90s/it]"
     ]
    },
    {
     "name": "stdout",
     "output_type": "stream",
     "text": [
      "EPOCH: 05/30 LOSS: 2.8782 VAL-LOSS: 2.3263\n"
     ]
    },
    {
     "name": "stderr",
     "output_type": "stream",
     "text": [
      "\r",
      " 20%|████████████████▌                                                                  | 6/30 [00:11<00:45,  1.91s/it]"
     ]
    },
    {
     "name": "stdout",
     "output_type": "stream",
     "text": [
      "EPOCH: 06/30 LOSS: 1.5452 VAL-LOSS: 1.8750\n"
     ]
    },
    {
     "name": "stderr",
     "output_type": "stream",
     "text": [
      "\r",
      " 23%|███████████████████▎                                                               | 7/30 [00:13<00:44,  1.95s/it]"
     ]
    },
    {
     "name": "stdout",
     "output_type": "stream",
     "text": [
      "EPOCH: 07/30 LOSS: 1.4862 VAL-LOSS: 1.0753\n"
     ]
    },
    {
     "name": "stderr",
     "output_type": "stream",
     "text": [
      "\r",
      " 27%|██████████████████████▏                                                            | 8/30 [00:15<00:42,  1.95s/it]"
     ]
    },
    {
     "name": "stdout",
     "output_type": "stream",
     "text": [
      "EPOCH: 08/30 LOSS: 1.2312 VAL-LOSS: 1.1178\n"
     ]
    },
    {
     "name": "stderr",
     "output_type": "stream",
     "text": [
      "\r",
      " 30%|████████████████████████▉                                                          | 9/30 [00:17<00:41,  1.96s/it]"
     ]
    },
    {
     "name": "stdout",
     "output_type": "stream",
     "text": [
      "EPOCH: 09/30 LOSS: 1.0807 VAL-LOSS: 1.3566\n"
     ]
    },
    {
     "name": "stderr",
     "output_type": "stream",
     "text": [
      "\r",
      " 33%|███████████████████████████▎                                                      | 10/30 [00:19<00:40,  2.01s/it]"
     ]
    },
    {
     "name": "stdout",
     "output_type": "stream",
     "text": [
      "EPOCH: 10/30 LOSS: 1.1880 VAL-LOSS: 1.4135\n"
     ]
    },
    {
     "name": "stderr",
     "output_type": "stream",
     "text": [
      "\r",
      " 37%|██████████████████████████████                                                    | 11/30 [00:21<00:38,  2.00s/it]"
     ]
    },
    {
     "name": "stdout",
     "output_type": "stream",
     "text": [
      "EPOCH: 11/30 LOSS: 0.9653 VAL-LOSS: 0.9598\n"
     ]
    },
    {
     "name": "stderr",
     "output_type": "stream",
     "text": [
      "\r",
      " 40%|████████████████████████████████▊                                                 | 12/30 [00:23<00:35,  1.97s/it]"
     ]
    },
    {
     "name": "stdout",
     "output_type": "stream",
     "text": [
      "EPOCH: 12/30 LOSS: 1.2057 VAL-LOSS: 0.9889\n"
     ]
    },
    {
     "name": "stderr",
     "output_type": "stream",
     "text": [
      "\r",
      " 43%|███████████████████████████████████▌                                              | 13/30 [00:25<00:33,  1.98s/it]"
     ]
    },
    {
     "name": "stdout",
     "output_type": "stream",
     "text": [
      "EPOCH: 13/30 LOSS: 0.8918 VAL-LOSS: 0.9363\n"
     ]
    },
    {
     "name": "stderr",
     "output_type": "stream",
     "text": [
      "\r",
      " 47%|██████████████████████████████████████▎                                           | 14/30 [00:27<00:31,  1.95s/it]"
     ]
    },
    {
     "name": "stdout",
     "output_type": "stream",
     "text": [
      "EPOCH: 14/30 LOSS: 0.9644 VAL-LOSS: 0.9521\n"
     ]
    },
    {
     "name": "stderr",
     "output_type": "stream",
     "text": [
      "\r",
      " 50%|█████████████████████████████████████████                                         | 15/30 [00:28<00:28,  1.91s/it]"
     ]
    },
    {
     "name": "stdout",
     "output_type": "stream",
     "text": [
      "EPOCH: 15/30 LOSS: 0.9218 VAL-LOSS: 0.9153\n"
     ]
    },
    {
     "name": "stderr",
     "output_type": "stream",
     "text": [
      "\r",
      " 53%|███████████████████████████████████████████▋                                      | 16/30 [00:30<00:26,  1.90s/it]"
     ]
    },
    {
     "name": "stdout",
     "output_type": "stream",
     "text": [
      "EPOCH: 16/30 LOSS: 0.6722 VAL-LOSS: 1.0110\n"
     ]
    },
    {
     "name": "stderr",
     "output_type": "stream",
     "text": [
      "\r",
      " 57%|██████████████████████████████████████████████▍                                   | 17/30 [00:32<00:24,  1.91s/it]"
     ]
    },
    {
     "name": "stdout",
     "output_type": "stream",
     "text": [
      "EPOCH: 17/30 LOSS: 0.8990 VAL-LOSS: 0.6378\n"
     ]
    },
    {
     "name": "stderr",
     "output_type": "stream",
     "text": [
      "\r",
      " 60%|█████████████████████████████████████████████████▏                                | 18/30 [00:34<00:23,  1.95s/it]"
     ]
    },
    {
     "name": "stdout",
     "output_type": "stream",
     "text": [
      "EPOCH: 18/30 LOSS: 0.7566 VAL-LOSS: 0.7565\n"
     ]
    },
    {
     "name": "stderr",
     "output_type": "stream",
     "text": [
      "\r",
      " 63%|███████████████████████████████████████████████████▉                              | 19/30 [00:36<00:21,  1.93s/it]"
     ]
    },
    {
     "name": "stdout",
     "output_type": "stream",
     "text": [
      "EPOCH: 19/30 LOSS: 0.7399 VAL-LOSS: 0.7239\n"
     ]
    },
    {
     "name": "stderr",
     "output_type": "stream",
     "text": [
      "\r",
      " 67%|██████████████████████████████████████████████████████▋                           | 20/30 [00:38<00:19,  1.92s/it]"
     ]
    },
    {
     "name": "stdout",
     "output_type": "stream",
     "text": [
      "EPOCH: 20/30 LOSS: 0.7196 VAL-LOSS: 0.6391\n"
     ]
    },
    {
     "name": "stderr",
     "output_type": "stream",
     "text": [
      "\r",
      " 70%|█████████████████████████████████████████████████████████▍                        | 21/30 [00:40<00:17,  1.94s/it]"
     ]
    },
    {
     "name": "stdout",
     "output_type": "stream",
     "text": [
      "EPOCH: 21/30 LOSS: 0.6704 VAL-LOSS: 0.7357\n"
     ]
    },
    {
     "name": "stderr",
     "output_type": "stream",
     "text": [
      "\r",
      " 73%|████████████████████████████████████████████████████████████▏                     | 22/30 [00:42<00:16,  2.02s/it]"
     ]
    },
    {
     "name": "stdout",
     "output_type": "stream",
     "text": [
      "EPOCH: 22/30 LOSS: 0.7549 VAL-LOSS: 0.7704\n"
     ]
    },
    {
     "name": "stderr",
     "output_type": "stream",
     "text": [
      "\r",
      " 77%|██████████████████████████████████████████████████████████████▊                   | 23/30 [00:45<00:14,  2.12s/it]"
     ]
    },
    {
     "name": "stdout",
     "output_type": "stream",
     "text": [
      "EPOCH: 23/30 LOSS: 0.6598 VAL-LOSS: 0.5468\n"
     ]
    },
    {
     "name": "stderr",
     "output_type": "stream",
     "text": [
      "\r",
      " 80%|█████████████████████████████████████████████████████████████████▌                | 24/30 [00:47<00:13,  2.26s/it]"
     ]
    },
    {
     "name": "stdout",
     "output_type": "stream",
     "text": [
      "EPOCH: 24/30 LOSS: 0.7311 VAL-LOSS: 0.6128\n"
     ]
    },
    {
     "name": "stderr",
     "output_type": "stream",
     "text": [
      "\r",
      " 83%|████████████████████████████████████████████████████████████████████▎             | 25/30 [00:49<00:11,  2.28s/it]"
     ]
    },
    {
     "name": "stdout",
     "output_type": "stream",
     "text": [
      "EPOCH: 25/30 LOSS: 0.6134 VAL-LOSS: 0.7296\n"
     ]
    },
    {
     "name": "stderr",
     "output_type": "stream",
     "text": [
      "\r",
      " 87%|███████████████████████████████████████████████████████████████████████           | 26/30 [00:52<00:08,  2.24s/it]"
     ]
    },
    {
     "name": "stdout",
     "output_type": "stream",
     "text": [
      "EPOCH: 26/30 LOSS: 0.6799 VAL-LOSS: 0.5728\n"
     ]
    },
    {
     "name": "stderr",
     "output_type": "stream",
     "text": [
      "\r",
      " 90%|█████████████████████████████████████████████████████████████████████████▊        | 27/30 [00:54<00:06,  2.18s/it]"
     ]
    },
    {
     "name": "stdout",
     "output_type": "stream",
     "text": [
      "EPOCH: 27/30 LOSS: 0.5405 VAL-LOSS: 0.4812\n"
     ]
    },
    {
     "name": "stderr",
     "output_type": "stream",
     "text": [
      "\r",
      " 93%|████████████████████████████████████████████████████████████████████████████▌     | 28/30 [00:56<00:04,  2.12s/it]"
     ]
    },
    {
     "name": "stdout",
     "output_type": "stream",
     "text": [
      "EPOCH: 28/30 LOSS: 0.6152 VAL-LOSS: 0.4177\n"
     ]
    },
    {
     "name": "stderr",
     "output_type": "stream",
     "text": [
      "\r",
      " 97%|███████████████████████████████████████████████████████████████████████████████▎  | 29/30 [00:58<00:02,  2.09s/it]"
     ]
    },
    {
     "name": "stdout",
     "output_type": "stream",
     "text": [
      "EPOCH: 29/30 LOSS: 0.5816 VAL-LOSS: 0.6341\n"
     ]
    },
    {
     "name": "stderr",
     "output_type": "stream",
     "text": [
      "100%|██████████████████████████████████████████████████████████████████████████████████| 30/30 [01:00<00:00,  2.01s/it]"
     ]
    },
    {
     "name": "stdout",
     "output_type": "stream",
     "text": [
      "EPOCH: 30/30 LOSS: 0.6460 VAL-LOSS: 0.6471\n"
     ]
    },
    {
     "name": "stderr",
     "output_type": "stream",
     "text": [
      "\n"
     ]
    },
    {
     "name": "stdout",
     "output_type": "stream",
     "text": [
      "Error: 5.7712\n"
     ]
    }
   ],
   "source": [
    "if torch.cuda.is_available():\n",
    "        device = torch.device('cuda')\n",
    "else:\n",
    "        device=torch.device('cpu')\n",
    "\n",
    "model = Seq2SeqARG(coord_shape = 2, emb_dim = 8, hid_dim = 16, n_layers = 1, dropout = 0.5).to(device)\n",
    "criterion = torch.nn.MSELoss()\n",
    "optimizer = torch.optim.Adam(model.parameters(), lr=0.01)\n",
    "\n",
    "TrainingProcedure = Trainer32(model, \n",
    "                                device, \n",
    "                                criterion, \n",
    "                                optimizer,\n",
    "                                train_dataloader_32,\n",
    "                                valid_dataloader_32,\n",
    "                                test_dataloader_32,\n",
    "                                epochs = 30)\n",
    "\n",
    "train_loss, val_loss = TrainingProcedure.run_trainer()\n",
    "TrainingProcedure.evaluate()"
   ]
  },
  {
   "cell_type": "markdown",
   "id": "53745389",
   "metadata": {},
   "source": [
    "-----"
   ]
  },
  {
   "cell_type": "markdown",
   "id": "bb46a489",
   "metadata": {},
   "source": [
    "### Linear interpolation"
   ]
  },
  {
   "cell_type": "code",
   "execution_count": 176,
   "id": "0a9824ee",
   "metadata": {},
   "outputs": [],
   "source": [
    "def predict(x):\n",
    "    prediction = torch.zeros((x.shape[0],60,2))\n",
    "    diff = (x[:,-1,:] - x[:, -2,:])\n",
    "    prev = x[:,-1,:]\n",
    "    for i in range(60):\n",
    "        prediction[:,i] = prev + (1+i)*diff\n",
    "    return prediction"
   ]
  },
  {
   "cell_type": "code",
   "execution_count": 177,
   "id": "397e0319",
   "metadata": {},
   "outputs": [
    {
     "name": "stdout",
     "output_type": "stream",
     "text": [
      "Linear Interpolation Error: 5.9684\n"
     ]
    }
   ],
   "source": [
    "with torch.no_grad():\n",
    "    loss = []\n",
    "    length = 0\n",
    "    for x,y,z in test_dataloader_32:\n",
    "\n",
    "        x_sequence, y_sequence, lengths = x.float(), y.float(), z.float()\n",
    "        out = predict(x_sequence)\n",
    "        loss_batch = 0\n",
    "        mask = (torch.arange(60)[None, :] < lengths.view(-1)[:, None]).unsqueeze(-1)\n",
    "        loss_batch += torch.mean(torch.sum((out*mask - y_sequence).pow(2), dim=[1,2]) / lengths.view(-1)) \n",
    "\n",
    "        loss.append(loss_batch)\n",
    "print(f'Linear Interpolation Error: {np.mean(loss):.4f}')"
   ]
  },
  {
   "cell_type": "code",
   "execution_count": 183,
   "id": "42b55564",
   "metadata": {},
   "outputs": [],
   "source": [
    "predicted = model(simulation_test, simulation_continued_test, 0).detach()"
   ]
  },
  {
   "cell_type": "code",
   "execution_count": 184,
   "id": "4c66e269",
   "metadata": {},
   "outputs": [],
   "source": [
    "mask = (torch.arange(60)[None, :] < lengths_test.view(-1)[:, None]).unsqueeze(-1)\n",
    "metrics = torch.sum((predicted*mask - simulation_continued_test).pow(2), dim=[1,2]) / lengths_test.view(-1)"
   ]
  },
  {
   "cell_type": "code",
   "execution_count": 185,
   "id": "3b47417b",
   "metadata": {},
   "outputs": [],
   "source": [
    "good_indices = np.argsort(metrics.detach().numpy())[:5]\n",
    "bad_indices = np.argsort(metrics.detach().numpy())[-5:]"
   ]
  },
  {
   "cell_type": "markdown",
   "id": "72ad0dd5",
   "metadata": {},
   "source": [
    "### Good examples"
   ]
  },
  {
   "cell_type": "code",
   "execution_count": 191,
   "id": "858a6797",
   "metadata": {},
   "outputs": [
    {
     "name": "stdout",
     "output_type": "stream",
     "text": [
      "The length of the given sequence: 100 and the length of the prediction is 22.0\n"
     ]
    },
    {
     "data": {
      "image/png": "[encoded data removed]",
      "text/plain": [
       "<Figure size 360x360 with 1 Axes>"
      ]
     },
     "metadata": {
      "needs_background": "light"
     },
     "output_type": "display_data"
    },
    {
     "data": {
      "image/png": "[encoded data removed]",
      "text/plain": [
       "<Figure size 360x360 with 1 Axes>"
      ]
     },
     "metadata": {
      "needs_background": "light"
     },
     "output_type": "display_data"
    }
   ],
   "source": [
    "print(f'The length of the given sequence: {((simulation_test[good_indices[0]] != 0).sum(axis = 1) > 0).sum().item()} and the length of the prediction is {lengths_test[good_indices[0]].item()}')\n",
    "\n",
    "plot_example(simulation_test[good_indices[0]], simulation_continued_test[good_indices[0]])\n",
    "plot_example(simulation_test[good_indices[0]], predicted[good_indices[0]][:int(lengths_test[good_indices[0]].item())])"
   ]
  },
  {
   "cell_type": "code",
   "execution_count": 192,
   "id": "d0e50e69",
   "metadata": {},
   "outputs": [
    {
     "name": "stdout",
     "output_type": "stream",
     "text": [
      "The length of the given sequence: 98 and the length of the prediction is 21.0\n"
     ]
    },
    {
     "data": {
      "image/png": "[encoded data removed]",
      "text/plain": [
       "<Figure size 360x360 with 1 Axes>"
      ]
     },
     "metadata": {
      "needs_background": "light"
     },
     "output_type": "display_data"
    },
    {
     "data": {
      "image/png": "[encoded data removed]",
      "text/plain": [
       "<Figure size 360x360 with 1 Axes>"
      ]
     },
     "metadata": {
      "needs_background": "light"
     },
     "output_type": "display_data"
    }
   ],
   "source": [
    "i = 1\n",
    "print(f'The length of the given sequence: {((simulation_test[good_indices[i]] != 0).sum(axis = 1) > 0).sum().item()} and the length of the prediction is {lengths_test[good_indices[i]].item()}')\n",
    "\n",
    "plot_example(simulation_test[good_indices[i]], simulation_continued_test[good_indices[i]])\n",
    "plot_example(simulation_test[good_indices[i]], predicted[good_indices[i]][:int(lengths_test[good_indices[i]].item())])"
   ]
  },
  {
   "cell_type": "code",
   "execution_count": 193,
   "id": "40395897",
   "metadata": {},
   "outputs": [
    {
     "name": "stdout",
     "output_type": "stream",
     "text": [
      "The length of the given sequence: 104 and the length of the prediction is 23.0\n"
     ]
    },
    {
     "data": {
      "image/png": "[encoded data removed]",
      "text/plain": [
       "<Figure size 360x360 with 1 Axes>"
      ]
     },
     "metadata": {
      "needs_background": "light"
     },
     "output_type": "display_data"
    },
    {
     "data": {
      "image/png": "[encoded data removed]",
      "text/plain": [
       "<Figure size 360x360 with 1 Axes>"
      ]
     },
     "metadata": {
      "needs_background": "light"
     },
     "output_type": "display_data"
    }
   ],
   "source": [
    "i = 2\n",
    "print(f'The length of the given sequence: {((simulation_test[good_indices[i]] != 0).sum(axis = 1) > 0).sum().item()} and the length of the prediction is {lengths_test[good_indices[i]].item()}')\n",
    "\n",
    "plot_example(simulation_test[good_indices[i]], simulation_continued_test[good_indices[i]])\n",
    "plot_example(simulation_test[good_indices[i]], predicted[good_indices[i]][:int(lengths_test[good_indices[i]].item())])"
   ]
  },
  {
   "cell_type": "code",
   "execution_count": 194,
   "id": "8a100553",
   "metadata": {},
   "outputs": [
    {
     "name": "stdout",
     "output_type": "stream",
     "text": [
      "The length of the given sequence: 98 and the length of the prediction is 25.0\n"
     ]
    },
    {
     "data": {
      "image/png": "[encoded data removed]",
      "text/plain": [
       "<Figure size 360x360 with 1 Axes>"
      ]
     },
     "metadata": {
      "needs_background": "light"
     },
     "output_type": "display_data"
    },
    {
     "data": {
      "image/png": "[encoded data removed]",
      "text/plain": [
       "<Figure size 360x360 with 1 Axes>"
      ]
     },
     "metadata": {
      "needs_background": "light"
     },
     "output_type": "display_data"
    }
   ],
   "source": [
    "i = 3\n",
    "print(f'The length of the given sequence: {((simulation_test[good_indices[i]] != 0).sum(axis = 1) > 0).sum().item()} and the length of the prediction is {lengths_test[good_indices[i]].item()}')\n",
    "\n",
    "plot_example(simulation_test[good_indices[i]], simulation_continued_test[good_indices[i]])\n",
    "plot_example(simulation_test[good_indices[i]], predicted[good_indices[i]][:int(lengths_test[good_indices[i]].item())])"
   ]
  },
  {
   "cell_type": "code",
   "execution_count": 195,
   "id": "665cbba6",
   "metadata": {},
   "outputs": [
    {
     "name": "stdout",
     "output_type": "stream",
     "text": [
      "The length of the given sequence: 97 and the length of the prediction is 22.0\n"
     ]
    },
    {
     "data": {
      "image/png": "[encoded data removed]",
      "text/plain": [
       "<Figure size 360x360 with 1 Axes>"
      ]
     },
     "metadata": {
      "needs_background": "light"
     },
     "output_type": "display_data"
    },
    {
     "data": {
      "image/png": "[encoded data removed]",
      "text/plain": [
       "<Figure size 360x360 with 1 Axes>"
      ]
     },
     "metadata": {
      "needs_background": "light"
     },
     "output_type": "display_data"
    }
   ],
   "source": [
    "i = 4\n",
    "print(f'The length of the given sequence: {((simulation_test[good_indices[i]] != 0).sum(axis = 1) > 0).sum().item()} and the length of the prediction is {lengths_test[good_indices[i]].item()}')\n",
    "\n",
    "plot_example(simulation_test[good_indices[i]], simulation_continued_test[good_indices[i]])\n",
    "plot_example(simulation_test[good_indices[i]], predicted[good_indices[i]][:int(lengths_test[good_indices[i]].item())])"
   ]
  },
  {
   "cell_type": "markdown",
   "id": "9d064fba",
   "metadata": {},
   "source": [
    "### Bad examples"
   ]
  },
  {
   "cell_type": "code",
   "execution_count": 196,
   "id": "8ab7b8a3",
   "metadata": {},
   "outputs": [
    {
     "name": "stdout",
     "output_type": "stream",
     "text": [
      "The length of the given sequence: 97 and the length of the prediction is 56.0\n"
     ]
    },
    {
     "data": {
      "image/png": "[encoded data removed]",
      "text/plain": [
       "<Figure size 360x360 with 1 Axes>"
      ]
     },
     "metadata": {
      "needs_background": "light"
     },
     "output_type": "display_data"
    },
    {
     "data": {
      "image/png": "[encoded data removed]",
      "text/plain": [
       "<Figure size 360x360 with 1 Axes>"
      ]
     },
     "metadata": {
      "needs_background": "light"
     },
     "output_type": "display_data"
    }
   ],
   "source": [
    "i = 0\n",
    "print(f'The length of the given sequence: {((simulation_test[bad_indices[i]] != 0).sum(axis = 1) > 0).sum().item()} and the length of the prediction is {lengths_test[bad_indices[i]].item()}')\n",
    "\n",
    "plot_example(simulation_test[bad_indices[i]], simulation_continued_test[bad_indices[i]])\n",
    "plot_example(simulation_test[bad_indices[i]], predicted[bad_indices[i]][:int(lengths_test[bad_indices[i]].item())])"
   ]
  },
  {
   "cell_type": "code",
   "execution_count": 197,
   "id": "b473c6a2",
   "metadata": {},
   "outputs": [
    {
     "name": "stdout",
     "output_type": "stream",
     "text": [
      "The length of the given sequence: 93 and the length of the prediction is 38.0\n"
     ]
    },
    {
     "data": {
      "image/png": "[encoded data removed]",
      "text/plain": [
       "<Figure size 360x360 with 1 Axes>"
      ]
     },
     "metadata": {
      "needs_background": "light"
     },
     "output_type": "display_data"
    },
    {
     "data": {
      "image/png": "[encoded data removed]",
      "text/plain": [
       "<Figure size 360x360 with 1 Axes>"
      ]
     },
     "metadata": {
      "needs_background": "light"
     },
     "output_type": "display_data"
    }
   ],
   "source": [
    "i = 1\n",
    "print(f'The length of the given sequence: {((simulation_test[bad_indices[i]] != 0).sum(axis = 1) > 0).sum().item()} and the length of the prediction is {lengths_test[bad_indices[i]].item()}')\n",
    "\n",
    "plot_example(simulation_test[bad_indices[i]], simulation_continued_test[bad_indices[i]])\n",
    "plot_example(simulation_test[bad_indices[i]], predicted[bad_indices[i]][:int(lengths_test[bad_indices[i]].item())])"
   ]
  },
  {
   "cell_type": "code",
   "execution_count": 198,
   "id": "da662361",
   "metadata": {},
   "outputs": [
    {
     "name": "stdout",
     "output_type": "stream",
     "text": [
      "The length of the given sequence: 104 and the length of the prediction is 56.0\n"
     ]
    },
    {
     "data": {
      "image/png": "[encoded data removed]",
      "text/plain": [
       "<Figure size 360x360 with 1 Axes>"
      ]
     },
     "metadata": {
      "needs_background": "light"
     },
     "output_type": "display_data"
    },
    {
     "data": {
      "image/png": "[encoded data removed]",
      "text/plain": [
       "<Figure size 360x360 with 1 Axes>"
      ]
     },
     "metadata": {
      "needs_background": "light"
     },
     "output_type": "display_data"
    }
   ],
   "source": [
    "i = 2\n",
    "print(f'The length of the given sequence: {((simulation_test[bad_indices[i]] != 0).sum(axis = 1) > 0).sum().item()} and the length of the prediction is {lengths_test[bad_indices[i]].item()}')\n",
    "\n",
    "plot_example(simulation_test[bad_indices[i]], simulation_continued_test[bad_indices[i]])\n",
    "plot_example(simulation_test[bad_indices[i]], predicted[bad_indices[i]][:int(lengths_test[bad_indices[i]].item())])"
   ]
  },
  {
   "cell_type": "code",
   "execution_count": 199,
   "id": "e17777aa",
   "metadata": {},
   "outputs": [
    {
     "name": "stdout",
     "output_type": "stream",
     "text": [
      "The length of the given sequence: 99 and the length of the prediction is 49.0\n"
     ]
    },
    {
     "data": {
      "image/png": "[encoded data removed]",
      "text/plain": [
       "<Figure size 360x360 with 1 Axes>"
      ]
     },
     "metadata": {
      "needs_background": "light"
     },
     "output_type": "display_data"
    },
    {
     "data": {
      "image/png": "[encoded data removed]",
      "text/plain": [
       "<Figure size 360x360 with 1 Axes>"
      ]
     },
     "metadata": {
      "needs_background": "light"
     },
     "output_type": "display_data"
    }
   ],
   "source": [
    "i = 3\n",
    "print(f'The length of the given sequence: {((simulation_test[bad_indices[i]] != 0).sum(axis = 1) > 0).sum().item()} and the length of the prediction is {lengths_test[bad_indices[i]].item()}')\n",
    "\n",
    "plot_example(simulation_test[bad_indices[i]], simulation_continued_test[bad_indices[i]])\n",
    "plot_example(simulation_test[bad_indices[i]], predicted[bad_indices[i]][:int(lengths_test[bad_indices[i]].item())])"
   ]
  },
  {
   "cell_type": "code",
   "execution_count": 201,
   "id": "aa9a4ebc",
   "metadata": {},
   "outputs": [
    {
     "name": "stdout",
     "output_type": "stream",
     "text": [
      "The length of the given sequence: 101 and the length of the prediction is 32.0\n"
     ]
    },
    {
     "data": {
      "image/png": "[encoded data removed]",
      "text/plain": [
       "<Figure size 360x360 with 1 Axes>"
      ]
     },
     "metadata": {
      "needs_background": "light"
     },
     "output_type": "display_data"
    },
    {
     "data": {
      "image/png": "[encoded data removed]",
      "text/plain": [
       "<Figure size 360x360 with 1 Axes>"
      ]
     },
     "metadata": {
      "needs_background": "light"
     },
     "output_type": "display_data"
    }
   ],
   "source": [
    "i = 4\n",
    "print(f'The length of the given sequence: {((simulation_test[bad_indices[i]] != 0).sum(axis = 1) > 0).sum().item()} and the length of the prediction is {lengths_test[bad_indices[i]].item()}')\n",
    "\n",
    "plot_example(simulation_test[bad_indices[i]], simulation_continued_test[bad_indices[i]])\n",
    "plot_example(simulation_test[bad_indices[i]], predicted[bad_indices[i]][:int(lengths_test[bad_indices[i]].item())])"
   ]
  },
  {
   "cell_type": "code",
   "execution_count": null,
   "id": "74d63f61",
   "metadata": {},
   "outputs": [],
   "source": []
  }
 ],
 "metadata": {
  "colab": {
   "name": "a3_skeleton.ipynb",
   "provenance": []
  },
  "kernelspec": {
   "display_name": "Python 3 (ipykernel)",
   "language": "python",
   "name": "python3"
  },
  "language_info": {
   "codemirror_mode": {
    "name": "ipython",
    "version": 3
   },
   "file_extension": ".py",
   "mimetype": "text/x-python",
   "name": "python",
   "nbconvert_exporter": "python",
   "pygments_lexer": "ipython3",
   "version": "3.9.7"
  }
 },
 "nbformat": 4,
 "nbformat_minor": 5
}
