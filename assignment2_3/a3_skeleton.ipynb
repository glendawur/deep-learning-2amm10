{
 "cells": [
  {
   "cell_type": "markdown",
   "id": "963690b2",
   "metadata": {
    "id": "963690b2"
   },
   "source": [
    "<a href=\"https://colab.research.google.com/github/vlamen/tue-deeplearning/blob/main/assignments/assignment_2_3/a3_skeleton.ipynb\" target=\"_parent\"><img src=\"https://colab.research.google.com/assets/colab-badge.svg\" alt=\"Open In Colab\"/></a>"
   ]
  },
  {
   "cell_type": "markdown",
   "id": "bd8459f1",
   "metadata": {
    "id": "bd8459f1"
   },
   "source": [
    "# Group Number:\n",
    "\n",
    "# Student 1: Ryan Meghoe\n",
    "\n",
    "# Student 2: Nikita Jain\n",
    "\n",
    "# Student 3: Rykov Andrei"
   ]
  },
  {
   "cell_type": "markdown",
   "id": "dde28458",
   "metadata": {
    "id": "dde28458"
   },
   "source": [
    "# Downloading Data and Preliminaries"
   ]
  },
  {
   "cell_type": "code",
   "execution_count": 1,
   "id": "7d0580a5",
   "metadata": {
    "id": "7d0580a5"
   },
   "outputs": [],
   "source": [
    "import pickle\n",
    "import matplotlib.pyplot as plt\n",
    "import matplotlib\n",
    "import numpy as np\n",
    "\n",
    "from zipfile import ZipFile\n",
    "import requests\n",
    "import io"
   ]
  },
  {
   "cell_type": "code",
   "execution_count": 2,
   "id": "8ce00edc",
   "metadata": {
    "id": "8ce00edc"
   },
   "outputs": [],
   "source": [
    "def load_zip(url):\n",
    "    response = requests.get(url)\n",
    "    response.raise_for_status()\n",
    "    zipf = ZipFile(io.BytesIO(response.content))\n",
    "    return {name: zipf.read(name) for name in zipf.namelist()}\n",
    "\n",
    "def load_pickle(zipfile, fn):\n",
    "    return pickle.load(io.BytesIO(zipfile[fn]))"
   ]
  },
  {
   "cell_type": "code",
   "execution_count": 3,
   "id": "bb77a4be",
   "metadata": {
    "id": "bb77a4be"
   },
   "outputs": [],
   "source": [
    "data = load_zip('https://surfdrive.surf.nl/files/index.php/s/cwqGaS22KXgnXtg/download')\n",
    "\n",
    "    \n",
    "\"\"\"\n",
    "simulation_{train, valid, test} is stored as a list of simulations. \n",
    "Each simulation is a numpy array of size (t, 2): For t timesteps an x and y coordinate of our particle.\n",
    "\"\"\"\n",
    "simulation_train = load_pickle(data, 'data/train/simulation.pickle')  # 3.1 + 3.2\n",
    "simulation_valid = load_pickle(data, 'data/valid/simulation.pickle')  # 3.1 + 3.2\n",
    "simulation_test = load_pickle(data, 'data/test/simulation.pickle')  # 3.1 + 3.2\n",
    "\n",
    "\"\"\"\n",
    "charges_{train, valid, test} is stored as a list of simulation-charges. \n",
    "These charges are stored as numpy arrays of size (3,): One value for each charge.\n",
    "\"\"\"\n",
    "charges_train = load_pickle(data, 'data/train/charges.pickle')  # 3.1\n",
    "charges_valid = load_pickle(data, 'data/valid/charges.pickle')  # 3.1\n",
    "charges_test = load_pickle(data, 'data/test/charges.pickle')  # 3.1\n",
    "\n",
    "\"\"\"\n",
    "simulation_continued_{train, valid, test} is stored as a list of simulations. \n",
    "Each simulation is a numpy array of size (t, 2): For t timesteps an x and y coordinate of our particle.\n",
    "\"\"\"\n",
    "simulation_continued_train = load_pickle(data, 'data/train/simulation_continued.pickle')  # 3.2\n",
    "simulation_continued_valid = load_pickle(data, 'data/valid/simulation_continued.pickle')  # 3.2\n",
    "simulation_continued_test = load_pickle(data, 'data/test/simulation_continued.pickle')  # 3.2\n",
    "\n",
    "\"\"\"\n",
    "Note that the indices are shared throughout the different lists, e.g., for the 4th training simulation:\n",
    "simulation_train[3] contains its initial simulation\n",
    "charges_train[3] contains the charges associated with the simulation\n",
    "simulation_continued_train[3] contains the continuation of the simulation \n",
    "                --> simulation_continued_train[3][0] is the state after simulation_train[3][-1]\n",
    "\"\"\"\n",
    "pass"
   ]
  },
  {
   "cell_type": "code",
   "execution_count": 4,
   "id": "10a3438a",
   "metadata": {
    "id": "10a3438a",
    "outputId": "0dcc563d-a1b0-47a7-d339-6de1695c9617"
   },
   "outputs": [
    {
     "name": "stdout",
     "output_type": "stream",
     "text": [
      "Overview of no. datapoints:\n",
      "\n",
      "Task 3.1:\n",
      "800 train, 100 validation, 100 test simulations\n",
      "800 train, 100 validation, 100 test charge pairs\n",
      "\n",
      "Task 3.2:\n",
      "Since len(simulation_continued_train) < len(simulation_train), we can only use a subset of initial simulations\n",
      "We cut simulation_train down to the first 150 samples in simulation_train_task32\n",
      "150 train, 100 validation, 100 test simulations\n",
      "150 train, 100 validation, 100 test continuations\n",
      "\n",
      "For task 3.1, use:\n",
      "simulation_train + charges_train\n",
      "simulation_valid + charges_valid\n",
      "simulation_test + charges_test\n",
      "\n",
      "For task 3.2, use:\n",
      "simulation_train_task32 + simulation_continued_train\n",
      "simulation_valid + simulation_continued_valid\n",
      "simulation_test + simulation_continued_test\n",
      "\n"
     ]
    }
   ],
   "source": [
    "print('Overview of no. datapoints:\\n')\n",
    "\n",
    "print('Task 3.1:')\n",
    "print(f'{len(simulation_train)} train, {len(simulation_valid)} validation, {len(simulation_test)} test simulations')\n",
    "print(f'{len(charges_train)} train, {len(charges_valid)} validation, {len(charges_test)} test charge pairs')\n",
    "print()\n",
    "\n",
    "print('Task 3.2:')\n",
    "print('Since len(simulation_continued_train) < len(simulation_train), we can only use a subset of initial simulations')\n",
    "print('We cut simulation_train down to the first 150 samples in simulation_train_task32')\n",
    "simulation_train_task32 = simulation_train[:150]\n",
    "print(f'{len(simulation_train_task32)} train, {len(simulation_valid)} validation, {len(simulation_test)} test simulations')\n",
    "print(f'{len(simulation_continued_train)} train, {len(simulation_continued_valid)} validation, {len(simulation_continued_test)} test continuations')\n",
    "\n",
    "print(f\"\"\"\n",
    "For task 3.1, use:\n",
    "{chr(10).join([\"simulation_{} + charges_{}\".format(t, t) for t in [\"train\", \"valid\", \"test\"]])}\n",
    "\n",
    "For task 3.2, use:\n",
    "{chr(10).join([\"simulation_{} + simulation_continued_{}\".format(*((t[0], t[1]) if isinstance(t, tuple) else (t, t))) for t in [(\"train_task32\", \"train\"), \"valid\", \"test\"]])}\n",
    "\"\"\")\n"
   ]
  },
  {
   "cell_type": "code",
   "execution_count": 25,
   "id": "7adab178",
   "metadata": {},
   "outputs": [
    {
     "data": {
      "text/plain": [
       "[(103, 54),\n",
       " (97, 45),\n",
       " (99, 47),\n",
       " (91, 50),\n",
       " (105, 58),\n",
       " (104, 43),\n",
       " (96, 56),\n",
       " (93, 35),\n",
       " (102, 58),\n",
       " (93, 32),\n",
       " (90, 39),\n",
       " (90, 59),\n",
       " (102, 26),\n",
       " (106, 53),\n",
       " (107, 31),\n",
       " (102, 38),\n",
       " (102, 50),\n",
       " (108, 28),\n",
       " (100, 37),\n",
       " (103, 39),\n",
       " (110, 25),\n",
       " (90, 39),\n",
       " (104, 44),\n",
       " (99, 23),\n",
       " (94, 41),\n",
       " (99, 59),\n",
       " (104, 23),\n",
       " (94, 38),\n",
       " (93, 58),\n",
       " (101, 28),\n",
       " (96, 55),\n",
       " (91, 50),\n",
       " (95, 57),\n",
       " (91, 34),\n",
       " (105, 54),\n",
       " (103, 34),\n",
       " (104, 45),\n",
       " (101, 41),\n",
       " (104, 26),\n",
       " (108, 39),\n",
       " (98, 39),\n",
       " (94, 23),\n",
       " (108, 53),\n",
       " (103, 21),\n",
       " (96, 58),\n",
       " (104, 51),\n",
       " (90, 52),\n",
       " (98, 55),\n",
       " (91, 30),\n",
       " (95, 40),\n",
       " (96, 49),\n",
       " (109, 52),\n",
       " (107, 24),\n",
       " (95, 43),\n",
       " (94, 35),\n",
       " (95, 49),\n",
       " (91, 58),\n",
       " (102, 30),\n",
       " (103, 47),\n",
       " (90, 47),\n",
       " (90, 60),\n",
       " (110, 35),\n",
       " (110, 30),\n",
       " (106, 22),\n",
       " (98, 52),\n",
       " (96, 44),\n",
       " (104, 39),\n",
       " (104, 37),\n",
       " (105, 51),\n",
       " (107, 46),\n",
       " (101, 50),\n",
       " (94, 57),\n",
       " (91, 33),\n",
       " (107, 30),\n",
       " (103, 22),\n",
       " (110, 33),\n",
       " (92, 56),\n",
       " (98, 26),\n",
       " (106, 41),\n",
       " (107, 55),\n",
       " (90, 60),\n",
       " (103, 52),\n",
       " (97, 27),\n",
       " (99, 54),\n",
       " (94, 25),\n",
       " (102, 51),\n",
       " (98, 49),\n",
       " (110, 42),\n",
       " (92, 60),\n",
       " (95, 20),\n",
       " (91, 53),\n",
       " (95, 25),\n",
       " (102, 21),\n",
       " (92, 48),\n",
       " (110, 49),\n",
       " (100, 58),\n",
       " (95, 55),\n",
       " (107, 27),\n",
       " (94, 28),\n",
       " (105, 42),\n",
       " (92, 28),\n",
       " (92, 46),\n",
       " (105, 60),\n",
       " (91, 55),\n",
       " (97, 41),\n",
       " (101, 50),\n",
       " (106, 42),\n",
       " (107, 22),\n",
       " (93, 31),\n",
       " (99, 23),\n",
       " (98, 27),\n",
       " (102, 23),\n",
       " (91, 33),\n",
       " (99, 30),\n",
       " (94, 22),\n",
       " (104, 31),\n",
       " (100, 40),\n",
       " (109, 53),\n",
       " (108, 42),\n",
       " (108, 34),\n",
       " (93, 48),\n",
       " (105, 54),\n",
       " (101, 47),\n",
       " (95, 36),\n",
       " (110, 21),\n",
       " (92, 51),\n",
       " (90, 27),\n",
       " (99, 54),\n",
       " (91, 59),\n",
       " (97, 28),\n",
       " (91, 29),\n",
       " (109, 57),\n",
       " (108, 28),\n",
       " (91, 34),\n",
       " (103, 60),\n",
       " (104, 42),\n",
       " (101, 30),\n",
       " (101, 42),\n",
       " (110, 21),\n",
       " (94, 36),\n",
       " (97, 52),\n",
       " (109, 23),\n",
       " (101, 60),\n",
       " (107, 25),\n",
       " (92, 35),\n",
       " (91, 59),\n",
       " (92, 50),\n",
       " (105, 34),\n",
       " (91, 20),\n",
       " (110, 47)]"
      ]
     },
     "execution_count": 25,
     "metadata": {},
     "output_type": "execute_result"
    }
   ],
   "source": [
    "[(len(x), len(y)) for x,y in zip(simulation_train_task32, simulation_continued_train)]"
   ]
  },
  {
   "cell_type": "code",
   "execution_count": 5,
   "id": "3cfafdb3",
   "metadata": {
    "id": "3cfafdb3",
    "outputId": "0dc0554a-59fb-40c4-8f88-20930b81e4bd"
   },
   "outputs": [
    {
     "name": "stdout",
     "output_type": "stream",
     "text": [
      "Print some shapes:\n",
      "\n",
      "simulation_train[0].shape: (103, 2) -> (t, 2), (x, y) at every t)\n",
      "charges_train[0].shape: (3,) -> charges for the simulation\n",
      "simulation_continued_train[0].shape: (54, 2) -> (t, 2), (x, y) at every t)\n",
      "----\n",
      "\n",
      "simulation_train[1].shape: (97, 2) -> (t, 2), (x, y) at every t)\n",
      "charges_train[1].shape: (3,) -> charges for the simulation\n",
      "simulation_continued_train[1].shape: (45, 2) -> (t, 2), (x, y) at every t)\n",
      "----\n",
      "\n",
      "simulation_train[2].shape: (99, 2) -> (t, 2), (x, y) at every t)\n",
      "charges_train[2].shape: (3,) -> charges for the simulation\n",
      "simulation_continued_train[2].shape: (47, 2) -> (t, 2), (x, y) at every t)\n",
      "----\n",
      "\n"
     ]
    }
   ],
   "source": [
    "print('Print some shapes:\\n')\n",
    "for i in range(3):\n",
    "    print('simulation_train[{}].shape:'.format(i), simulation_train[i].shape, '-> (t, 2), (x, y) at every t)')\n",
    "    print('charges_train[{}].shape:'.format(i), charges_train[i].shape, '-> charges for the simulation')\n",
    "    print('simulation_continued_train[{}].shape:'.format(i), simulation_continued_train[i].shape, '-> (t, 2), (x, y) at every t)')\n",
    "    print('----\\n')"
   ]
  },
  {
   "cell_type": "code",
   "execution_count": 6,
   "id": "f9106543",
   "metadata": {
    "id": "f9106543"
   },
   "outputs": [],
   "source": [
    "def plot_example(x, x_gt=None, x_pred=None, fn=None):\n",
    "    charge_locations = np.array([[-1.53846154, -1.53846154],\n",
    "                                 [ 1.53846154, -1.53846154],\n",
    "                                 [ 0.        ,  1.53846154]])  # charge locations are fixed\n",
    "    fig = plt.figure()\n",
    "    axes = plt.gca()\n",
    "    axes.set_xlim([-5., 5.])\n",
    "    axes.set_ylim([-5., 5.])\n",
    "    cmap = matplotlib.cm.get_cmap('tab20')\n",
    "    plt.plot(x[:, 0], x[:, 1], color=cmap(0))\n",
    "    plt.plot(x[0, 0], x[0, 1], 'd', color=cmap(1))\n",
    "    fig.set_size_inches(5, 5)\n",
    "    for charge in charge_locations:\n",
    "        plt.plot(charge[0], charge[1], 'd', color='black')\n",
    "    if x_gt is not None:\n",
    "        plt.plot(x_gt[:, 0], x_gt[:, 1], color='red', linewidth=.5)\n",
    "    if x_pred is not None:\n",
    "        plt.plot(x_pred[:, 0], x_pred[:, 1], color='green', linestyle='--')\n",
    "    if fn is None:\n",
    "        plt.show()\n",
    "    else:\n",
    "        plt.savefig(fn)"
   ]
  },
  {
   "cell_type": "code",
   "execution_count": 7,
   "id": "d28681a6",
   "metadata": {
    "id": "d28681a6",
    "outputId": "f288a9f0-c89c-4ea2-f4be-f1e0ca9564df"
   },
   "outputs": [
    {
     "data": {
      "image/png": "[encoded data removed]",
      "text/plain": [
       "<Figure size 360x360 with 1 Axes>"
      ]
     },
     "metadata": {
      "needs_background": "light"
     },
     "output_type": "display_data"
    },
    {
     "name": "stdout",
     "output_type": "stream",
     "text": [
      "Charges are [-0.89292929 -0.89537468 -0.87927981]\n"
     ]
    }
   ],
   "source": [
    "test_idx = np.random.randint(150)\n",
    "plot_example(simulation_train[test_idx], simulation_continued_train[test_idx])\n",
    "print(f'Charges are {charges_train[test_idx]}')"
   ]
  },
  {
   "cell_type": "markdown",
   "id": "883762b1",
   "metadata": {
    "id": "883762b1"
   },
   "source": [
    "# Task 3.1"
   ]
  },
  {
   "cell_type": "code",
   "execution_count": 18,
   "id": "9c120565",
   "metadata": {},
   "outputs": [
    {
     "data": {
      "text/plain": [
       "102"
      ]
     },
     "execution_count": 18,
     "metadata": {},
     "output_type": "execute_result"
    }
   ],
   "source": [
    "len(simulation_train[12])"
   ]
  },
  {
   "cell_type": "markdown",
   "id": "8346c441",
   "metadata": {},
   "source": [
    "This is many-to-one model problem\n",
    "\n",
    "As the input of the model (train_X) we have the sequence of positions (x1, x2) of various lengths; the output of the model (train_Y) is (c1, c2, c3)"
   ]
  },
  {
   "cell_type": "markdown",
   "id": "4c1ddabe",
   "metadata": {
    "id": "4c1ddabe"
   },
   "source": [
    "## Data Handling and Preprocessing"
   ]
  },
  {
   "cell_type": "markdown",
   "id": "19320465",
   "metadata": {
    "id": "bd9df856"
   },
   "source": [
    "#### todo\n",
    "\n",
    "* prepare the data so the sequence length in one batch is equal\n",
    "* use padding of the sequences to make the length the same (add zeros in the beggining?)\n"
   ]
  },
  {
   "cell_type": "code",
   "execution_count": null,
   "id": "7dd9b7c1",
   "metadata": {
    "id": "7dd9b7c1"
   },
   "outputs": [],
   "source": []
  },
  {
   "cell_type": "code",
   "execution_count": null,
   "id": "4ec1e03a",
   "metadata": {
    "id": "4ec1e03a"
   },
   "outputs": [],
   "source": []
  },
  {
   "cell_type": "markdown",
   "id": "cc8853f6",
   "metadata": {
    "id": "cc8853f6"
   },
   "source": [
    "## Model Implementation"
   ]
  },
  {
   "cell_type": "code",
   "execution_count": null,
   "id": "8794a0cf",
   "metadata": {
    "id": "8794a0cf"
   },
   "outputs": [],
   "source": [
    "#todo"
   ]
  },
  {
   "cell_type": "code",
   "execution_count": null,
   "id": "d62b5aa6",
   "metadata": {
    "id": "d62b5aa6"
   },
   "outputs": [],
   "source": [
    "class ParticleCharge(nn.Model):\n",
    "    def __init__(self, coordinate_embedding: int = 8, hidden_shape: int = 16, linear_shape: int = 16, output_shape: int = 3):\n",
    "        super().__init__()\n",
    "        \n",
    "        self.embedding_location = self.Linear(2, coordinate_embedding)\n",
    "        \n",
    "        self.rnn = nn.LSTM(coordingate_embedding, hidden_shape)\n",
    "        \n",
    "        self.linear = nn.Sequential(nn.Linear(hidden_shape, linear_shape),\n",
    "                                    nn.ReLU(),\n",
    "                                    nn.BatchNorm1d(linear_shape),\n",
    "                                    nn.Linear(linear_shape, output_shape))\n",
    "        \n",
    "        def forward(self, x):\n",
    "            \"\"\"x of shape (batch_size, sequence_length, coordinates)\"\"\"\n",
    "            \n",
    "            x = self.embedding_location(x)\n",
    "            \n",
    "            rnn_output, rnn_cell = nn.rnn(x)\n",
    "            \n",
    "            out = self.linear(rnn_output[:,-1,:])"
   ]
  },
  {
   "cell_type": "markdown",
   "id": "0e443b7f",
   "metadata": {
    "id": "0e443b7f"
   },
   "source": [
    "## Model Training"
   ]
  },
  {
   "cell_type": "code",
   "execution_count": null,
   "id": "5a5b0aca",
   "metadata": {
    "id": "5a5b0aca"
   },
   "outputs": [],
   "source": [
    "#todo"
   ]
  },
  {
   "cell_type": "code",
   "execution_count": null,
   "id": "58348edd",
   "metadata": {
    "id": "58348edd"
   },
   "outputs": [],
   "source": []
  },
  {
   "cell_type": "code",
   "execution_count": null,
   "id": "176b3ea3",
   "metadata": {
    "id": "176b3ea3"
   },
   "outputs": [],
   "source": []
  },
  {
   "cell_type": "markdown",
   "id": "da139d5b",
   "metadata": {
    "id": "da139d5b"
   },
   "source": [
    "## Evaluation"
   ]
  },
  {
   "cell_type": "code",
   "execution_count": null,
   "id": "ebed03ba",
   "metadata": {
    "id": "ebed03ba"
   },
   "outputs": [],
   "source": [
    "#todo"
   ]
  },
  {
   "cell_type": "code",
   "execution_count": null,
   "id": "17af7ec3",
   "metadata": {
    "id": "17af7ec3"
   },
   "outputs": [],
   "source": []
  },
  {
   "cell_type": "code",
   "execution_count": null,
   "id": "43a3422e",
   "metadata": {
    "id": "43a3422e"
   },
   "outputs": [],
   "source": []
  },
  {
   "cell_type": "markdown",
   "id": "9a59808b",
   "metadata": {
    "id": "9a59808b"
   },
   "source": [
    "# Task 3.2"
   ]
  },
  {
   "cell_type": "markdown",
   "id": "438ef039",
   "metadata": {},
   "source": [
    "This task requires us to build a sequence-to-sequence model."
   ]
  },
  {
   "cell_type": "markdown",
   "id": "f64a855d",
   "metadata": {
    "id": "f64a855d"
   },
   "source": [
    "## Data Handling and Preprocessing"
   ]
  },
  {
   "cell_type": "markdown",
   "id": "8d21f12e",
   "metadata": {
    "id": "5b935865"
   },
   "source": [
    "#### todo\n",
    "\n",
    "As an input (train_X) we got data (batch_norm, sequence_length, 2), where sequence_length varies \n",
    "As the output we got another (train_Y) we got the data of size (batch_norm, sequence_length2, 2), where sequence_length2 also can vary\n",
    "\n",
    "As the result, for one batch, we need to get maximum length of sequence_length + sequence_length2\n",
    "and as the result put the padding before the training_sequence and also after the sequence_length2.\n",
    "However, we also need to keep the actual length of output sequence to evaluate only target values.\n",
    "\n",
    "So in the model we can do next:\n",
    "\n",
    "\n",
    "|   | 1 | 2 | 3 | 4 | 5 | 6 | 7 | 8 | 9 |10 |\n",
    "|---|---|---|---|---|---|---|---|---|---|---|\n",
    "|Evaluation Sequence1| - | - | - | - | 0 | y1| y2| y3| 0 | 0 |\n",
    "|Predicted Sequence1| 0 | 0 | 0 | 0 | 0 | p1| p2| p3| v | v |\n",
    "|Training Sequence1| 0 | x1| x2| x3| x4| 0 | 0 | 0 | 0 | 0 |\n",
    "\n",
    "(last three *v* are not interesting for us during the evaluation)"
   ]
  },
  {
   "cell_type": "code",
   "execution_count": null,
   "id": "0ec19a8d",
   "metadata": {
    "id": "0ec19a8d"
   },
   "outputs": [],
   "source": []
  },
  {
   "cell_type": "code",
   "execution_count": null,
   "id": "8f189d19",
   "metadata": {
    "id": "8f189d19"
   },
   "outputs": [],
   "source": []
  },
  {
   "cell_type": "markdown",
   "id": "867aabb3",
   "metadata": {
    "id": "867aabb3"
   },
   "source": [
    "## Model Implementation"
   ]
  },
  {
   "cell_type": "code",
   "execution_count": null,
   "id": "36fe2739",
   "metadata": {
    "id": "36fe2739"
   },
   "outputs": [],
   "source": [
    "#todo"
   ]
  },
  {
   "cell_type": "code",
   "execution_count": null,
   "id": "f80b1ca2",
   "metadata": {
    "id": "f80b1ca2"
   },
   "outputs": [],
   "source": []
  },
  {
   "cell_type": "code",
   "execution_count": null,
   "id": "fdbf2800",
   "metadata": {
    "id": "fdbf2800"
   },
   "outputs": [],
   "source": []
  },
  {
   "cell_type": "markdown",
   "id": "826fae3f",
   "metadata": {
    "id": "826fae3f"
   },
   "source": [
    "## Model Training"
   ]
  },
  {
   "cell_type": "code",
   "execution_count": null,
   "id": "db3fce95",
   "metadata": {
    "id": "db3fce95"
   },
   "outputs": [],
   "source": [
    "#todo"
   ]
  },
  {
   "cell_type": "code",
   "execution_count": null,
   "id": "41ddb47d",
   "metadata": {
    "id": "41ddb47d"
   },
   "outputs": [],
   "source": []
  },
  {
   "cell_type": "code",
   "execution_count": null,
   "id": "4ee069fc",
   "metadata": {
    "id": "4ee069fc"
   },
   "outputs": [],
   "source": []
  },
  {
   "cell_type": "markdown",
   "id": "c87278a2",
   "metadata": {
    "id": "c87278a2"
   },
   "source": [
    "## Evaluation"
   ]
  },
  {
   "cell_type": "code",
   "execution_count": null,
   "id": "2cbb6137",
   "metadata": {
    "id": "2cbb6137"
   },
   "outputs": [],
   "source": [
    "#todo"
   ]
  },
  {
   "cell_type": "code",
   "execution_count": null,
   "id": "2cf6f4b7",
   "metadata": {
    "id": "2cf6f4b7"
   },
   "outputs": [],
   "source": []
  },
  {
   "cell_type": "code",
   "execution_count": null,
   "id": "736c10d8",
   "metadata": {
    "id": "736c10d8"
   },
   "outputs": [],
   "source": []
  }
 ],
 "metadata": {
  "colab": {
   "name": "a3_skeleton.ipynb",
   "provenance": []
  },
  "kernelspec": {
   "display_name": "Python 3 (ipykernel)",
   "language": "python",
   "name": "python3"
  },
  "language_info": {
   "codemirror_mode": {
    "name": "ipython",
    "version": 3
   },
   "file_extension": ".py",
   "mimetype": "text/x-python",
   "name": "python",
   "nbconvert_exporter": "python",
   "pygments_lexer": "ipython3",
   "version": "3.9.7"
  }
 },
 "nbformat": 4,
 "nbformat_minor": 5
}
