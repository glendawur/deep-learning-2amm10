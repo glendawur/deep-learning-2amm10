{
  "cells": [
    {
      "cell_type": "markdown",
      "id": "d32f8d18",
      "metadata": {
        "id": "d32f8d18"
      },
      "source": [
        "# Group Number:\n",
        "\n",
        "# Student 1: Ryan Meghoe\n",
        "\n",
        "# Student 2: Nikita Jain\n",
        "\n",
        "# Student 3: Andrei Rykov"
      ]
    },
    {
      "cell_type": "markdown",
      "id": "faec2056",
      "metadata": {
        "id": "faec2056"
      },
      "source": [
        "# Downloading Data and Preliminaries"
      ]
    },
    {
      "cell_type": "code",
      "execution_count": 1,
      "id": "7d0580a5",
      "metadata": {
        "id": "7d0580a5"
      },
      "outputs": [],
      "source": [
        "import pickle\n",
        "import matplotlib.pyplot as plt\n",
        "import matplotlib\n",
        "import numpy as np\n",
        "\n",
        "from zipfile import ZipFile\n",
        "import requests\n",
        "import io"
      ]
    },
    {
      "cell_type": "code",
      "execution_count": 2,
      "id": "b0756591",
      "metadata": {
        "id": "b0756591"
      },
      "outputs": [],
      "source": [
        "def load_zip(url):\n",
        "    response = requests.get(url)\n",
        "    response.raise_for_status()\n",
        "    zipf = ZipFile(io.BytesIO(response.content))\n",
        "    return {name: zipf.read(name) for name in zipf.namelist()}\n",
        "\n",
        "def load_array(zipfile, fn):\n",
        "    return np.load(io.BytesIO(zipfile[fn]))"
      ]
    },
    {
      "cell_type": "code",
      "execution_count": 3,
      "id": "bb77a4be",
      "metadata": {
        "id": "bb77a4be",
        "colab": {
          "base_uri": "https://localhost:8080/"
        },
        "outputId": "82e9f99f-bc2b-4d74-bfc2-bd4ea5c33524"
      },
      "outputs": [
        {
          "output_type": "stream",
          "name": "stdout",
          "text": [
            "Shapes of the training data:\n",
            "\n",
            "positions: (10000, 4, 2, 5)\n",
            "velocities: (10000, 1, 2, 5)\n",
            "charges: (10000, 5, 1)\n"
          ]
        }
      ],
      "source": [
        "\"\"\"\n",
        "This cell loads the training, validation or test data as numpy arrays,\n",
        "with the positions, initial velocities and charge data of the particles.\n",
        "\n",
        "The position arrays are shaped as\n",
        "[simulation id, time point (corresponding to t = 0, 0.5, 1 or 1.5), x/y spatial dimension, particle id].\n",
        "\n",
        "The initial velocity arrays are shaped as\n",
        "[simulation id, 1 (corresponding to t=0), x/y spatial dimension, particle id].\n",
        "\n",
        "The charge arrays are shaped as [simulation id, particle id, 1]\n",
        "\n",
        "\"\"\"\n",
        "\n",
        "data = load_zip('https://surfdrive.surf.nl/files/index.php/s/OIgda2ZRG8v0eqB/download')\n",
        "\n",
        "features = ['positions', 'velocities', 'charges']\n",
        "    \n",
        "positions_train, velocities_train, charges_train = (load_array(data, f'data/train/{f}.npy') for f in features)\n",
        "positions_valid, velocities_valid, charges_valid = (load_array(data, f'data/valid/{f}.npy') for f in features)\n",
        "positions_test, velocities_test, charges_test = (load_array(data, f'data/test/{f}.npy') for f in features)\n",
        "\n",
        "print('Shapes of the training data:\\n')\n",
        "print(f'positions: {positions_train.shape}')\n",
        "print(f'velocities: {velocities_train.shape}')\n",
        "print(f'charges: {charges_train.shape}')"
      ]
    },
    {
      "cell_type": "code",
      "execution_count": 4,
      "id": "1c3ea4cb",
      "metadata": {
        "id": "1c3ea4cb",
        "colab": {
          "base_uri": "https://localhost:8080/"
        },
        "outputId": "af37d99f-f987-47bd-8842-d907a64df9d5"
      },
      "outputs": [
        {
          "output_type": "stream",
          "name": "stdout",
          "text": [
            "An example of retrieving data from the arrays:\n",
            "\n",
            "\n",
            "In simulation 42 of the training set, particle 3 with charge -1.0 had coordinates [ 2.05159559 -1.46130851].\n",
            "The initial velocity of this particle was [ 0.28402364 -0.24784824].\n"
          ]
        }
      ],
      "source": [
        "print('An example of retrieving data from the arrays:\\n\\n')\n",
        "\n",
        "sim_idx = 42\n",
        "t_idx = 2  # t_idx 0, 1, 2, 3 corresponds to t=0, 0.5, 1 and 1.5 respectively\n",
        "spatial_idx = (0,1)  # corresponds to both x and y dimension\n",
        "particle_idx = 3  # corresponds to particle with index 3\n",
        "\n",
        "p = positions_train[sim_idx, t_idx, spatial_idx, particle_idx]\n",
        "v = velocities_train[sim_idx, 0, spatial_idx, particle_idx]  # note: this array contains only the inital velocity -> hence the 0\n",
        "c = charges_train[sim_idx, particle_idx, 0] \n",
        "\n",
        "print(\n",
        "    f'In simulation {sim_idx} of the training set, particle {particle_idx} with charge {c} had coordinates {p}.\\nThe initial velocity of this particle was {v}.'\n",
        ")"
      ]
    },
    {
      "cell_type": "code",
      "execution_count": 5,
      "id": "10a3438a",
      "metadata": {
        "id": "10a3438a",
        "colab": {
          "base_uri": "https://localhost:8080/"
        },
        "outputId": "af4c6303-5882-43c1-b612-51c348b01873"
      },
      "outputs": [
        {
          "output_type": "stream",
          "name": "stdout",
          "text": [
            "Overview of no. datapoints:\n",
            "\n",
            "10000 train, 2000 validation, 2000 test simulations\n"
          ]
        }
      ],
      "source": [
        "print('Overview of no. datapoints:\\n')\n",
        "\n",
        "print(f'{len(positions_train)} train, {len(positions_valid)} validation, {len(positions_test)} test simulations')"
      ]
    },
    {
      "cell_type": "code",
      "execution_count": 6,
      "id": "f9106543",
      "metadata": {
        "id": "f9106543"
      },
      "outputs": [],
      "source": [
        "def plot_example(pos, vel):\n",
        "\n",
        "    fig = plt.figure()\n",
        "    axes = plt.gca()\n",
        "    axes.set_xlim([-5., 5.])\n",
        "    axes.set_ylim([-5., 5.])\n",
        "    colors = ['red', 'blue', 'green', 'orange', 'brown']\n",
        "    for i in range(pos.shape[-1]):\n",
        "        plt.plot(pos[0, 0, i], pos[0, 1, i], 'd', color=colors[i])\n",
        "        plt.plot(pos[-1, 0, i], pos[-1, 1, i], 'x', color=colors[i])\n",
        "        plt.plot([pos[0, 0, i], pos[0, 0, i] + vel[0, 0, i]], [pos[0, 1, i], pos[0, 1, i] + vel[0, 1, i]], '--', color=colors[i])\n",
        "    fig.set_size_inches(7, 7)\n",
        "    plt.xlim(np.min(pos)-1, np.max(pos) +1)\n",
        "    plt.ylim(np.min(pos)-1, np.max(pos) +1)\n",
        "    plt.plot([], [], 'd', color='black', label='initial position')\n",
        "    plt.plot([], [], 'x', color='black', label='final position')\n",
        "    plt.plot([], [], '--', color='black', label='initial velocity \\ndirection and magnitude')\n",
        "    plt.legend()\n",
        "    \n",
        "    plt.show()\n",
        "    return"
      ]
    },
    {
      "cell_type": "code",
      "execution_count": 7,
      "id": "d28681a6",
      "metadata": {
        "id": "d28681a6",
        "colab": {
          "base_uri": "https://localhost:8080/",
          "height": 429
        },
        "outputId": "7055cf06-4e2c-47bd-f1ba-c66aa8b7075e"
      },
      "outputs": [
        {
          "output_type": "display_data",
          "data": {
            "text/plain": [
              "<Figure size 504x504 with 1 Axes>"
            ],
            "image/png": "[encoded data removed]"
          },
          "metadata": {
            "needs_background": "light"
          }
        }
      ],
      "source": [
        "random_idx = np.random.randint(0, 10000)\n",
        "plot_example(positions_train[random_idx], velocities_train[random_idx])"
      ]
    },
    {
      "cell_type": "markdown",
      "id": "059b633c",
      "metadata": {
        "id": "059b633c"
      },
      "source": [
        "# Data Handling and Preprocessing"
      ]
    },
    {
      "cell_type": "code",
      "execution_count": 8,
      "id": "e6ecb529",
      "metadata": {
        "id": "e6ecb529"
      },
      "outputs": [],
      "source": [
        "import torch\n",
        "\n",
        "X_train = torch.cat((torch.tensor(positions_train[:,0,:,:]), torch.tensor(charges_train).squeeze(-1).unsqueeze(1)), dim=1)\n",
        "X_train = torch.cat((X_train, torch.tensor(velocities_train).squeeze(1)), dim=1) # shape: (simulation id, parameters (x, y, c, v_x, v_y), particle id)\n",
        "y_train = torch.tensor(positions_train[:,1:,:,:]) # shape: (simulation id, time (0.5, 1, 1.5), (x, y), particle id)\n",
        "\n",
        "X_valid = torch.cat((torch.tensor(positions_valid[:,0,:,:]), torch.tensor(charges_valid).squeeze(-1).unsqueeze(1)), dim=1)\n",
        "X_valid = torch.cat((X_valid, torch.tensor(velocities_valid).squeeze(1)), dim=1)\n",
        "y_valid = torch.tensor(positions_valid[:,1:,:,:])\n",
        "\n",
        "X_test = torch.cat((torch.tensor(positions_test[:,0,:,:]), torch.tensor(charges_test).squeeze(-1).unsqueeze(1)), dim=1)\n",
        "X_test = torch.cat((X_test, torch.tensor(velocities_test).squeeze(1)), dim=1)\n",
        "y_test = torch.tensor(positions_test[:,1:,:,:])"
      ]
    },
    {
      "cell_type": "code",
      "execution_count": 9,
      "id": "f8633eb8",
      "metadata": {
        "id": "f8633eb8"
      },
      "outputs": [],
      "source": [
        "from torch.utils.data import TensorDataset, DataLoader\n",
        "\n",
        "train_dataset = TensorDataset(X_train, y_train)\n",
        "valid_dataset = TensorDataset(X_valid, y_valid)\n",
        "test_dataset = TensorDataset(X_test, y_test)"
      ]
    },
    {
      "cell_type": "code",
      "execution_count": 23,
      "id": "0a99a32b",
      "metadata": {
        "id": "0a99a32b"
      },
      "outputs": [],
      "source": [
        "batch_size = 64\n",
        "\n",
        "train_dataloader = DataLoader(train_dataset, batch_size=batch_size, shuffle=True)\n",
        "valid_dataloader = DataLoader(valid_dataset, batch_size=batch_size, shuffle=False)\n",
        "test_dataloader = DataLoader(test_dataset, batch_size=batch_size, shuffle=False)"
      ]
    },
    {
      "cell_type": "markdown",
      "id": "18b2874d",
      "metadata": {
        "id": "18b2874d"
      },
      "source": [
        "# Model Implementation"
      ]
    },
    {
      "cell_type": "code",
      "execution_count": 24,
      "id": "66774050",
      "metadata": {
        "id": "66774050"
      },
      "outputs": [],
      "source": [
        "import torch.nn as nn\n",
        "import torch.nn.functional as F\n",
        "\n",
        "class ParticleModel(torch.nn.Module):\n",
        "    def __init__(self, set_size: int = 5, input_size: int = 5, \n",
        "                 fau1_out: int = 32, gamma1_out: int = 32, fau2_out: int = 32, gamma2_out: int = 2, device: torch.device = torch.device('cpu')):\n",
        "        super(ParticleModel, self).__init__()\n",
        "        # first iteration \n",
        "        # layer 1\n",
        "        # input target (x_t, y_t, c_t, v_t) + neighbour (x_n, y_n, c_n, v_n) + edge (distance(t, n)) \n",
        "        # as the result input for first layer is x + x + 1 = 2x + 1 (8 + 1 in our case)\n",
        "        self.fau_iteration1 = nn.Sequential(nn.Linear(input_size*2 + 1, fau1_out),\n",
        "                                            nn.LeakyReLU())\n",
        "        # embeddings are calculated\n",
        "\n",
        "        # layer 2\n",
        "        # input (x_target, y_target, c_target, v_target) + embedding from layer_1 + time\n",
        "        self.gamma_iteration1 = nn.Sequential(nn.Linear(fau1_out+input_size+1, gamma1_out),\n",
        "                                              nn.LeakyReLU())\n",
        "        self.embedding_size = (set_size, gamma1_out)\n",
        "\n",
        "        # second iteration \n",
        "        # layer 3\n",
        "        # input target (embedding from layer 1) + neigbour (embedding from layer 1) + edge (distance(t, n))\n",
        "        self.fau_iteration2 = nn.Sequential(nn.Linear(gamma1_out*2 + 1, fau2_out),\n",
        "                                            nn.LeakyReLU())\n",
        "        # embeddings are calculated\n",
        "\n",
        "        # layer 4\n",
        "        # input (x_target, y_target, c_target, v_target) + embedding from layer_3 + time\n",
        "        self.gamma_iteration2 = nn.Sequential(nn.Linear(fau2_out + gamma1_out + 1, gamma2_out))\n",
        "        self.output_size = (set_size, gamma2_out)\n",
        "        self.device = device\n",
        "\n",
        "    \n",
        "    def forward_iteration1(self, particle_set, distances, target_time: float = 2.):\n",
        "        embedding = torch.zeros((particle_set.shape[0], self.embedding_size[0], self.embedding_size[1])).to(self.device)\n",
        "        \n",
        "        for i in range(particle_set.shape[1]):\n",
        "            # concatenate the neighborhood\n",
        "            x = torch.cat([particle_set[:,i].reshape((particle_set.shape[0], 1, 5)).repeat((1, particle_set.shape[1] - 1, 1)),\n",
        "                           particle_set[:, list(set(range(particle_set.shape[1])).difference({i}))],\n",
        "                           distances[:, i, list(set(range(particle_set.shape[1])).difference({i}))].reshape((particle_set.shape[0],\\\n",
        "                                                                                                   particle_set.shape[1]-1,1))],\n",
        "                          2)\n",
        "\n",
        "\n",
        "            x = self.fau_iteration1(x)\n",
        "\n",
        "            # aggregation function\n",
        "            # mean as a placeholder for now\n",
        "            x = x.mean(axis = 1)\n",
        "            # concatenate \n",
        "            x = torch.cat([particle_set[:, i].view(particle_set.shape[0], 1, -1),\n",
        "                           x.view(particle_set.shape[0], 1, -1),\n",
        "                           torch.Tensor([target_time]).repeat((particle_set.shape[0])).view(particle_set.shape[0], 1, -1).to(self.device)],\n",
        "                           dim = 2)\n",
        "            embedding[:,i] = self.gamma_iteration1(x).view(embedding[:,i].shape)\n",
        "        return embedding\n",
        "\n",
        "    def forward_iteration2(self, particle_set, distances, target_time: float = 2.):\n",
        "        embedding = torch.zeros((particle_set.shape[0], self.output_size[0], self.output_size[1])).to(self.device)\n",
        "        for i in range(particle_set.shape[1]):\n",
        "            # concatenate the neighborhood\n",
        "            x = torch.cat([particle_set[:,i].reshape((particle_set.shape[0], 1, particle_set.shape[2])).repeat((1, particle_set.shape[1] - 1, 1)),\n",
        "                           particle_set[:, list(set(range(particle_set.shape[1])).difference({i}))],\n",
        "                           distances[:, i, list(set(range(particle_set.shape[1])).difference({i}))].reshape((particle_set.shape[0],\\\n",
        "                                                                                                   particle_set.shape[1]-1,1))],\n",
        "                          2)\n",
        "\n",
        "            x = self.fau_iteration2(x)\n",
        "\n",
        "            # aggregation function\n",
        "            # mean as a placeholder for now\n",
        "            x = x.mean(axis = 1)\n",
        "\n",
        "            \n",
        "            # concatenate \n",
        "            x = torch.cat([particle_set[:, i].view(particle_set.shape[0], 1, -1),\n",
        "                           x.view(particle_set.shape[0], 1, -1),\n",
        "                           torch.Tensor([target_time]).repeat((particle_set.shape[0])).view(particle_set.shape[0], 1, -1).to(self.device)],\n",
        "                           dim = 2)    \n",
        "\n",
        "            embedding[:,i] = self.gamma_iteration2(x).view(embedding[:,i].shape)\n",
        "        return embedding\n",
        "\n",
        "    def forward(self, particle_set, target_time: float = 2.):\n",
        "        distances = torch.stack([torch.cdist(x_i, x_i) for x_i in particle_set], dim=0).to(self.device)\n",
        "        p1 = self.forward_iteration1(particle_set = particle_set, distances = distances, target_time=target_time).to(self.device)\n",
        "        out = self.forward_iteration2(particle_set=p1, distances=distances, target_time=target_time)\n",
        "\n",
        "        return out # (particle_set.shape[0], 5, 2)"
      ]
    },
    {
      "cell_type": "markdown",
      "id": "dea70d73",
      "metadata": {
        "id": "dea70d73"
      },
      "source": [
        "# Model Training"
      ]
    },
    {
      "cell_type": "code",
      "execution_count": 12,
      "id": "3af520ae",
      "metadata": {
        "id": "3af520ae"
      },
      "outputs": [],
      "source": [
        "# train model"
      ]
    },
    {
      "cell_type": "code",
      "execution_count": 13,
      "id": "e95af5f9",
      "metadata": {
        "id": "e95af5f9"
      },
      "outputs": [],
      "source": [
        "from tqdm import tqdm\n",
        "\n",
        "class Trainer():\n",
        "    def __init__(self,\n",
        "                 model: torch.nn.Module,\n",
        "                 device: torch.device,\n",
        "                 criterion: torch.nn.Module,\n",
        "                 optimizer: torch.optim.Optimizer,\n",
        "                 training_DataLoader: torch.utils.data.Dataset,\n",
        "                 validation_DataLoader: torch.utils.data.Dataset ,\n",
        "                 testing_DataLoader: torch.utils.data.Dataset ,\n",
        "                 epochs: int\n",
        "                 ):\n",
        "        \n",
        "        self.model = model\n",
        "        self.criterion = criterion\n",
        "        self.optimizer = optimizer\n",
        "        self.training_DataLoader = training_DataLoader\n",
        "        self.validation_DataLoader = validation_DataLoader\n",
        "        self.testing_DataLoader = testing_DataLoader\n",
        "        self.device = device\n",
        "        self.epochs = epochs\n",
        "\n",
        "\n",
        "    def run_trainer(self):\n",
        "\n",
        "        epoch_train_losses = []\n",
        "        epoch_val_losses = []\n",
        "\n",
        "        times = [0.5, 1, 1.5]\n",
        "        time_to_ind = {0.5:0, 1:1, 1.5:2}\n",
        "        for epoch in tqdm(range(self.epochs)):\n",
        "                 \n",
        "\n",
        "            self.model.train()  # train mode\n",
        "\n",
        "            train_losses=[]\n",
        "            \n",
        "            correct = 0\n",
        "            length = 0\n",
        "            for x, y in self.training_DataLoader:\n",
        "\n",
        "                A, B = x.float().to(self.device), y.float().to(self.device) # send to device (GPU or CPU)\n",
        "\n",
        "                self.optimizer.zero_grad()  # zerograd the parameters\n",
        "\n",
        "                loss = 0\n",
        "                for t in times:\n",
        "                    out = self.model(A, t)  # one forward pass\n",
        "                    loss += self.criterion(out.permute(0, 2, 1), B[:,time_to_ind[t],:,:])   # calculate loss\n",
        "                \n",
        "                loss_value = loss.item()\n",
        "                train_losses.append(loss_value)\n",
        "                 \n",
        "                loss.backward()  # one backward pass\n",
        "                self.optimizer.step()  # update the parameters\n",
        "            \n",
        "            epoch_train_losses.append(np.mean(train_losses))\n",
        "            self.model.eval()  # evaluation mode\n",
        "            valid_losses = []  # accumulate the losses here\n",
        "\n",
        "            correct = 0\n",
        "            length = 0\n",
        "            for x,  y in self.validation_DataLoader:\n",
        "\n",
        "                A,B = x.float().to(self.device), y.float().to(self.device) # send to device (GPU or CPU)\n",
        "\n",
        "                with torch.no_grad():\n",
        "                    loss = 0\n",
        "                    for t in times:\n",
        "                        out = self.model(A, t)  # one forward pass\n",
        "                        loss += self.criterion(out.permute(0, 2, 1), B[:,time_to_ind[t],:,:])  # calculate loss\n",
        "                 \n",
        "                    loss_value = loss.item()\n",
        "                    valid_losses.append(loss_value)\n",
        "\n",
        "            epoch_val_losses.append(np.mean(valid_losses))\n",
        "                \n",
        "            # print the results\n",
        "            print(\n",
        "                f'EPOCH: {epoch+1:0>{len(str(self.epochs))}}/{self.epochs}',\n",
        "                end=' '\n",
        "            )\n",
        "            print(f'LOSS: {np.mean(train_losses):.4f}',end=' ')\n",
        "            print(f'VAL-LOSS: {np.mean(valid_losses):.4f}',end='\\n')\n",
        "\n",
        "        return epoch_train_losses, epoch_val_losses\n",
        "        \n",
        "    def evaluate(self, t):\n",
        "\n",
        "        self.model.eval()\n",
        "        times = [0.5, 1, 1.5]\n",
        "        time_to_ind = {0.5:0, 1:1, 1.5:2}\n",
        "\n",
        "        with torch.no_grad():\n",
        "            loss = 0\n",
        "            length = 0\n",
        "            for x,y in self.testing_DataLoader:\n",
        "                \n",
        "                A, B = x.float().to(self.device), y.float().to(self.device)\n",
        "                out = self.model(A, t)\n",
        "                loss += (out.permute(0, 2, 1)-B[:,time_to_ind[t],:,:]).abs().sum().item()\n",
        "                length+= B.shape[0]\n",
        "                \n",
        "\n",
        "        print(f'Accuracy: {loss/length:.4f}',end=' ')"
      ]
    },
    {
      "cell_type": "code",
      "execution_count": 25,
      "id": "07e03ddf",
      "metadata": {
        "id": "07e03ddf",
        "colab": {
          "base_uri": "https://localhost:8080/"
        },
        "outputId": "997b0b7c-d5eb-4195-8958-56b8dbbda37e"
      },
      "outputs": [
        {
          "output_type": "stream",
          "name": "stderr",
          "text": [
            "  3%|▎         | 1/30 [00:05<02:38,  5.46s/it]"
          ]
        },
        {
          "output_type": "stream",
          "name": "stdout",
          "text": [
            "EPOCH: 01/30 LOSS: 6.4073 VAL-LOSS: 6.1267\n"
          ]
        },
        {
          "output_type": "stream",
          "name": "stderr",
          "text": [
            "\r  7%|▋         | 2/30 [00:11<02:45,  5.91s/it]"
          ]
        },
        {
          "output_type": "stream",
          "name": "stdout",
          "text": [
            "EPOCH: 02/30 LOSS: 5.9893 VAL-LOSS: 5.8479\n"
          ]
        },
        {
          "output_type": "stream",
          "name": "stderr",
          "text": [
            "\r 10%|█         | 3/30 [00:17<02:34,  5.74s/it]"
          ]
        },
        {
          "output_type": "stream",
          "name": "stdout",
          "text": [
            "EPOCH: 03/30 LOSS: 5.8188 VAL-LOSS: 5.7581\n"
          ]
        },
        {
          "output_type": "stream",
          "name": "stderr",
          "text": [
            "\r 13%|█▎        | 4/30 [00:22<02:27,  5.65s/it]"
          ]
        },
        {
          "output_type": "stream",
          "name": "stdout",
          "text": [
            "EPOCH: 04/30 LOSS: 5.6972 VAL-LOSS: 5.7024\n"
          ]
        },
        {
          "output_type": "stream",
          "name": "stderr",
          "text": [
            "\r 17%|█▋        | 5/30 [00:28<02:20,  5.62s/it]"
          ]
        },
        {
          "output_type": "stream",
          "name": "stdout",
          "text": [
            "EPOCH: 05/30 LOSS: 5.6277 VAL-LOSS: 5.6211\n"
          ]
        },
        {
          "output_type": "stream",
          "name": "stderr",
          "text": [
            "\r 20%|██        | 6/30 [00:33<02:14,  5.60s/it]"
          ]
        },
        {
          "output_type": "stream",
          "name": "stdout",
          "text": [
            "EPOCH: 06/30 LOSS: 5.5895 VAL-LOSS: 5.6320\n"
          ]
        },
        {
          "output_type": "stream",
          "name": "stderr",
          "text": [
            "\r 23%|██▎       | 7/30 [00:39<02:08,  5.57s/it]"
          ]
        },
        {
          "output_type": "stream",
          "name": "stdout",
          "text": [
            "EPOCH: 07/30 LOSS: 5.5569 VAL-LOSS: 5.5641\n"
          ]
        },
        {
          "output_type": "stream",
          "name": "stderr",
          "text": [
            "\r 27%|██▋       | 8/30 [00:45<02:05,  5.72s/it]"
          ]
        },
        {
          "output_type": "stream",
          "name": "stdout",
          "text": [
            "EPOCH: 08/30 LOSS: 5.5338 VAL-LOSS: 5.5693\n"
          ]
        },
        {
          "output_type": "stream",
          "name": "stderr",
          "text": [
            "\r 30%|███       | 9/30 [00:50<01:58,  5.65s/it]"
          ]
        },
        {
          "output_type": "stream",
          "name": "stdout",
          "text": [
            "EPOCH: 09/30 LOSS: 5.5191 VAL-LOSS: 5.5403\n"
          ]
        },
        {
          "output_type": "stream",
          "name": "stderr",
          "text": [
            "\r 33%|███▎      | 10/30 [00:56<01:52,  5.62s/it]"
          ]
        },
        {
          "output_type": "stream",
          "name": "stdout",
          "text": [
            "EPOCH: 10/30 LOSS: 5.5065 VAL-LOSS: 5.5488\n"
          ]
        },
        {
          "output_type": "stream",
          "name": "stderr",
          "text": [
            "\r 37%|███▋      | 11/30 [01:01<01:45,  5.55s/it]"
          ]
        },
        {
          "output_type": "stream",
          "name": "stdout",
          "text": [
            "EPOCH: 11/30 LOSS: 5.4834 VAL-LOSS: 5.5395\n"
          ]
        },
        {
          "output_type": "stream",
          "name": "stderr",
          "text": [
            "\r 40%|████      | 12/30 [01:07<01:38,  5.48s/it]"
          ]
        },
        {
          "output_type": "stream",
          "name": "stdout",
          "text": [
            "EPOCH: 12/30 LOSS: 5.4702 VAL-LOSS: 5.5201\n"
          ]
        },
        {
          "output_type": "stream",
          "name": "stderr",
          "text": [
            "\r 43%|████▎     | 13/30 [01:12<01:32,  5.44s/it]"
          ]
        },
        {
          "output_type": "stream",
          "name": "stdout",
          "text": [
            "EPOCH: 13/30 LOSS: 5.4589 VAL-LOSS: 5.5278\n"
          ]
        },
        {
          "output_type": "stream",
          "name": "stderr",
          "text": [
            "\r 47%|████▋     | 14/30 [01:17<01:26,  5.41s/it]"
          ]
        },
        {
          "output_type": "stream",
          "name": "stdout",
          "text": [
            "EPOCH: 14/30 LOSS: 5.4525 VAL-LOSS: 5.5410\n"
          ]
        },
        {
          "output_type": "stream",
          "name": "stderr",
          "text": [
            "\r 50%|█████     | 15/30 [01:23<01:21,  5.41s/it]"
          ]
        },
        {
          "output_type": "stream",
          "name": "stdout",
          "text": [
            "EPOCH: 15/30 LOSS: 5.4492 VAL-LOSS: 5.4850\n"
          ]
        },
        {
          "output_type": "stream",
          "name": "stderr",
          "text": [
            "\r 53%|█████▎    | 16/30 [01:28<01:15,  5.42s/it]"
          ]
        },
        {
          "output_type": "stream",
          "name": "stdout",
          "text": [
            "EPOCH: 16/30 LOSS: 5.4256 VAL-LOSS: 5.5034\n"
          ]
        },
        {
          "output_type": "stream",
          "name": "stderr",
          "text": [
            "\r 57%|█████▋    | 17/30 [01:34<01:10,  5.41s/it]"
          ]
        },
        {
          "output_type": "stream",
          "name": "stdout",
          "text": [
            "EPOCH: 17/30 LOSS: 5.4279 VAL-LOSS: 5.5683\n"
          ]
        },
        {
          "output_type": "stream",
          "name": "stderr",
          "text": [
            "\r 60%|██████    | 18/30 [01:39<01:04,  5.39s/it]"
          ]
        },
        {
          "output_type": "stream",
          "name": "stdout",
          "text": [
            "EPOCH: 18/30 LOSS: 5.4268 VAL-LOSS: 5.5062\n"
          ]
        },
        {
          "output_type": "stream",
          "name": "stderr",
          "text": [
            "\r 63%|██████▎   | 19/30 [01:44<00:59,  5.41s/it]"
          ]
        },
        {
          "output_type": "stream",
          "name": "stdout",
          "text": [
            "EPOCH: 19/30 LOSS: 5.4222 VAL-LOSS: 5.5129\n"
          ]
        },
        {
          "output_type": "stream",
          "name": "stderr",
          "text": [
            "\r 67%|██████▋   | 20/30 [01:50<00:53,  5.40s/it]"
          ]
        },
        {
          "output_type": "stream",
          "name": "stdout",
          "text": [
            "EPOCH: 20/30 LOSS: 5.4197 VAL-LOSS: 5.5134\n"
          ]
        },
        {
          "output_type": "stream",
          "name": "stderr",
          "text": [
            "\r 70%|███████   | 21/30 [01:55<00:48,  5.39s/it]"
          ]
        },
        {
          "output_type": "stream",
          "name": "stdout",
          "text": [
            "EPOCH: 21/30 LOSS: 5.3966 VAL-LOSS: 5.4926\n"
          ]
        },
        {
          "output_type": "stream",
          "name": "stderr",
          "text": [
            "\r 73%|███████▎  | 22/30 [02:01<00:43,  5.46s/it]"
          ]
        },
        {
          "output_type": "stream",
          "name": "stdout",
          "text": [
            "EPOCH: 22/30 LOSS: 5.4074 VAL-LOSS: 5.4859\n"
          ]
        },
        {
          "output_type": "stream",
          "name": "stderr",
          "text": [
            "\r 77%|███████▋  | 23/30 [02:06<00:38,  5.43s/it]"
          ]
        },
        {
          "output_type": "stream",
          "name": "stdout",
          "text": [
            "EPOCH: 23/30 LOSS: 5.3953 VAL-LOSS: 5.5209\n"
          ]
        },
        {
          "output_type": "stream",
          "name": "stderr",
          "text": [
            "\r 80%|████████  | 24/30 [02:11<00:32,  5.41s/it]"
          ]
        },
        {
          "output_type": "stream",
          "name": "stdout",
          "text": [
            "EPOCH: 24/30 LOSS: 5.3992 VAL-LOSS: 5.5193\n"
          ]
        },
        {
          "output_type": "stream",
          "name": "stderr",
          "text": [
            "\r 83%|████████▎ | 25/30 [02:17<00:27,  5.47s/it]"
          ]
        },
        {
          "output_type": "stream",
          "name": "stdout",
          "text": [
            "EPOCH: 25/30 LOSS: 5.3810 VAL-LOSS: 5.5022\n"
          ]
        },
        {
          "output_type": "stream",
          "name": "stderr",
          "text": [
            "\r 87%|████████▋ | 26/30 [02:22<00:21,  5.44s/it]"
          ]
        },
        {
          "output_type": "stream",
          "name": "stdout",
          "text": [
            "EPOCH: 26/30 LOSS: 5.3803 VAL-LOSS: 5.4843\n"
          ]
        },
        {
          "output_type": "stream",
          "name": "stderr",
          "text": [
            "\r 90%|█████████ | 27/30 [02:28<00:16,  5.41s/it]"
          ]
        },
        {
          "output_type": "stream",
          "name": "stdout",
          "text": [
            "EPOCH: 27/30 LOSS: 5.3686 VAL-LOSS: 5.5045\n"
          ]
        },
        {
          "output_type": "stream",
          "name": "stderr",
          "text": [
            "\r 93%|█████████▎| 28/30 [02:33<00:10,  5.40s/it]"
          ]
        },
        {
          "output_type": "stream",
          "name": "stdout",
          "text": [
            "EPOCH: 28/30 LOSS: 5.3671 VAL-LOSS: 5.4872\n"
          ]
        },
        {
          "output_type": "stream",
          "name": "stderr",
          "text": [
            "\r 97%|█████████▋| 29/30 [02:38<00:05,  5.37s/it]"
          ]
        },
        {
          "output_type": "stream",
          "name": "stdout",
          "text": [
            "EPOCH: 29/30 LOSS: 5.3584 VAL-LOSS: 5.5216\n"
          ]
        },
        {
          "output_type": "stream",
          "name": "stderr",
          "text": [
            "100%|██████████| 30/30 [02:44<00:00,  5.49s/it]"
          ]
        },
        {
          "output_type": "stream",
          "name": "stdout",
          "text": [
            "EPOCH: 30/30 LOSS: 5.3587 VAL-LOSS: 5.5195\n"
          ]
        },
        {
          "output_type": "stream",
          "name": "stderr",
          "text": [
            "\n"
          ]
        }
      ],
      "source": [
        "if torch.cuda.is_available():\n",
        "    device = torch.device('cuda')\n",
        "else:\n",
        "    device=torch.device('cpu')\n",
        "\n",
        "model = ParticleModel(device = device).to(device)\n",
        "criterion = torch.nn.L1Loss()\n",
        "optimizer = torch.optim.Adam(model.parameters(), lr=0.01)\n",
        "\n",
        "\n",
        "TrainingProcedure = Trainer(model, \n",
        "                            device, \n",
        "                            criterion, #torch.nn.BCELoss(),\n",
        "                            optimizer,\n",
        "                            train_dataloader,\n",
        "                            valid_dataloader,\n",
        "                            test_dataloader,\n",
        "                            epochs = 30)\n",
        "\n",
        "\n",
        "\n",
        "train_loss, val_loss = TrainingProcedure.run_trainer()"
      ]
    },
    {
      "cell_type": "code",
      "source": [
        "def evaluate(self, t, test_dataloader):\n",
        "\n",
        "        self.model.eval()\n",
        "        times = [0.5, 1, 1.5]\n",
        "        time_to_ind = {0.5:0, 1:1, 1.5:2}\n",
        "\n",
        "        with torch.no_grad():\n",
        "            loss = 0\n",
        "            loss_baseline = 0\n",
        "            length = 0\n",
        "            for x,y in test_dataloader:\n",
        "                \n",
        "                A, B = x.float().to(self.device), y.float().to(self.device)\n",
        "                out = self.model(A, t)\n",
        "                out_baseline = A[:,:2,:] + t*A[:,3:,:]\n",
        "                loss += (out.permute(0, 2, 1)-B[:,time_to_ind[t],:,:]).abs().sum().item()\n",
        "                loss_baseline += (out_baseline-B[:,time_to_ind[t],:,:]).abs().sum()\n",
        "                length += B.shape[0]\n",
        "\n",
        "        print(f'L1 Loss Model: {loss/length:.4f}',end=' ')\n",
        "        print(f'L1 Loss Baseline: {loss_baseline/length:.4f}',end=' ')\n",
        "\n",
        "evaluate(TrainingProcedure, t= 1.5, test_dataloader = test_dataloader)"
      ],
      "metadata": {
        "colab": {
          "base_uri": "https://localhost:8080/"
        },
        "id": "ZfEf079memJT",
        "outputId": "15295f68-a316-4338-d8fb-a4527b3af805"
      },
      "id": "ZfEf079memJT",
      "execution_count": 26,
      "outputs": [
        {
          "output_type": "stream",
          "name": "stdout",
          "text": [
            "L1 Loss Model: 20.6854 L1 Loss Baseline: 4.0180 "
          ]
        }
      ]
    },
    {
      "cell_type": "markdown",
      "id": "d5fb3b29",
      "metadata": {
        "id": "d5fb3b29"
      },
      "source": [
        "# Evaluation"
      ]
    },
    {
      "cell_type": "markdown",
      "id": "5ed539a8",
      "metadata": {
        "id": "5ed539a8"
      },
      "source": [
        "### Some ideas on the experimental part:\n",
        "\n",
        "* Try various aggregation functions: Mean, Pooling (Max and Min)\n",
        "* Compare different target time as an input\n",
        "* Check different losses\n",
        "* Regularization to the embeddings (linear layers) (?)"
      ]
    },
    {
      "cell_type": "code",
      "execution_count": null,
      "id": "bf5fa1b4",
      "metadata": {
        "id": "bf5fa1b4"
      },
      "outputs": [],
      "source": [
        "#todo"
      ]
    },
    {
      "cell_type": "code",
      "execution_count": null,
      "id": "2280031f",
      "metadata": {
        "id": "2280031f"
      },
      "outputs": [],
      "source": [
        ""
      ]
    },
    {
      "cell_type": "code",
      "execution_count": null,
      "id": "3a8240f1",
      "metadata": {
        "id": "3a8240f1"
      },
      "outputs": [],
      "source": [
        ""
      ]
    }
  ],
  "metadata": {
    "colab": {
      "name": "a2_skeleton.ipynb",
      "provenance": [],
      "collapsed_sections": []
    },
    "interpreter": {
      "hash": "b001d610a241339cc3b7988a7f6c804c70cb4dbbf032519cbfea0d67797e8b2b"
    },
    "kernelspec": {
      "display_name": "Python 3.9.7 ('base')",
      "language": "python",
      "name": "python3"
    },
    "language_info": {
      "codemirror_mode": {
        "name": "ipython",
        "version": 3
      },
      "file_extension": ".py",
      "mimetype": "text/x-python",
      "name": "python",
      "nbconvert_exporter": "python",
      "pygments_lexer": "ipython3",
      "version": "3.9.7"
    },
    "accelerator": "GPU"
  },
  "nbformat": 4,
  "nbformat_minor": 5
}