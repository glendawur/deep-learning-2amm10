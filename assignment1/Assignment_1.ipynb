{
  "cells": [
    {
      "cell_type": "markdown",
      "id": "b9b20982",
      "metadata": {
        "id": "b9b20982"
      },
      "source": [
        "# Group Number: 32\n",
        "# Student 1: Andrei Rykov\n",
        "# Student 2: Nikita Jain\n",
        "# Student 3: Ryan Meghoe"
      ]
    },
    {
      "cell_type": "code",
      "execution_count": 1,
      "id": "b49fc2e3",
      "metadata": {
        "colab": {
          "base_uri": "https://localhost:8080/"
        },
        "id": "b49fc2e3",
        "outputId": "a0a22488-2261-46c8-ab30-768c0e7bb05a"
      },
      "outputs": [
        {
          "output_type": "stream",
          "name": "stdout",
          "text": [
            "Populating the interactive namespace from numpy and matplotlib\n"
          ]
        }
      ],
      "source": [
        "import requests\n",
        "import io\n",
        "import torch\n",
        "import torch.nn as nn\n",
        "import torch.nn.functional as F\n",
        "import numpy as np\n",
        "%pylab inline"
      ]
    },
    {
      "cell_type": "markdown",
      "id": "25cfb295",
      "metadata": {
        "id": "25cfb295"
      },
      "source": [
        "### Training data set\n",
        "\n",
        "\n",
        "For Assignment 1 you need to use a specific data set prepared using images from the [Omniglot dataset](https://github.com/brendenlake/omniglot). The provided training data set contains images of handwritten characters of size (28,28). \n",
        "\n",
        "\n",
        "\n",
        "For training data, the dataset contains 10000 sets of 6 images each. Each set consists of 5 support images and 1 query image. In each set, the first five columns are support images and the last one is a query image.\n",
        "\n",
        "For training labels, the dataset contains 10000 sets of 5 binary flags for support images. 1 indicates the same character is given in the query image and 0 means not. For example, a label [1,0,0,1,1] means the support images with index 0,3,4 are the same character of query image.\n",
        "\n",
        " \n",
        " \n",
        "The following cell provides code that loads the data from hardcoded URLs.You can use the code in this cell to load the dataset or download the data set from the given URLs to your local drive (or your Google drive) and modify the code to load the data from another location. \n",
        "\n",
        "\n"
      ]
    },
    {
      "cell_type": "code",
      "execution_count": 2,
      "id": "f19f0a40",
      "metadata": {
        "colab": {
          "base_uri": "https://localhost:8080/"
        },
        "id": "f19f0a40",
        "outputId": "938950de-4384-4b25-a7c2-36bb38ad4061"
      },
      "outputs": [
        {
          "output_type": "stream",
          "name": "stdout",
          "text": [
            "train_data shape: (10000, 6, 28, 28)\n",
            "train_label shape: (10000, 5)\n",
            "\n"
          ]
        }
      ],
      "source": [
        "def load_numpy_arr_from_url(url):\n",
        "    \"\"\"\n",
        "    Loads a numpy array from surfdrive. \n",
        "    \n",
        "    Input:\n",
        "    url: Download link of dataset \n",
        "    \n",
        "    Outputs:\n",
        "    dataset: numpy array with input features or labels\n",
        "    \"\"\"\n",
        "    \n",
        "    response = requests.get(url)\n",
        "    response.raise_for_status()\n",
        "\n",
        "    return np.load(io.BytesIO(response.content)) \n",
        "    \n",
        "    \n",
        "    \n",
        "#Downloading may take a while..\n",
        "train_data = load_numpy_arr_from_url('https://surfdrive.surf.nl/files/index.php/s/4OXkVie05NPjRKK/download')\n",
        "train_label = load_numpy_arr_from_url('https://surfdrive.surf.nl/files/index.php/s/oMLFw60zpFX82ua/download')\n",
        "\n",
        "print(f\"train_data shape: {train_data.shape}\")\n",
        "print(f\"train_label shape: {train_label.shape}\\n\")"
      ]
    },
    {
      "cell_type": "markdown",
      "id": "cb937392",
      "metadata": {
        "id": "cb937392"
      },
      "source": [
        "Now, we plot the first 5 cases in the training dataset. The last column corresponds with the query images of each task. All other images are support images. The image enclosed in a red box denotes the target image that your model should be able to recognize as the same class as the query image. "
      ]
    },
    {
      "cell_type": "code",
      "execution_count": 3,
      "id": "b1b4bd29",
      "metadata": {
        "id": "b1b4bd29"
      },
      "outputs": [],
      "source": [
        "def plot_case(caseID,train_data,labels):\n",
        "    \"\"\"\n",
        "    Plots a single sample of the query dataset\n",
        "    \n",
        "    Inputs\n",
        "    caseID: Integer between 0 and 99, each corresponding to a single sample in the query dataset \n",
        "    \"\"\"\n",
        "    \n",
        "\n",
        "    support_set,queries = np.split(train_data, [5], axis=1)\n",
        "    \n",
        "    f, axes = plt.subplots(1, 6, figsize=(20,5))\n",
        "\n",
        "    # plot anchor image\n",
        "    axes[5].imshow(queries[caseID, 0])\n",
        "    axes[5].set_title(f\"Query image case {caseID}\", fontsize=15)\n",
        "\n",
        "    # show all test images images \n",
        "    [ax.imshow(support_set[caseID, i]) for i, ax in enumerate(axes[0:-1])]\n",
        "\n",
        "\n",
        "    # Add the patch to the Axes\n",
        "    for ind in np.where(labels[caseID]==True)[0]:\n",
        "        axes[ind].add_patch(Rectangle((0,0),27,27,linewidth=2, edgecolor='r',facecolor='none'))\n"
      ]
    },
    {
      "cell_type": "code",
      "execution_count": 4,
      "id": "03538ffb",
      "metadata": {
        "colab": {
          "base_uri": "https://localhost:8080/",
          "height": 1000
        },
        "id": "03538ffb",
        "outputId": "5e4eade5-95e7-496e-f657-4a5a853557bc"
      },
      "outputs": [
        {
          "output_type": "display_data",
          "data": {
            "text/plain": [
              "<Figure size 1440x360 with 6 Axes>"
            ],
            "image/png": "[encoded data removed]"
          },
          "metadata": {
            "needs_background": "light"
          }
        },
        {
          "output_type": "display_data",
          "data": {
            "text/plain": [
              "<Figure size 1440x360 with 6 Axes>"
            ],
            "image/png": "[encoded data removed]"
          },
          "metadata": {
            "needs_background": "light"
          }
        },
        {
          "output_type": "display_data",
          "data": {
            "text/plain": [
              "<Figure size 1440x360 with 6 Axes>"
            ],
            "image/png": "[encoded data removed]"
          },
          "metadata": {
            "needs_background": "light"
          }
        },
        {
          "output_type": "display_data",
          "data": {
            "text/plain": [
              "<Figure size 1440x360 with 6 Axes>"
            ],
            "image/png": "[encoded data removed]"
          },
          "metadata": {
            "needs_background": "light"
          }
        },
        {
          "output_type": "display_data",
          "data": {
            "text/plain": [
              "<Figure size 1440x360 with 6 Axes>"
            ],
            "image/png": "[encoded data removed]"
          },
          "metadata": {
            "needs_background": "light"
          }
        }
      ],
      "source": [
        "[plot_case(caseID,train_data,train_label) for caseID in range(5)] ;"
      ]
    },
    {
      "cell_type": "markdown",
      "id": "931f2383",
      "metadata": {
        "id": "931f2383"
      },
      "source": [
        "### Query data set\n",
        "\n",
        "For this task you need to use the following query data set. The dataset contains 1000 sets of 6 images each. The images are also of hand written characters, however these characters are not present in the training data set. The characters in the query data set all come from the Greek alphabet that is not part of the set of alphabets in the training data. \n"
      ]
    },
    {
      "cell_type": "code",
      "execution_count": 5,
      "id": "c9ba78dc",
      "metadata": {
        "colab": {
          "base_uri": "https://localhost:8080/"
        },
        "id": "c9ba78dc",
        "outputId": "82f315f4-2dcc-4f87-b593-cecc9bd5c0fa"
      },
      "outputs": [
        {
          "output_type": "stream",
          "name": "stdout",
          "text": [
            "test_data shape: (1000, 6, 28, 28)\n",
            "test_label shape: (1000, 5)\n",
            "\n"
          ]
        }
      ],
      "source": [
        "    \n",
        "#Downloading may take a while..\n",
        "test_data = load_numpy_arr_from_url('https://surfdrive.surf.nl/files/index.php/s/06c34QVUr69CxWY/download')\n",
        "test_label = load_numpy_arr_from_url('https://surfdrive.surf.nl/files/index.php/s/LQIH1CW7lfDXevk/download')\n",
        "\n",
        "print(f\"test_data shape: {test_data.shape}\")\n",
        "print(f\"test_label shape: {test_label.shape}\\n\")"
      ]
    },
    {
      "cell_type": "code",
      "execution_count": 6,
      "id": "03fb3580",
      "metadata": {
        "colab": {
          "base_uri": "https://localhost:8080/",
          "height": 1000
        },
        "id": "03fb3580",
        "outputId": "65373086-d97a-4608-9882-f8abc8d68b84",
        "scrolled": false
      },
      "outputs": [
        {
          "output_type": "display_data",
          "data": {
            "text/plain": [
              "<Figure size 1440x360 with 6 Axes>"
            ],
            "image/png": "[encoded data removed]"
          },
          "metadata": {
            "needs_background": "light"
          }
        },
        {
          "output_type": "display_data",
          "data": {
            "text/plain": [
              "<Figure size 1440x360 with 6 Axes>"
            ],
            "image/png": "[encoded data removed]"
          },
          "metadata": {
            "needs_background": "light"
          }
        },
        {
          "output_type": "display_data",
          "data": {
            "text/plain": [
              "<Figure size 1440x360 with 6 Axes>"
            ],
            "image/png": "[encoded data removed]"
          },
          "metadata": {
            "needs_background": "light"
          }
        },
        {
          "output_type": "display_data",
          "data": {
            "text/plain": [
              "<Figure size 1440x360 with 6 Axes>"
            ],
            "image/png": "[encoded data removed]"
          },
          "metadata": {
            "needs_background": "light"
          }
        },
        {
          "output_type": "display_data",
          "data": {
            "text/plain": [
              "<Figure size 1440x360 with 6 Axes>"
            ],
            "image/png": "[encoded data removed]"
          },
          "metadata": {
            "needs_background": "light"
          }
        }
      ],
      "source": [
        "[plot_case(caseID,test_data,test_label) for caseID in range(5)] ;"
      ]
    },
    {
      "cell_type": "markdown",
      "id": "fcc32db2",
      "metadata": {
        "id": "fcc32db2"
      },
      "source": [
        "### Build pytorch dataset and dataload"
      ]
    },
    {
      "cell_type": "code",
      "execution_count": 7,
      "id": "fcf31f45",
      "metadata": {
        "id": "fcf31f45"
      },
      "outputs": [],
      "source": [
        "import torch\n",
        "from torchvision import transforms\n",
        "from torch.utils.data import Dataset, DataLoader,TensorDataset\n",
        "from torch.utils.data.sampler import SubsetRandomSampler\n",
        "from sklearn.model_selection import train_test_split\n",
        "import numpy as np\n",
        "from PIL import Image\n",
        "\n",
        "\n",
        "class TrainProcessDataset(Dataset):\n",
        "    def __init__(self, data, targets, transform=None):\n",
        "        \"\"\"\n",
        "        The dataset initialization\n",
        "\n",
        "        Args:\n",
        "            data (np.ndarray): images vector of expectied size (number of vectors, size of support set + 1, height, width)\n",
        "            targets (np.ndarray): labels vector of expected size (number of vectors, size of support set)\n",
        "            transform (callable, optional): Optional transform to be applied on a sample\n",
        "        \"\"\"\n",
        "        # load images of shape (x, 6, 28, 28)\n",
        "        # load labels of shape (x, 5) \n",
        "        \n",
        "        #x = torch.zeros([data.shape[0]*(data.shape[1]- 1), 2, data.shape[-2], data.shape[-1]], dtype=torch.float64)\n",
        "        #y = torch.zeros([data.shape[0]*(data.shape[1]- 1), 1], dtype=torch.long)\n",
        "        x = np.zeros((data.shape[0]*(data.shape[1]- 1), 2, data.shape[-2], data.shape[-1]))\n",
        "        y = np.zeros((data.shape[0]*(data.shape[1]- 1), 1))\n",
        "\n",
        "        for n, (images, targets) in enumerate(zip(data, targets)):\n",
        "             for i in range(data.shape[1]- 1):\n",
        "                 x[n*(data.shape[1]- 1)+i, 0] = images[i]\n",
        "                 x[n*(data.shape[1]- 1)+i, 1] = images[-1]\n",
        "                 y[n*(data.shape[1]- 1)+i] = targets[i]\n",
        "\n",
        "        # store images as pairs of one example from support vector and the query image (5x, 2, 28, 28)\n",
        "        self.data = torch.Tensor(x)\n",
        "        # store the labels as 0/1 array\n",
        "        self.targets = torch.Tensor(y)\n",
        "        # \n",
        "        self.transform = transform\n",
        "\n",
        "    def __getitem__(self, index):\n",
        "        if self.transform:\n",
        "            im1 = self.data[index][0]\n",
        "            im1 = self.transform(im1.reshape((1,im1.shape[0], im1.shape[1]))).reshape((self.data.shape[-2],self.data.shape[-1]))\n",
        "            im2 = self.data[index][1]\n",
        "            im2 = self.transform(im2.reshape((1,im2.shape[0], im2.shape[1]))).reshape((self.data.shape[-2],self.data.shape[-1]))\n",
        "        else:\n",
        "            im1 = self.data[index][0]\n",
        "            im2 = self.data[index][1]\n",
        "        return im1, im2, self.targets[index]\n",
        "    \n",
        "    def __len__(self):\n",
        "        return len(self.data)\n",
        "\n",
        "    def __shape__(self):\n",
        "        return self.data.shape, self.targets.shape\n",
        "    \n",
        "\n",
        "def train_validation_split(X: np.ndarray, Y: np.ndarray, train_size = 0.8, transform = None):\n",
        "    \"\"\"\n",
        "    The function that returns the train and validation datasets\n",
        "    Args:\n",
        "        X (np.ndarray): the feature matrix\n",
        "        Y (np.ndarray): the labels matrix\n",
        "    \n",
        "    Output:\n",
        "        Train (TrainProcessDataset): the object of class TrainProcessDataset with train data\n",
        "        Validation (TrainProcessDataset): the object of class TrainProcessDataset with validation data\n",
        "    \"\"\"\n",
        "    indices = list(SubsetRandomSampler(range(X.shape[0])))\n",
        "    train_X, train_Y = X[:int(np.floor(len(indices)*train_size))], Y[:int(np.floor(len(indices)*train_size))]\n",
        "    val_X, val_Y = X[int(np.floor(len(indices)*train_size)):], Y[int(np.floor(len(indices)*train_size)):]\n",
        "    return TrainProcessDataset(train_X, train_Y, transform), TrainProcessDataset(val_X, val_Y, transform)"
      ]
    },
    {
      "cell_type": "markdown",
      "id": "rVEe4uDFeolY",
      "metadata": {
        "id": "rVEe4uDFeolY"
      },
      "source": [
        "## The Model"
      ]
    },
    {
      "cell_type": "code",
      "execution_count": 8,
      "id": "0b6fdfee",
      "metadata": {
        "id": "0b6fdfee"
      },
      "outputs": [],
      "source": [
        "class Lambda(nn.Module):\n",
        "    def __init__(self, func):\n",
        "        super().__init__()\n",
        "        self.func = func\n",
        "\n",
        "    def forward(self, x):\n",
        "        return self.func(x)\n",
        "\n",
        "## Model Definition ##\n",
        "class Siamese(nn.Module):\n",
        "    def __init__(self):\n",
        "        super(Siamese, self).__init__()\n",
        "        self.conv = nn.Sequential(\n",
        "             #1\n",
        "            nn.Conv2d(1, 64, 3), \n",
        "            nn.ReLU(inplace=True),\n",
        "            nn.MaxPool2d(2),  \n",
        "            nn.BatchNorm2d(64),\n",
        "            #2\n",
        "            nn.Conv2d(64, 128, 3),\n",
        "            nn.ReLU(),   \n",
        "            nn.MaxPool2d(2),   \n",
        "            nn.BatchNorm2d(128),\n",
        "            #3\n",
        "            nn.Conv2d(128, 256, 3),\n",
        "            nn.ReLU(),\n",
        "            nn.BatchNorm2d(256)\n",
        "        )\n",
        "        self.liner = nn.Sequential(nn.Linear(3*3*256, 128), nn.Sigmoid())\n",
        "        self.out = nn.Linear(128, 1)\n",
        "\n",
        "    def forward_one(self, x):\n",
        "        #print(x.shape)\n",
        "        x = self.conv(x)\n",
        "        x = x.view(x.size()[0], -1)\n",
        "        x = self.liner(x)\n",
        "        return x\n",
        "\n",
        "    def forward(self, x1, x2):\n",
        "        out1 = self.forward_one(x1)\n",
        "        out2 = self.forward_one(x2)\n",
        "        dis = torch.abs(out1 - out2)\n",
        "        out = torch.sigmoid(self.out(dis))\n",
        "     \n",
        "        return out "
      ]
    },
    {
      "cell_type": "code",
      "execution_count": 9,
      "id": "07955ccc",
      "metadata": {
        "id": "07955ccc"
      },
      "outputs": [],
      "source": [
        "import matplotlib.pyplot as plt\n",
        "from IPython.display import clear_output\n",
        "\n",
        "def plot_training(training_loss, valid_loss, name):\n",
        "\n",
        "    clear_output()\n",
        "\n",
        "    plt.figure(figsize=(12, 8))\n",
        "    plt.title(f'{name} optimisation')\n",
        "    plt.xlabel('epoch')\n",
        "    plt.ylabel(f'{name}')\n",
        "    plt.plot(training_loss, label=f'Training {name}')\n",
        "    plt.plot(valid_loss, label=f'Validation {name}')\n",
        "    plt.xticks(np.arange(0, len(training_loss)), labels = np.arange(1, len(training_loss)+1))\n",
        "    plt.grid()\n",
        "    plt.legend()\n",
        "    plt.show()"
      ]
    },
    {
      "cell_type": "code",
      "execution_count": 16,
      "id": "d2c8f9a6",
      "metadata": {
        "id": "d2c8f9a6"
      },
      "outputs": [],
      "source": [
        "## Training ##\n",
        "\n",
        "from tqdm import tqdm\n",
        "\n",
        "class Trainer():\n",
        "    def __init__(self,\n",
        "                 model: torch.nn.Module,\n",
        "                 device: torch.device,\n",
        "                 criterion: torch.nn.Module,\n",
        "                 optimizer: torch.optim.Optimizer,\n",
        "                 training_DataLoader: torch.utils.data.Dataset,\n",
        "                 validation_DataLoader: torch.utils.data.Dataset ,\n",
        "                 testing_DataLoader: torch.utils.data.Dataset ,\n",
        "                 epochs: int\n",
        "                 ):\n",
        "        \n",
        "        self.model = model\n",
        "        self.criterion = criterion\n",
        "        self.optimizer = optimizer\n",
        "        self.training_DataLoader = training_DataLoader\n",
        "        self.validation_DataLoader = validation_DataLoader\n",
        "        self.testing_DataLoader = testing_DataLoader\n",
        "        self.device = device\n",
        "        self.epochs = epochs\n",
        "\n",
        "\n",
        "    def run_trainer(self):\n",
        "\n",
        "        epoch_train_losses = []\n",
        "        epoch_val_losses = []\n",
        "        epoch_train_accuracy = []\n",
        "        epoch_val_accuracy = []\n",
        "        for epoch in tqdm(range(self.epochs)):\n",
        "                 \n",
        "\n",
        "            self.model.train()  # train mode\n",
        "\n",
        "            train_losses=[]\n",
        "            \n",
        "            correct = 0\n",
        "            length = 0\n",
        "            for A, B, y in self.training_DataLoader:\n",
        "\n",
        "                A, B, target = A.reshape(-1, 1, 28, 28).to(self.device), B.reshape(-1, 1, 28, 28).to(self.device), y.to(self.device)  # send to device (GPU or CPU)\n",
        "                #print(A.shape)\n",
        "                self.optimizer.zero_grad()  # zerograd the parameters\n",
        "                out = self.model(A, B)  # one forward pass\n",
        "\n",
        "                loss = self.criterion(out, target)  # calculate loss\n",
        "                loss_value = loss.item()\n",
        "                train_losses.append(loss_value)\n",
        "                 \n",
        "                loss.backward()  # one backward pass\n",
        "                self.optimizer.step()  # update the parameters\n",
        "\n",
        "                correct += (torch.round(out) == target).sum().item()\n",
        "                length += target.shape[0]\n",
        "            \n",
        "            epoch_train_losses.append(np.mean(train_losses))\n",
        "            epoch_train_accuracy.append(np.round(correct/length, 5))\n",
        "            self.model.eval()  # evaluation mode\n",
        "            valid_losses = []  # accumulate the losses here\n",
        "\n",
        "            correct = 0\n",
        "            length = 0\n",
        "            for A, B, y in self.validation_DataLoader:\n",
        "\n",
        "                A, B, target = A.reshape(-1, 1, 28, 28).to(self.device), B.reshape(-1, 1, 28, 28).to(self.device), y.to(self.device) # send to device (GPU or CPU)\n",
        "\n",
        "                with torch.no_grad():\n",
        "                    out = self.model(A, B)   # one forward pass\n",
        "                    loss = self.criterion(out, target) # calculate loss\n",
        "                 \n",
        "                    loss_value = loss.item()\n",
        "                    valid_losses.append(loss_value)\n",
        "\n",
        "                    correct += (torch.round(out) == target).sum().item()\n",
        "                    length += target.shape[0]\n",
        "            epoch_val_losses.append(np.mean(valid_losses))\n",
        "            epoch_val_accuracy.append(np.round(correct/length, 5))\n",
        "                \n",
        "            # print the results\n",
        "            print(\n",
        "                f'EPOCH: {epoch+1:0>{len(str(self.epochs))}}/{self.epochs}',\n",
        "                end=' '\n",
        "            )\n",
        "            print(f'LOSS: {np.mean(train_losses):.4f}',end=' ')\n",
        "            print(f'VAL-LOSS: {np.mean(valid_losses):.4f}',end='\\n')\n",
        "\n",
        "        return epoch_train_losses, epoch_val_losses, epoch_train_accuracy, epoch_val_accuracy\n",
        "        \n",
        "    def evaluate(self):\n",
        "\n",
        "        self.model.eval()\n",
        "\n",
        "        with torch.no_grad():\n",
        "            correct = 0\n",
        "            length = 0\n",
        "            for A, B, y in self.testing_DataLoader:\n",
        "\n",
        "                A, B, target = A.reshape(-1, 1, 28, 28).to(self.device), B.reshape(-1, 1, 28, 28).to(self.device), y.to(self.device)\n",
        "\n",
        "                out = self.model(A, B)\n",
        "\n",
        "                correct += (torch.round(out) == target).sum().item()\n",
        "                length += target.shape[0]\n",
        "            \n",
        "        print(f'Accuracy: {correct/length:.4f}',end=' ')"
      ]
    },
    {
      "cell_type": "markdown",
      "id": "6klTx-xHfL_O",
      "metadata": {
        "id": "6klTx-xHfL_O"
      },
      "source": [
        "## Experiment with original data with Binary Cross-Entropy Loss"
      ]
    },
    {
      "cell_type": "code",
      "execution_count": 17,
      "id": "d3d75da8",
      "metadata": {
        "id": "d3d75da8"
      },
      "outputs": [],
      "source": [
        "# Load the dataset\n",
        "train_dataset, val_dataset = train_validation_split(train_data, train_label, train_size=0.8, transform = None)\n",
        "test_dataset = TrainProcessDataset(test_data, test_label)"
      ]
    },
    {
      "cell_type": "code",
      "execution_count": 18,
      "id": "d4c1bd77",
      "metadata": {
        "id": "d4c1bd77"
      },
      "outputs": [],
      "source": [
        "train_loader = torch.utils.data.DataLoader(train_dataset, batch_size=10)\n",
        "val_loader = torch.utils.data.DataLoader(val_dataset, batch_size=10)\n",
        "test_loader = torch.utils.data.DataLoader(test_dataset, batch_size=10)"
      ]
    },
    {
      "cell_type": "code",
      "execution_count": 19,
      "id": "olguXsDAe7cG",
      "metadata": {
        "colab": {
          "base_uri": "https://localhost:8080/"
        },
        "id": "olguXsDAe7cG",
        "outputId": "86e29ffa-14b6-4ac5-8495-62f37f5ea927"
      },
      "outputs": [
        {
          "output_type": "stream",
          "name": "stderr",
          "text": [
            "  5%|▌         | 1/20 [00:22<07:01, 22.20s/it]"
          ]
        },
        {
          "output_type": "stream",
          "name": "stdout",
          "text": [
            "EPOCH: 01/20 LOSS: 0.5129 VAL-LOSS: 0.3531\n"
          ]
        },
        {
          "output_type": "stream",
          "name": "stderr",
          "text": [
            "\r 10%|█         | 2/20 [00:44<06:37, 22.09s/it]"
          ]
        },
        {
          "output_type": "stream",
          "name": "stdout",
          "text": [
            "EPOCH: 02/20 LOSS: 0.3022 VAL-LOSS: 0.2429\n"
          ]
        },
        {
          "output_type": "stream",
          "name": "stderr",
          "text": [
            "\r 15%|█▌        | 3/20 [01:06<06:15, 22.08s/it]"
          ]
        },
        {
          "output_type": "stream",
          "name": "stdout",
          "text": [
            "EPOCH: 03/20 LOSS: 0.1734 VAL-LOSS: 0.2024\n"
          ]
        },
        {
          "output_type": "stream",
          "name": "stderr",
          "text": [
            "\r 20%|██        | 4/20 [01:28<05:54, 22.15s/it]"
          ]
        },
        {
          "output_type": "stream",
          "name": "stdout",
          "text": [
            "EPOCH: 04/20 LOSS: 0.0853 VAL-LOSS: 0.1825\n"
          ]
        },
        {
          "output_type": "stream",
          "name": "stderr",
          "text": [
            "\r 25%|██▌       | 5/20 [01:50<05:31, 22.12s/it]"
          ]
        },
        {
          "output_type": "stream",
          "name": "stdout",
          "text": [
            "EPOCH: 05/20 LOSS: 0.0383 VAL-LOSS: 0.1736\n"
          ]
        },
        {
          "output_type": "stream",
          "name": "stderr",
          "text": [
            "\r 30%|███       | 6/20 [02:12<05:10, 22.16s/it]"
          ]
        },
        {
          "output_type": "stream",
          "name": "stdout",
          "text": [
            "EPOCH: 06/20 LOSS: 0.0195 VAL-LOSS: 0.1707\n"
          ]
        },
        {
          "output_type": "stream",
          "name": "stderr",
          "text": [
            "\r 35%|███▌      | 7/20 [02:35<04:48, 22.22s/it]"
          ]
        },
        {
          "output_type": "stream",
          "name": "stdout",
          "text": [
            "EPOCH: 07/20 LOSS: 0.0121 VAL-LOSS: 0.1722\n"
          ]
        },
        {
          "output_type": "stream",
          "name": "stderr",
          "text": [
            "\r 40%|████      | 8/20 [02:57<04:27, 22.29s/it]"
          ]
        },
        {
          "output_type": "stream",
          "name": "stdout",
          "text": [
            "EPOCH: 08/20 LOSS: 0.0086 VAL-LOSS: 0.1733\n"
          ]
        },
        {
          "output_type": "stream",
          "name": "stderr",
          "text": [
            "\r 45%|████▌     | 9/20 [03:20<04:07, 22.47s/it]"
          ]
        },
        {
          "output_type": "stream",
          "name": "stdout",
          "text": [
            "EPOCH: 09/20 LOSS: 0.0066 VAL-LOSS: 0.1752\n"
          ]
        },
        {
          "output_type": "stream",
          "name": "stderr",
          "text": [
            "\r 50%|█████     | 10/20 [03:42<03:44, 22.46s/it]"
          ]
        },
        {
          "output_type": "stream",
          "name": "stdout",
          "text": [
            "EPOCH: 10/20 LOSS: 0.0054 VAL-LOSS: 0.1767\n"
          ]
        },
        {
          "output_type": "stream",
          "name": "stderr",
          "text": [
            "\r 55%|█████▌    | 11/20 [04:06<03:23, 22.66s/it]"
          ]
        },
        {
          "output_type": "stream",
          "name": "stdout",
          "text": [
            "EPOCH: 11/20 LOSS: 0.0045 VAL-LOSS: 0.1782\n"
          ]
        },
        {
          "output_type": "stream",
          "name": "stderr",
          "text": [
            "\r 60%|██████    | 12/20 [04:29<03:02, 22.86s/it]"
          ]
        },
        {
          "output_type": "stream",
          "name": "stdout",
          "text": [
            "EPOCH: 12/20 LOSS: 0.0038 VAL-LOSS: 0.1796\n"
          ]
        },
        {
          "output_type": "stream",
          "name": "stderr",
          "text": [
            "\r 65%|██████▌   | 13/20 [04:52<02:41, 23.00s/it]"
          ]
        },
        {
          "output_type": "stream",
          "name": "stdout",
          "text": [
            "EPOCH: 13/20 LOSS: 0.0033 VAL-LOSS: 0.1810\n"
          ]
        },
        {
          "output_type": "stream",
          "name": "stderr",
          "text": [
            "\r 70%|███████   | 14/20 [05:15<02:17, 22.92s/it]"
          ]
        },
        {
          "output_type": "stream",
          "name": "stdout",
          "text": [
            "EPOCH: 14/20 LOSS: 0.0029 VAL-LOSS: 0.1823\n"
          ]
        },
        {
          "output_type": "stream",
          "name": "stderr",
          "text": [
            "\r 75%|███████▌  | 15/20 [05:37<01:53, 22.80s/it]"
          ]
        },
        {
          "output_type": "stream",
          "name": "stdout",
          "text": [
            "EPOCH: 15/20 LOSS: 0.0026 VAL-LOSS: 0.1834\n"
          ]
        },
        {
          "output_type": "stream",
          "name": "stderr",
          "text": [
            "\r 80%|████████  | 16/20 [06:00<01:30, 22.70s/it]"
          ]
        },
        {
          "output_type": "stream",
          "name": "stdout",
          "text": [
            "EPOCH: 16/20 LOSS: 0.0023 VAL-LOSS: 0.1846\n"
          ]
        },
        {
          "output_type": "stream",
          "name": "stderr",
          "text": [
            "\r 85%|████████▌ | 17/20 [06:22<01:07, 22.65s/it]"
          ]
        },
        {
          "output_type": "stream",
          "name": "stdout",
          "text": [
            "EPOCH: 17/20 LOSS: 0.0021 VAL-LOSS: 0.1856\n"
          ]
        },
        {
          "output_type": "stream",
          "name": "stderr",
          "text": [
            "\r 90%|█████████ | 18/20 [06:45<00:45, 22.55s/it]"
          ]
        },
        {
          "output_type": "stream",
          "name": "stdout",
          "text": [
            "EPOCH: 18/20 LOSS: 0.0019 VAL-LOSS: 0.1865\n"
          ]
        },
        {
          "output_type": "stream",
          "name": "stderr",
          "text": [
            "\r 95%|█████████▌| 19/20 [07:07<00:22, 22.42s/it]"
          ]
        },
        {
          "output_type": "stream",
          "name": "stdout",
          "text": [
            "EPOCH: 19/20 LOSS: 0.0018 VAL-LOSS: 0.1874\n"
          ]
        },
        {
          "output_type": "stream",
          "name": "stderr",
          "text": [
            "100%|██████████| 20/20 [07:29<00:00, 22.48s/it]"
          ]
        },
        {
          "output_type": "stream",
          "name": "stdout",
          "text": [
            "EPOCH: 20/20 LOSS: 0.0017 VAL-LOSS: 0.1883\n"
          ]
        },
        {
          "output_type": "stream",
          "name": "stderr",
          "text": [
            "\n"
          ]
        }
      ],
      "source": [
        "if torch.cuda.is_available():\n",
        "    device = torch.device('cuda')\n",
        "else:\n",
        "    device=torch.device('cpu')\n",
        "\n",
        "model = Siamese().to(device)\n",
        "\n",
        "criterion = torch.nn.BCELoss()\n",
        "\n",
        "optimizer = torch.optim.SGD(model.parameters(), lr=0.001, momentum=0.9)\n",
        "\n",
        "TrainingProcedure = Trainer(model, device, criterion, optimizer, train_loader, val_loader, test_loader, epochs = 20)\n",
        "\n",
        "train_loss, val_loss, train_accuracy, val_accuracy = TrainingProcedure.run_trainer()"
      ]
    },
    {
      "cell_type": "code",
      "execution_count": 20,
      "id": "4qInKMR-qI0F",
      "metadata": {
        "colab": {
          "base_uri": "https://localhost:8080/",
          "height": 513
        },
        "id": "4qInKMR-qI0F",
        "outputId": "0b1aabfa-02df-49d9-98c7-a8667e726bba"
      },
      "outputs": [
        {
          "output_type": "display_data",
          "data": {
            "text/plain": [
              "<Figure size 864x576 with 1 Axes>"
            ],
            "image/png": "[encoded data removed]"
          },
          "metadata": {
            "needs_background": "light"
          }
        }
      ],
      "source": [
        "plot_training(train_loss, val_loss, 'Loss')"
      ]
    },
    {
      "cell_type": "markdown",
      "id": "jhg4hpMJrdWV",
      "metadata": {
        "id": "jhg4hpMJrdWV"
      },
      "source": [
        "Check the accuracy"
      ]
    },
    {
      "cell_type": "code",
      "source": [
        "plot_training(train_accuracy, val_accuracy, 'Accuracy')"
      ],
      "metadata": {
        "colab": {
          "base_uri": "https://localhost:8080/",
          "height": 513
        },
        "id": "J00aareCpe46",
        "outputId": "1dcdf0df-3ca3-443b-9f43-af39833067ad"
      },
      "id": "J00aareCpe46",
      "execution_count": 21,
      "outputs": [
        {
          "output_type": "display_data",
          "data": {
            "text/plain": [
              "<Figure size 864x576 with 1 Axes>"
            ],
            "image/png": "[encoded data removed]"
          },
          "metadata": {
            "needs_background": "light"
          }
        }
      ]
    },
    {
      "cell_type": "code",
      "execution_count": 22,
      "id": "5xOkVNFUrZ-l",
      "metadata": {
        "colab": {
          "base_uri": "https://localhost:8080/"
        },
        "id": "5xOkVNFUrZ-l",
        "outputId": "64b20e2a-0bce-424f-8c69-6a4b17aa2f46"
      },
      "outputs": [
        {
          "output_type": "stream",
          "name": "stdout",
          "text": [
            "Accuracy: 0.9056 "
          ]
        }
      ],
      "source": [
        "TrainingProcedure.evaluate()"
      ]
    },
    {
      "cell_type": "markdown",
      "id": "ojwm366FPJq2",
      "metadata": {
        "id": "ojwm366FPJq2"
      },
      "source": [
        "## Experiment with data augmentation with Binary Cross-Entropy Loss"
      ]
    },
    {
      "cell_type": "markdown",
      "id": "9ppBubC3QHWI",
      "metadata": {
        "id": "9ppBubC3QHWI"
      },
      "source": [
        "#### Loading the data"
      ]
    },
    {
      "cell_type": "code",
      "execution_count": 23,
      "id": "7facd49b",
      "metadata": {
        "id": "7facd49b"
      },
      "outputs": [],
      "source": [
        "from torchvision import transforms\n",
        "augmentation = transforms.RandomAffine(degrees = (-20, 20), translate=(0.2, 0.2), scale=(0.9, 1.15), fill  = 1)"
      ]
    },
    {
      "cell_type": "code",
      "execution_count": 24,
      "id": "gC_2ltdqPdIP",
      "metadata": {
        "id": "gC_2ltdqPdIP"
      },
      "outputs": [],
      "source": [
        "train_dataset, val_dataset = train_validation_split(train_data, train_label, train_size=0.8, transform = augmentation)"
      ]
    },
    {
      "cell_type": "markdown",
      "id": "6ZTIEoovsiXS",
      "metadata": {
        "id": "6ZTIEoovsiXS"
      },
      "source": [
        "The examples of the transformations"
      ]
    },
    {
      "cell_type": "code",
      "execution_count": 25,
      "id": "i9TVlymYsSGc",
      "metadata": {
        "colab": {
          "base_uri": "https://localhost:8080/",
          "height": 425
        },
        "id": "i9TVlymYsSGc",
        "outputId": "b5d30e92-dffa-469a-9aea-51253455ffdf"
      },
      "outputs": [
        {
          "output_type": "execute_result",
          "data": {
            "text/plain": [
              "[<matplotlib.image.AxesImage at 0x7f152bfe6a90>,\n",
              " <matplotlib.image.AxesImage at 0x7f152bfe6390>,\n",
              " <matplotlib.image.AxesImage at 0x7f152bff0810>,\n",
              " <matplotlib.image.AxesImage at 0x7f152bff0b90>,\n",
              " <matplotlib.image.AxesImage at 0x7f152bff0490>,\n",
              " <matplotlib.image.AxesImage at 0x7f152bffd310>]"
            ]
          },
          "metadata": {},
          "execution_count": 25
        },
        {
          "output_type": "display_data",
          "data": {
            "text/plain": [
              "<Figure size 1440x360 with 12 Axes>"
            ],
            "image/png": "[encoded data removed]"
          },
          "metadata": {
            "needs_background": "light"
          }
        }
      ],
      "source": [
        "examples = train_data[0]\n",
        "f, axes = plt.subplots(2, 6, figsize=(20,5))\n",
        "[ax.imshow(examples[i]) for i, ax in enumerate(axes[0,:])]\n",
        "[ax.imshow(augmentation(torch.Tensor(examples[i]).reshape((1,28,28))).reshape((28,28))) for i, ax in enumerate(axes[1,:])]"
      ]
    },
    {
      "cell_type": "code",
      "execution_count": 26,
      "id": "Ll-t3MhGPkY3",
      "metadata": {
        "id": "Ll-t3MhGPkY3"
      },
      "outputs": [],
      "source": [
        "train_loader = torch.utils.data.DataLoader(train_dataset, batch_size=10)\n",
        "val_loader = torch.utils.data.DataLoader(val_dataset, batch_size=10)"
      ]
    },
    {
      "cell_type": "code",
      "execution_count": 27,
      "id": "de2b661c",
      "metadata": {
        "colab": {
          "base_uri": "https://localhost:8080/"
        },
        "id": "de2b661c",
        "outputId": "3dafb3f0-24d3-419b-f77c-2b1a2509fc62"
      },
      "outputs": [
        {
          "output_type": "stream",
          "name": "stderr",
          "text": [
            "  5%|▌         | 1/20 [00:55<17:31, 55.32s/it]"
          ]
        },
        {
          "output_type": "stream",
          "name": "stdout",
          "text": [
            "EPOCH: 01/20 LOSS: 0.6417 VAL-LOSS: 0.5779\n"
          ]
        },
        {
          "output_type": "stream",
          "name": "stderr",
          "text": [
            "\r 10%|█         | 2/20 [01:49<16:28, 54.93s/it]"
          ]
        },
        {
          "output_type": "stream",
          "name": "stdout",
          "text": [
            "EPOCH: 02/20 LOSS: 0.5968 VAL-LOSS: 0.5248\n"
          ]
        },
        {
          "output_type": "stream",
          "name": "stderr",
          "text": [
            "\r 15%|█▌        | 3/20 [02:44<15:31, 54.79s/it]"
          ]
        },
        {
          "output_type": "stream",
          "name": "stdout",
          "text": [
            "EPOCH: 03/20 LOSS: 0.5486 VAL-LOSS: 0.4747\n"
          ]
        },
        {
          "output_type": "stream",
          "name": "stderr",
          "text": [
            "\r 20%|██        | 4/20 [03:38<14:32, 54.50s/it]"
          ]
        },
        {
          "output_type": "stream",
          "name": "stdout",
          "text": [
            "EPOCH: 04/20 LOSS: 0.5104 VAL-LOSS: 0.4229\n"
          ]
        },
        {
          "output_type": "stream",
          "name": "stderr",
          "text": [
            "\r 25%|██▌       | 5/20 [04:33<13:36, 54.47s/it]"
          ]
        },
        {
          "output_type": "stream",
          "name": "stdout",
          "text": [
            "EPOCH: 05/20 LOSS: 0.4815 VAL-LOSS: 0.4058\n"
          ]
        },
        {
          "output_type": "stream",
          "name": "stderr",
          "text": [
            "\r 30%|███       | 6/20 [05:27<12:43, 54.50s/it]"
          ]
        },
        {
          "output_type": "stream",
          "name": "stdout",
          "text": [
            "EPOCH: 06/20 LOSS: 0.4604 VAL-LOSS: 0.3891\n"
          ]
        },
        {
          "output_type": "stream",
          "name": "stderr",
          "text": [
            "\r 35%|███▌      | 7/20 [06:22<11:48, 54.51s/it]"
          ]
        },
        {
          "output_type": "stream",
          "name": "stdout",
          "text": [
            "EPOCH: 07/20 LOSS: 0.4386 VAL-LOSS: 0.3713\n"
          ]
        },
        {
          "output_type": "stream",
          "name": "stderr",
          "text": [
            "\r 40%|████      | 8/20 [07:16<10:53, 54.42s/it]"
          ]
        },
        {
          "output_type": "stream",
          "name": "stdout",
          "text": [
            "EPOCH: 08/20 LOSS: 0.4220 VAL-LOSS: 0.3666\n"
          ]
        },
        {
          "output_type": "stream",
          "name": "stderr",
          "text": [
            "\r 45%|████▌     | 9/20 [08:10<09:58, 54.40s/it]"
          ]
        },
        {
          "output_type": "stream",
          "name": "stdout",
          "text": [
            "EPOCH: 09/20 LOSS: 0.4106 VAL-LOSS: 0.3460\n"
          ]
        },
        {
          "output_type": "stream",
          "name": "stderr",
          "text": [
            "\r 50%|█████     | 10/20 [09:05<09:03, 54.39s/it]"
          ]
        },
        {
          "output_type": "stream",
          "name": "stdout",
          "text": [
            "EPOCH: 10/20 LOSS: 0.3996 VAL-LOSS: 0.3520\n"
          ]
        },
        {
          "output_type": "stream",
          "name": "stderr",
          "text": [
            "\r 55%|█████▌    | 11/20 [09:59<08:08, 54.28s/it]"
          ]
        },
        {
          "output_type": "stream",
          "name": "stdout",
          "text": [
            "EPOCH: 11/20 LOSS: 0.3890 VAL-LOSS: 0.3487\n"
          ]
        },
        {
          "output_type": "stream",
          "name": "stderr",
          "text": [
            "\r 60%|██████    | 12/20 [10:52<07:11, 53.92s/it]"
          ]
        },
        {
          "output_type": "stream",
          "name": "stdout",
          "text": [
            "EPOCH: 12/20 LOSS: 0.3789 VAL-LOSS: 0.3238\n"
          ]
        },
        {
          "output_type": "stream",
          "name": "stderr",
          "text": [
            "\r 65%|██████▌   | 13/20 [11:45<06:15, 53.65s/it]"
          ]
        },
        {
          "output_type": "stream",
          "name": "stdout",
          "text": [
            "EPOCH: 13/20 LOSS: 0.3657 VAL-LOSS: 0.3191\n"
          ]
        },
        {
          "output_type": "stream",
          "name": "stderr",
          "text": [
            "\r 70%|███████   | 14/20 [12:38<05:21, 53.62s/it]"
          ]
        },
        {
          "output_type": "stream",
          "name": "stdout",
          "text": [
            "EPOCH: 14/20 LOSS: 0.3572 VAL-LOSS: 0.3107\n"
          ]
        },
        {
          "output_type": "stream",
          "name": "stderr",
          "text": [
            "\r 75%|███████▌  | 15/20 [13:31<04:27, 53.47s/it]"
          ]
        },
        {
          "output_type": "stream",
          "name": "stdout",
          "text": [
            "EPOCH: 15/20 LOSS: 0.3515 VAL-LOSS: 0.3080\n"
          ]
        },
        {
          "output_type": "stream",
          "name": "stderr",
          "text": [
            "\r 80%|████████  | 16/20 [14:25<03:33, 53.42s/it]"
          ]
        },
        {
          "output_type": "stream",
          "name": "stdout",
          "text": [
            "EPOCH: 16/20 LOSS: 0.3409 VAL-LOSS: 0.2960\n"
          ]
        },
        {
          "output_type": "stream",
          "name": "stderr",
          "text": [
            "\r 85%|████████▌ | 17/20 [15:18<02:40, 53.49s/it]"
          ]
        },
        {
          "output_type": "stream",
          "name": "stdout",
          "text": [
            "EPOCH: 17/20 LOSS: 0.3337 VAL-LOSS: 0.2956\n"
          ]
        },
        {
          "output_type": "stream",
          "name": "stderr",
          "text": [
            "\r 90%|█████████ | 18/20 [16:11<01:46, 53.35s/it]"
          ]
        },
        {
          "output_type": "stream",
          "name": "stdout",
          "text": [
            "EPOCH: 18/20 LOSS: 0.3302 VAL-LOSS: 0.2977\n"
          ]
        },
        {
          "output_type": "stream",
          "name": "stderr",
          "text": [
            "\r 95%|█████████▌| 19/20 [17:04<00:53, 53.25s/it]"
          ]
        },
        {
          "output_type": "stream",
          "name": "stdout",
          "text": [
            "EPOCH: 19/20 LOSS: 0.3194 VAL-LOSS: 0.2925\n"
          ]
        },
        {
          "output_type": "stream",
          "name": "stderr",
          "text": [
            "100%|██████████| 20/20 [17:58<00:00, 53.91s/it]"
          ]
        },
        {
          "output_type": "stream",
          "name": "stdout",
          "text": [
            "EPOCH: 20/20 LOSS: 0.3165 VAL-LOSS: 0.2817\n"
          ]
        },
        {
          "output_type": "stream",
          "name": "stderr",
          "text": [
            "\n"
          ]
        }
      ],
      "source": [
        "if torch.cuda.is_available():\n",
        "    device = torch.device('cuda')\n",
        "else:\n",
        "    device=torch.device('cpu')\n",
        "\n",
        "model = Siamese().to(device)\n",
        "\n",
        "criterion = torch.nn.BCELoss()\n",
        "\n",
        "optimizer = torch.optim.SGD(model.parameters(), lr=0.001, momentum=0.9)\n",
        "\n",
        "TrainingProcedure = Trainer(model, device, criterion, optimizer, train_loader, val_loader, test_loader, epochs = 20)\n",
        "\n",
        "train_loss, val_loss, train_accuracy, val_accuracy = TrainingProcedure.run_trainer()"
      ]
    },
    {
      "cell_type": "code",
      "execution_count": 28,
      "id": "biE7JmX6rnoQ",
      "metadata": {
        "colab": {
          "base_uri": "https://localhost:8080/",
          "height": 513
        },
        "id": "biE7JmX6rnoQ",
        "outputId": "a9767df6-5518-488a-8283-dbbf311f6223"
      },
      "outputs": [
        {
          "output_type": "display_data",
          "data": {
            "text/plain": [
              "<Figure size 864x576 with 1 Axes>"
            ],
            "image/png": "[encoded data removed]"
          },
          "metadata": {
            "needs_background": "light"
          }
        }
      ],
      "source": [
        "plot_training(train_loss, val_loss, 'Loss')"
      ]
    },
    {
      "cell_type": "markdown",
      "id": "Sk5jPRGtrkkO",
      "metadata": {
        "id": "Sk5jPRGtrkkO"
      },
      "source": [
        "Check the test accuracy"
      ]
    },
    {
      "cell_type": "code",
      "source": [
        "plot_training(train_accuracy, val_accuracy, 'Accuracy')"
      ],
      "metadata": {
        "colab": {
          "base_uri": "https://localhost:8080/",
          "height": 513
        },
        "id": "4YYgo5h2pmFk",
        "outputId": "674d015e-cb88-4f34-bb4d-3a0371ad68db"
      },
      "id": "4YYgo5h2pmFk",
      "execution_count": 29,
      "outputs": [
        {
          "output_type": "display_data",
          "data": {
            "text/plain": [
              "<Figure size 864x576 with 1 Axes>"
            ],
            "image/png": "[encoded data removed]"
          },
          "metadata": {
            "needs_background": "light"
          }
        }
      ]
    },
    {
      "cell_type": "code",
      "execution_count": 30,
      "id": "bKHxfWziNYjD",
      "metadata": {
        "colab": {
          "base_uri": "https://localhost:8080/"
        },
        "id": "bKHxfWziNYjD",
        "outputId": "470dd9e7-f9ce-44e5-84a2-60efabf26a19"
      },
      "outputs": [
        {
          "output_type": "stream",
          "name": "stdout",
          "text": [
            "Accuracy: 0.9282 "
          ]
        }
      ],
      "source": [
        "TrainingProcedure.evaluate()"
      ]
    },
    {
      "cell_type": "markdown",
      "id": "E--HkcmH9-mf",
      "metadata": {
        "id": "E--HkcmH9-mf"
      },
      "source": [
        "### Experiment with data augmentation with Contrastive Loss"
      ]
    },
    {
      "cell_type": "code",
      "execution_count": 31,
      "id": "h6zna2Y0_Kyx",
      "metadata": {
        "id": "h6zna2Y0_Kyx"
      },
      "outputs": [],
      "source": [
        "class ContrastiveLoss(nn.Module):\n",
        "    \"\"\"\n",
        "    \"\"\"\n",
        "\n",
        "    def __init__(self, model):\n",
        "        super(ContrastiveLoss, self).__init__()\n",
        "        self.model = model\n",
        "        self.tau = nn.Parameter(torch.ones(1))\n",
        "\n",
        "    def forward(self, input1, input2, target):\n",
        "        relu = nn.ReLU()\n",
        "        distance = self.model(input1, input2)\n",
        "        out = (target)*0.5*(distance**2) + (1 - target)*(relu(self.tau - distance)**2)\n",
        "        return out.mean()"
      ]
    },
    {
      "cell_type": "code",
      "execution_count": 32,
      "id": "GqpuaFXv-oHa",
      "metadata": {
        "id": "GqpuaFXv-oHa"
      },
      "outputs": [],
      "source": [
        "class Siamese_Contrastive(nn.Module):\n",
        "    def __init__(self):\n",
        "        super(Siamese_Contrastive, self).__init__()\n",
        "        self.conv = nn.Sequential(\n",
        "             #1\n",
        "            nn.Conv2d(1, 64, 3), \n",
        "            nn.ReLU(inplace=True),\n",
        "            nn.MaxPool2d(2),  \n",
        "            nn.BatchNorm2d(64),\n",
        "            #2\n",
        "            nn.Conv2d(64, 128, 3),\n",
        "            nn.ReLU(),   \n",
        "            nn.MaxPool2d(2),   \n",
        "            nn.BatchNorm2d(128),\n",
        "            #3\n",
        "            nn.Conv2d(128, 256, 3),\n",
        "            nn.ReLU(),\n",
        "            nn.BatchNorm2d(256)\n",
        "        )\n",
        "        # the last layer of the model is the representation\n",
        "        self.liner = nn.Sequential(nn.Linear(3*3*256, 128))\n",
        "\n",
        "    def forward_one(self, x):\n",
        "        #print(x.shape)\n",
        "        x = self.conv(x)\n",
        "        x = x.view(x.size()[0], -1)\n",
        "        x = self.liner(x)\n",
        "        return x\n",
        "\n",
        "    def forward(self, x1, x2):\n",
        "        out1 = self.forward_one(x1)\n",
        "        out2 = self.forward_one(x2)\n",
        "        distance = torch.norm(out1 - out2, 2, dim=1)\n",
        "\n",
        "        return distance"
      ]
    },
    {
      "cell_type": "code",
      "execution_count": 33,
      "id": "6hoM2X5mAb_J",
      "metadata": {
        "id": "6hoM2X5mAb_J"
      },
      "outputs": [],
      "source": [
        "from tqdm import tqdm\n",
        "\n",
        "class Trainer_Contrastive():\n",
        "    def __init__(self,\n",
        "                 model: torch.nn.Module,\n",
        "                 device: torch.device,\n",
        "                 criterion: torch.nn.Module,\n",
        "                 optimizer: torch.optim.Optimizer,\n",
        "                 training_DataLoader: torch.utils.data.Dataset,\n",
        "                 validation_DataLoader: torch.utils.data.Dataset ,\n",
        "                 testing_DataLoader: torch.utils.data.Dataset ,\n",
        "                 epochs: int\n",
        "                 ):\n",
        "        \n",
        "        self.model = model\n",
        "        self.criterion = criterion\n",
        "        self.optimizer = optimizer\n",
        "        self.training_DataLoader = training_DataLoader\n",
        "        self.validation_DataLoader = validation_DataLoader\n",
        "        self.testing_DataLoader = testing_DataLoader\n",
        "        self.device = device\n",
        "        self.epochs = epochs\n",
        "\n",
        "\n",
        "    def run_trainer(self):\n",
        "\n",
        "        epoch_train_losses = []\n",
        "        epoch_val_losses = []\n",
        "        epoch_train_accuracy = []\n",
        "        epoch_val_accuracy = []\n",
        "        for epoch in tqdm(range(self.epochs)):\n",
        "                 \n",
        "\n",
        "            self.criterion.train()  # train mode\n",
        "\n",
        "            train_losses=[]\n",
        "            \n",
        "            correct = 0\n",
        "            length = 0\n",
        "            for A, B, y in self.training_DataLoader:\n",
        "\n",
        "                A, B, target = A.reshape(-1, 1, 28, 28).to(self.device), B.reshape(-1, 1, 28, 28).to(self.device), y.to(self.device)  # send to device (GPU or CPU)\n",
        "                self.optimizer.zero_grad()  # zerograd the parameters\n",
        "                #distance = self.model(A, B)  # one forward pass\n",
        "\n",
        "                loss = self.criterion(A, B, target)  # calculate loss\n",
        "                loss_value = loss.item()\n",
        "                train_losses.append(loss_value)\n",
        "                distance = self.criterion.model(A, B)\n",
        "                out = (distance < self.criterion.tau).int()  \n",
        "\n",
        "                correct += (out == target.view(-1)).sum().item()\n",
        "                length += target.shape[0]\n",
        "\n",
        "\n",
        "                loss.backward()  # one backward pass\n",
        "                self.optimizer.step()  # update the parameters\n",
        "\n",
        "            epoch_train_losses.append(np.mean(train_losses))\n",
        "            epoch_train_accuracy.append(np.round(correct/length, 5))\n",
        "\n",
        "            self.criterion.eval()  # evaluation mode\n",
        "            valid_losses = []  # accumulate the losses here\n",
        "\n",
        "            correct = 0\n",
        "            length = 0\n",
        "            for A, B, y in self.validation_DataLoader:\n",
        "\n",
        "                A, B, target = A.reshape(-1, 1, 28, 28).to(self.device), B.reshape(-1, 1, 28, 28).to(self.device), y.to(self.device) # send to device (GPU or CPU)\n",
        "\n",
        "                with torch.no_grad():\n",
        "                    #distance = self.model(A, B)   # one forward pass\n",
        "                    loss = self.criterion(A, B, target) # calculate loss\n",
        "                    distance = self.criterion.model(A, B)\n",
        "                    out = (distance < self.criterion.tau).int()  \n",
        "\n",
        "                    correct += (out == target.view(-1)).sum().item()\n",
        "                    length += target.shape[0]\n",
        "\n",
        "                    loss_value = loss.item()\n",
        "                    valid_losses.append(loss_value)\n",
        "            epoch_val_losses.append(np.mean(valid_losses))\n",
        "            epoch_val_accuracy.append(np.round(correct/length, 5))\n",
        "\n",
        "                \n",
        "            # print the results\n",
        "            print(\n",
        "                f'EPOCH: {epoch+1:0>{len(str(self.epochs))}}/{self.epochs}',\n",
        "                end=' '\n",
        "            )\n",
        "            print(f'LOSS: {epoch_train_losses[-1]:.4f}',end=' ')\n",
        "            print(f'VAL-LOSS: {epoch_val_losses[-1]:.4f}',end='\\n')\n",
        "\n",
        "            #plot_training(epoch, np.round(epoch_train_losses, 5), np.round(epoch_val_losses, 5))\n",
        "        return epoch_train_losses, epoch_val_losses, epoch_train_accuracy, epoch_val_accuracy\n",
        "\n",
        "\n",
        "    def evaluate(self):\n",
        "\n",
        "        self.criterion.eval()\n",
        "\n",
        "        with torch.no_grad():\n",
        "            correct = 0\n",
        "            length = 0\n",
        "            for A, B, y in self.testing_DataLoader:\n",
        "\n",
        "                A, B, target = A.reshape(-1, 1, 28, 28).to(self.device), B.reshape(-1, 1, 28, 28).to(self.device), y.to(self.device)\n",
        "\n",
        "                distance = self.criterion.model(A, B)\n",
        "                out = (distance < self.criterion.tau).int()  \n",
        "\n",
        "                correct += (out == target.view(-1)).sum().item()\n",
        "                length += target.shape[0]\n",
        "            \n",
        "        print(f'Accuracy: {correct/length:.4f}',end=' ')\n"
      ]
    },
    {
      "cell_type": "markdown",
      "id": "0I87i7e01MxF",
      "metadata": {
        "id": "0I87i7e01MxF"
      },
      "source": [
        "The number of epochs for the contrastive loss is smaller as after the 10th epoch the loss function for validation and training set is not changing"
      ]
    },
    {
      "cell_type": "code",
      "execution_count": 34,
      "id": "LdDaRGyqB7g7",
      "metadata": {
        "colab": {
          "base_uri": "https://localhost:8080/"
        },
        "id": "LdDaRGyqB7g7",
        "outputId": "c1ccab23-672f-4720-c919-8cd91057bc2f"
      },
      "outputs": [
        {
          "output_type": "stream",
          "name": "stderr",
          "text": [
            " 10%|█         | 1/10 [01:01<09:10, 61.19s/it]"
          ]
        },
        {
          "output_type": "stream",
          "name": "stdout",
          "text": [
            "EPOCH: 01/10 LOSS: 0.6820 VAL-LOSS: 0.0438\n"
          ]
        },
        {
          "output_type": "stream",
          "name": "stderr",
          "text": [
            "\r 20%|██        | 2/10 [02:02<08:10, 61.31s/it]"
          ]
        },
        {
          "output_type": "stream",
          "name": "stdout",
          "text": [
            "EPOCH: 02/10 LOSS: 0.0377 VAL-LOSS: 0.0294\n"
          ]
        },
        {
          "output_type": "stream",
          "name": "stderr",
          "text": [
            "\r 30%|███       | 3/10 [03:03<07:08, 61.28s/it]"
          ]
        },
        {
          "output_type": "stream",
          "name": "stdout",
          "text": [
            "EPOCH: 03/10 LOSS: 0.0185 VAL-LOSS: 0.0122\n"
          ]
        },
        {
          "output_type": "stream",
          "name": "stderr",
          "text": [
            "\r 40%|████      | 4/10 [04:04<06:06, 61.15s/it]"
          ]
        },
        {
          "output_type": "stream",
          "name": "stdout",
          "text": [
            "EPOCH: 04/10 LOSS: 0.0124 VAL-LOSS: 0.0082\n"
          ]
        },
        {
          "output_type": "stream",
          "name": "stderr",
          "text": [
            "\r 50%|█████     | 5/10 [05:06<05:06, 61.21s/it]"
          ]
        },
        {
          "output_type": "stream",
          "name": "stdout",
          "text": [
            "EPOCH: 05/10 LOSS: 0.0092 VAL-LOSS: 0.0072\n"
          ]
        },
        {
          "output_type": "stream",
          "name": "stderr",
          "text": [
            "\r 60%|██████    | 6/10 [06:07<04:05, 61.26s/it]"
          ]
        },
        {
          "output_type": "stream",
          "name": "stdout",
          "text": [
            "EPOCH: 06/10 LOSS: 0.0070 VAL-LOSS: 0.0052\n"
          ]
        },
        {
          "output_type": "stream",
          "name": "stderr",
          "text": [
            "\r 70%|███████   | 7/10 [07:08<03:03, 61.29s/it]"
          ]
        },
        {
          "output_type": "stream",
          "name": "stdout",
          "text": [
            "EPOCH: 07/10 LOSS: 0.0058 VAL-LOSS: 0.0049\n"
          ]
        },
        {
          "output_type": "stream",
          "name": "stderr",
          "text": [
            "\r 80%|████████  | 8/10 [08:10<02:02, 61.31s/it]"
          ]
        },
        {
          "output_type": "stream",
          "name": "stdout",
          "text": [
            "EPOCH: 08/10 LOSS: 0.0049 VAL-LOSS: 0.0044\n"
          ]
        },
        {
          "output_type": "stream",
          "name": "stderr",
          "text": [
            "\r 90%|█████████ | 9/10 [09:11<01:01, 61.19s/it]"
          ]
        },
        {
          "output_type": "stream",
          "name": "stdout",
          "text": [
            "EPOCH: 09/10 LOSS: 0.0043 VAL-LOSS: 0.0041\n"
          ]
        },
        {
          "output_type": "stream",
          "name": "stderr",
          "text": [
            "100%|██████████| 10/10 [10:12<00:00, 61.23s/it]"
          ]
        },
        {
          "output_type": "stream",
          "name": "stdout",
          "text": [
            "EPOCH: 10/10 LOSS: 0.0038 VAL-LOSS: 0.0040\n"
          ]
        },
        {
          "output_type": "stream",
          "name": "stderr",
          "text": [
            "\n"
          ]
        }
      ],
      "source": [
        "if torch.cuda.is_available():\n",
        "    device = torch.device('cuda')\n",
        "else:\n",
        "    device=torch.device('cpu')\n",
        "\n",
        "model = Siamese_Contrastive().to(device)\n",
        "\n",
        "criterion = ContrastiveLoss(model).to(device)\n",
        "\n",
        "optimizer = torch.optim.SGD(criterion.parameters(), lr=0.001, momentum=0.9)\n",
        "\n",
        "TrainingProcedure2 = Trainer_Contrastive(model, device, criterion, optimizer, train_loader, val_loader, test_loader, epochs = 10)\n",
        "\n",
        "train_loss, val_loss, train_accuracy, val_accuracy = TrainingProcedure2.run_trainer()"
      ]
    },
    {
      "cell_type": "code",
      "source": [
        "criterion.tau.detach()"
      ],
      "metadata": {
        "colab": {
          "base_uri": "https://localhost:8080/"
        },
        "id": "PCEGyF53S7iq",
        "outputId": "052a03fe-ad60-4941-a12f-0a530780ce1f"
      },
      "id": "PCEGyF53S7iq",
      "execution_count": 35,
      "outputs": [
        {
          "output_type": "execute_result",
          "data": {
            "text/plain": [
              "tensor([0.0826], device='cuda:0')"
            ]
          },
          "metadata": {},
          "execution_count": 35
        }
      ]
    },
    {
      "cell_type": "code",
      "execution_count": 36,
      "id": "rAVSw2Z5r68o",
      "metadata": {
        "colab": {
          "base_uri": "https://localhost:8080/",
          "height": 513
        },
        "id": "rAVSw2Z5r68o",
        "outputId": "9eeed46c-4ef7-4e9c-b84c-ba8b252fbc68"
      },
      "outputs": [
        {
          "output_type": "display_data",
          "data": {
            "text/plain": [
              "<Figure size 864x576 with 1 Axes>"
            ],
            "image/png": "[encoded data removed]"
          },
          "metadata": {
            "needs_background": "light"
          }
        }
      ],
      "source": [
        "plot_training(train_loss, val_loss, 'Loss')"
      ]
    },
    {
      "cell_type": "markdown",
      "id": "KB_swhAir5Gn",
      "metadata": {
        "id": "KB_swhAir5Gn"
      },
      "source": [
        "Check test accuracy:"
      ]
    },
    {
      "cell_type": "code",
      "source": [
        "plot_training(train_accuracy, val_accuracy, 'Accuracy')"
      ],
      "metadata": {
        "colab": {
          "base_uri": "https://localhost:8080/",
          "height": 513
        },
        "id": "CmSxDLeNpSbV",
        "outputId": "7d267a6e-f57d-4d39-bf70-09069e2a93ad"
      },
      "id": "CmSxDLeNpSbV",
      "execution_count": 37,
      "outputs": [
        {
          "output_type": "display_data",
          "data": {
            "text/plain": [
              "<Figure size 864x576 with 1 Axes>"
            ],
            "image/png": "[encoded data removed]"
          },
          "metadata": {
            "needs_background": "light"
          }
        }
      ]
    },
    {
      "cell_type": "code",
      "execution_count": 38,
      "id": "P1pbSlwcG8g5",
      "metadata": {
        "colab": {
          "base_uri": "https://localhost:8080/"
        },
        "id": "P1pbSlwcG8g5",
        "outputId": "9545d5a9-091d-4cbf-e46c-09812e764e3b"
      },
      "outputs": [
        {
          "output_type": "stream",
          "name": "stdout",
          "text": [
            "Accuracy: 0.6514 "
          ]
        }
      ],
      "source": [
        "TrainingProcedure2.evaluate()"
      ]
    }
  ],
  "metadata": {
    "accelerator": "GPU",
    "colab": {
      "collapsed_sections": [],
      "name": "Assignment_1.ipynb",
      "provenance": []
    },
    "interpreter": {
      "hash": "b001d610a241339cc3b7988a7f6c804c70cb4dbbf032519cbfea0d67797e8b2b"
    },
    "kernelspec": {
      "display_name": "Python 3.9.7 ('base')",
      "language": "python",
      "name": "python3"
    },
    "language_info": {
      "codemirror_mode": {
        "name": "ipython",
        "version": 3
      },
      "file_extension": ".py",
      "mimetype": "text/x-python",
      "name": "python",
      "nbconvert_exporter": "python",
      "pygments_lexer": "ipython3",
      "version": "3.9.7"
    }
  },
  "nbformat": 4,
  "nbformat_minor": 5
}