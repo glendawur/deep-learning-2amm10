{
  "cells": [
    {
      "cell_type": "markdown",
      "id": "b9b20982",
      "metadata": {
        "id": "b9b20982"
      },
      "source": [
        "# Group Number: 32\n",
        "# Student 1: Andrei Rykov\n",
        "# Student 2: Nikita Jain\n",
        "# Student 3: Ryan Meghoe"
      ]
    },
    {
      "cell_type": "code",
      "execution_count": 1,
      "id": "b49fc2e3",
      "metadata": {
        "colab": {
          "base_uri": "https://localhost:8080/"
        },
        "id": "b49fc2e3",
        "outputId": "59d89e70-f962-4c34-882e-3430427e1ec1"
      },
      "outputs": [
        {
          "name": "stdout",
          "output_type": "stream",
          "text": [
            "Populating the interactive namespace from numpy and matplotlib\n"
          ]
        }
      ],
      "source": [
        "import requests\n",
        "import io\n",
        "import torch\n",
        "import torch.nn as nn\n",
        "import torch.nn.functional as F\n",
        "import numpy as np\n",
        "%pylab inline"
      ]
    },
    {
      "cell_type": "markdown",
      "id": "25cfb295",
      "metadata": {
        "id": "25cfb295"
      },
      "source": [
        "### Training data set\n",
        "\n",
        "\n",
        "For Assignment 1 you need to use a specific data set prepared using images from the [Omniglot dataset](https://github.com/brendenlake/omniglot). The provided training data set contains images of handwritten characters of size (28,28). \n",
        "\n",
        "\n",
        "\n",
        "For training data, the dataset contains 10000 sets of 6 images each. Each set consists of 5 support images and 1 query image. In each set, the first five columns are support images and the last one is a query image.\n",
        "\n",
        "For training labels, the dataset contains 10000 sets of 5 binary flags for support images. 1 indicates the same character is given in the query image and 0 means not. For example, a label [1,0,0,1,1] means the support images with index 0,3,4 are the same character of query image.\n",
        "\n",
        " \n",
        " \n",
        "The following cell provides code that loads the data from hardcoded URLs.You can use the code in this cell to load the dataset or download the data set from the given URLs to your local drive (or your Google drive) and modify the code to load the data from another location. \n",
        "\n",
        "\n"
      ]
    },
    {
      "cell_type": "code",
      "execution_count": 2,
      "id": "f19f0a40",
      "metadata": {
        "colab": {
          "base_uri": "https://localhost:8080/"
        },
        "id": "f19f0a40",
        "outputId": "76592bfa-e95f-4c29-e60b-3d0a8927728a"
      },
      "outputs": [
        {
          "name": "stdout",
          "output_type": "stream",
          "text": [
            "train_data shape: (10000, 6, 28, 28)\n",
            "train_label shape: (10000, 5)\n",
            "\n"
          ]
        }
      ],
      "source": [
        "def load_numpy_arr_from_url(url):\n",
        "    \"\"\"\n",
        "    Loads a numpy array from surfdrive. \n",
        "    \n",
        "    Input:\n",
        "    url: Download link of dataset \n",
        "    \n",
        "    Outputs:\n",
        "    dataset: numpy array with input features or labels\n",
        "    \"\"\"\n",
        "    \n",
        "    response = requests.get(url)\n",
        "    response.raise_for_status()\n",
        "\n",
        "    return np.load(io.BytesIO(response.content)) \n",
        "    \n",
        "    \n",
        "    \n",
        "#Downloading may take a while..\n",
        "train_data = load_numpy_arr_from_url('https://surfdrive.surf.nl/files/index.php/s/4OXkVie05NPjRKK/download')\n",
        "train_label = load_numpy_arr_from_url('https://surfdrive.surf.nl/files/index.php/s/oMLFw60zpFX82ua/download')\n",
        "\n",
        "print(f\"train_data shape: {train_data.shape}\")\n",
        "print(f\"train_label shape: {train_label.shape}\\n\")"
      ]
    },
    {
      "cell_type": "markdown",
      "id": "cb937392",
      "metadata": {
        "id": "cb937392"
      },
      "source": [
        "Now, we plot the first 5 cases in the training dataset. The last column corresponds with the query images of each task. All other images are support images. The image enclosed in a red box denotes the target image that your model should be able to recognize as the same class as the query image. "
      ]
    },
    {
      "cell_type": "code",
      "execution_count": 3,
      "id": "b1b4bd29",
      "metadata": {
        "id": "b1b4bd29"
      },
      "outputs": [],
      "source": [
        "def plot_case(caseID,train_data,labels):\n",
        "    \"\"\"\n",
        "    Plots a single sample of the query dataset\n",
        "    \n",
        "    Inputs\n",
        "    caseID: Integer between 0 and 99, each corresponding to a single sample in the query dataset \n",
        "    \"\"\"\n",
        "    \n",
        "\n",
        "    support_set,queries = np.split(train_data, [5], axis=1)\n",
        "    \n",
        "    f, axes = plt.subplots(1, 6, figsize=(20,5))\n",
        "\n",
        "    # plot anchor image\n",
        "    axes[5].imshow(queries[caseID, 0])\n",
        "    axes[5].set_title(f\"Query image case {caseID}\", fontsize=15)\n",
        "\n",
        "    # show all test images images \n",
        "    [ax.imshow(support_set[caseID, i]) for i, ax in enumerate(axes[0:-1])]\n",
        "\n",
        "\n",
        "    # Add the patch to the Axes\n",
        "    for ind in np.where(labels[caseID]==True)[0]:\n",
        "        axes[ind].add_patch(Rectangle((0,0),27,27,linewidth=2, edgecolor='r',facecolor='none'))\n"
      ]
    },
    {
      "cell_type": "code",
      "execution_count": 4,
      "id": "03538ffb",
      "metadata": {
        "colab": {
          "base_uri": "https://localhost:8080/",
          "height": 1000
        },
        "id": "03538ffb",
        "outputId": "59dac0ac-4b8b-4076-bd08-5d2ec598fc1f"
      },
      "outputs": [
        {
          "data": {
            "image/png": "[encoded data removed]",
            "text/plain": [
              "<Figure size 1440x360 with 6 Axes>"
            ]
          },
          "metadata": {
            "needs_background": "light"
          },
          "output_type": "display_data"
        },
        {
          "data": {
            "image/png": "[encoded data removed]",
            "text/plain": [
              "<Figure size 1440x360 with 6 Axes>"
            ]
          },
          "metadata": {
            "needs_background": "light"
          },
          "output_type": "display_data"
        },
        {
          "data": {
            "image/png": "[encoded data removed]",
            "text/plain": [
              "<Figure size 1440x360 with 6 Axes>"
            ]
          },
          "metadata": {
            "needs_background": "light"
          },
          "output_type": "display_data"
        },
        {
          "data": {
            "image/png": "[encoded data removed]",
            "text/plain": [
              "<Figure size 1440x360 with 6 Axes>"
            ]
          },
          "metadata": {
            "needs_background": "light"
          },
          "output_type": "display_data"
        },
        {
          "data": {
            "image/png": "[encoded data removed]",
            "text/plain": [
              "<Figure size 1440x360 with 6 Axes>"
            ]
          },
          "metadata": {
            "needs_background": "light"
          },
          "output_type": "display_data"
        }
      ],
      "source": [
        "[plot_case(caseID,train_data,train_label) for caseID in range(5)] ;"
      ]
    },
    {
      "cell_type": "markdown",
      "id": "931f2383",
      "metadata": {
        "id": "931f2383"
      },
      "source": [
        "### Query data set\n",
        "\n",
        "For this task you need to use the following query data set. The dataset contains 1000 sets of 6 images each. The images are also of hand written characters, however these characters are not present in the training data set. The characters in the query data set all come from the Greek alphabet that is not part of the set of alphabets in the training data. \n"
      ]
    },
    {
      "cell_type": "code",
      "execution_count": 5,
      "id": "c9ba78dc",
      "metadata": {
        "colab": {
          "base_uri": "https://localhost:8080/"
        },
        "id": "c9ba78dc",
        "outputId": "2675343e-9418-406a-9157-dc06a49f0675"
      },
      "outputs": [
        {
          "name": "stdout",
          "output_type": "stream",
          "text": [
            "test_data shape: (1000, 6, 28, 28)\n",
            "test_label shape: (1000, 5)\n",
            "\n"
          ]
        }
      ],
      "source": [
        "    \n",
        "#Downloading may take a while..\n",
        "test_data = load_numpy_arr_from_url('https://surfdrive.surf.nl/files/index.php/s/06c34QVUr69CxWY/download')\n",
        "test_label = load_numpy_arr_from_url('https://surfdrive.surf.nl/files/index.php/s/LQIH1CW7lfDXevk/download')\n",
        "\n",
        "print(f\"test_data shape: {test_data.shape}\")\n",
        "print(f\"test_label shape: {test_label.shape}\\n\")"
      ]
    },
    {
      "cell_type": "code",
      "execution_count": 6,
      "id": "03fb3580",
      "metadata": {
        "colab": {
          "base_uri": "https://localhost:8080/",
          "height": 1000
        },
        "id": "03fb3580",
        "outputId": "fe4fe016-6103-4336-a790-ddacd403c46e",
        "scrolled": false
      },
      "outputs": [
        {
          "data": {
            "image/png": "[encoded data removed]",
            "text/plain": [
              "<Figure size 1440x360 with 6 Axes>"
            ]
          },
          "metadata": {
            "needs_background": "light"
          },
          "output_type": "display_data"
        },
        {
          "data": {
            "image/png": "[encoded data removed]",
            "text/plain": [
              "<Figure size 1440x360 with 6 Axes>"
            ]
          },
          "metadata": {
            "needs_background": "light"
          },
          "output_type": "display_data"
        },
        {
          "data": {
            "image/png": "[encoded data removed]",
            "text/plain": [
              "<Figure size 1440x360 with 6 Axes>"
            ]
          },
          "metadata": {
            "needs_background": "light"
          },
          "output_type": "display_data"
        },
        {
          "data": {
            "image/png": "[encoded data removed]",
            "text/plain": [
              "<Figure size 1440x360 with 6 Axes>"
            ]
          },
          "metadata": {
            "needs_background": "light"
          },
          "output_type": "display_data"
        },
        {
          "data": {
            "image/png": "[encoded data removed]",
            "text/plain": [
              "<Figure size 1440x360 with 6 Axes>"
            ]
          },
          "metadata": {
            "needs_background": "light"
          },
          "output_type": "display_data"
        }
      ],
      "source": [
        "[plot_case(caseID,test_data,test_label) for caseID in range(5)] ;"
      ]
    },
    {
      "cell_type": "markdown",
      "id": "fcc32db2",
      "metadata": {
        "id": "fcc32db2"
      },
      "source": [
        "### Build pytorch dataset and dataload"
      ]
    },
    {
      "cell_type": "code",
      "execution_count": 7,
      "id": "fcf31f45",
      "metadata": {
        "id": "fcf31f45"
      },
      "outputs": [],
      "source": [
        "import torch\n",
        "from torchvision import transforms\n",
        "from torch.utils.data import Dataset, DataLoader,TensorDataset\n",
        "from torch.utils.data.sampler import SubsetRandomSampler\n",
        "from sklearn.model_selection import train_test_split\n",
        "import numpy as np\n",
        "from PIL import Image\n",
        "\n",
        "\n",
        "class TrainProcessDataset(Dataset):\n",
        "    def __init__(self, data, targets, transform=None):\n",
        "        \"\"\"\n",
        "        The dataset initialization\n",
        "\n",
        "        Args:\n",
        "            data (np.ndarray): images vector of expectied size (number of vectors, size of support set + 1, height, width)\n",
        "            targets (np.ndarray): labels vector of expected size (number of vectors, size of support set)\n",
        "            transform (callable, optional): Optional transform to be applied on a sample\n",
        "        \"\"\"\n",
        "        # load images of shape (x, 6, 28, 28)\n",
        "        # load labels of shape (x, 5) \n",
        "        \n",
        "        #x = torch.zeros([data.shape[0]*(data.shape[1]- 1), 2, data.shape[-2], data.shape[-1]], dtype=torch.float64)\n",
        "        #y = torch.zeros([data.shape[0]*(data.shape[1]- 1), 1], dtype=torch.long)\n",
        "        x = np.zeros((data.shape[0]*(data.shape[1]- 1), 2, data.shape[-2], data.shape[-1]))\n",
        "        y = np.zeros((data.shape[0]*(data.shape[1]- 1), 1))\n",
        "\n",
        "        for n, (images, targets) in enumerate(zip(data, targets)):\n",
        "             for i in range(data.shape[1]- 1):\n",
        "                 x[n*(data.shape[1]- 1)+i, 0] = images[i]\n",
        "                 x[n*(data.shape[1]- 1)+i, 1] = images[-1]\n",
        "                 y[n*(data.shape[1]- 1)+i] = targets[i]\n",
        "\n",
        "        # store images as pairs of one example from support vector and the query image (5x, 2, 28, 28)\n",
        "        self.data = torch.Tensor(x)\n",
        "        # store the labels as 0/1 array\n",
        "        self.targets = torch.Tensor(y)\n",
        "        # \n",
        "        self.transform = transform\n",
        "\n",
        "    def __getitem__(self, index):\n",
        "        if self.transform:\n",
        "            im1 = self.data[index][0]\n",
        "            im1 = self.transform(im1.reshape((1,im1.shape[0], im1.shape[1]))).reshape((self.data.shape[-2],self.data.shape[-1]))\n",
        "            im2 = self.data[index][1]\n",
        "            im2 = self.transform(im2.reshape((1,im2.shape[0], im2.shape[1]))).reshape((self.data.shape[-2],self.data.shape[-1]))\n",
        "        else:\n",
        "            im1 = self.data[index][0]\n",
        "            im2 = self.data[index][1]\n",
        "        return im1, im2, self.targets[index]\n",
        "    \n",
        "    def __len__(self):\n",
        "        return len(self.data)\n",
        "\n",
        "    def __shape__(self):\n",
        "        return self.data.shape, self.targets.shape\n",
        "    \n",
        "\n",
        "def train_validation_split(X: np.ndarray, Y: np.ndarray, train_size = 0.8, transform = None):\n",
        "    \"\"\"\n",
        "    The function that returns the train and validation datasets\n",
        "    Args:\n",
        "        X (np.ndarray): the feature matrix\n",
        "        Y (np.ndarray): the labels matrix\n",
        "    \n",
        "    Output:\n",
        "        Train (TrainProcessDataset): the object of class TrainProcessDataset with train data\n",
        "        Validation (TrainProcessDataset): the object of class TrainProcessDataset with validation data\n",
        "    \"\"\"\n",
        "    indices = list(SubsetRandomSampler(range(X.shape[0])))\n",
        "    train_X, train_Y = X[:int(np.floor(len(indices)*train_size))], Y[:int(np.floor(len(indices)*train_size))]\n",
        "    val_X, val_Y = X[int(np.floor(len(indices)*train_size)):], Y[int(np.floor(len(indices)*train_size)):]\n",
        "    return TrainProcessDataset(train_X, train_Y, transform), TrainProcessDataset(val_X, val_Y, transform)"
      ]
    },
    {
      "cell_type": "markdown",
      "id": "rVEe4uDFeolY",
      "metadata": {
        "id": "rVEe4uDFeolY"
      },
      "source": [
        "## The Model"
      ]
    },
    {
      "cell_type": "code",
      "execution_count": 8,
      "id": "0b6fdfee",
      "metadata": {
        "id": "0b6fdfee"
      },
      "outputs": [],
      "source": [
        "class Lambda(nn.Module):\n",
        "    def __init__(self, func):\n",
        "        super().__init__()\n",
        "        self.func = func\n",
        "\n",
        "    def forward(self, x):\n",
        "        return self.func(x)\n",
        "\n",
        "## Model Definition ##\n",
        "class Siamese(nn.Module):\n",
        "    def __init__(self):\n",
        "        super(Siamese, self).__init__()\n",
        "        self.conv = nn.Sequential(\n",
        "             #1\n",
        "            nn.Conv2d(1, 64, 3), \n",
        "            nn.ReLU(inplace=True),\n",
        "            nn.MaxPool2d(2),  \n",
        "            nn.BatchNorm2d(64),\n",
        "            #2\n",
        "            nn.Conv2d(64, 128, 3),\n",
        "            nn.ReLU(),   \n",
        "            nn.MaxPool2d(2),   \n",
        "            nn.BatchNorm2d(128),\n",
        "            #3\n",
        "            nn.Conv2d(128, 256, 3),\n",
        "            nn.ReLU(),\n",
        "            nn.BatchNorm2d(256)\n",
        "        )\n",
        "        self.liner = nn.Sequential(nn.Linear(3*3*256, 128), nn.Sigmoid())\n",
        "        self.out = nn.Linear(128, 1)\n",
        "\n",
        "    def forward_one(self, x):\n",
        "        #print(x.shape)\n",
        "        x = self.conv(x)\n",
        "        x = x.view(x.size()[0], -1)\n",
        "        x = self.liner(x)\n",
        "        return x\n",
        "\n",
        "    def forward(self, x1, x2):\n",
        "        out1 = self.forward_one(x1)\n",
        "        out2 = self.forward_one(x2)\n",
        "        dis = torch.abs(out1 - out2)\n",
        "        out = torch.sigmoid(self.out(dis))\n",
        "     \n",
        "        return out "
      ]
    },
    {
      "cell_type": "code",
      "execution_count": 17,
      "id": "07955ccc",
      "metadata": {
        "id": "07955ccc"
      },
      "outputs": [],
      "source": [
        "import matplotlib.pyplot as plt\n",
        "from IPython.display import clear_output\n",
        "\n",
        "def plot_training(training_loss, valid_loss):\n",
        "\n",
        "    clear_output()\n",
        "\n",
        "    plt.figure(figsize=(12, 8))\n",
        "    plt.title('Loss optimisation')\n",
        "    plt.xlabel('epoch')\n",
        "    plt.ylabel('loss')\n",
        "    plt.plot(training_loss, label='Training Loss')\n",
        "    plt.plot(valid_loss, label='Validation Loss')\n",
        "    plt.xticks(np.arange(0, len(training_loss)), labels = np.arange(1, len(training_loss)+1))\n",
        "    plt.grid()\n",
        "    plt.legend()\n",
        "    plt.show()"
      ]
    },
    {
      "cell_type": "code",
      "execution_count": 10,
      "id": "d2c8f9a6",
      "metadata": {
        "id": "d2c8f9a6"
      },
      "outputs": [],
      "source": [
        "## Training ##\n",
        "\n",
        "from tqdm import tqdm\n",
        "\n",
        "class Trainer():\n",
        "    def __init__(self,\n",
        "                 model: torch.nn.Module,\n",
        "                 device: torch.device,\n",
        "                 criterion: torch.nn.Module,\n",
        "                 optimizer: torch.optim.Optimizer,\n",
        "                 training_DataLoader: torch.utils.data.Dataset,\n",
        "                 validation_DataLoader: torch.utils.data.Dataset ,\n",
        "                 testing_DataLoader: torch.utils.data.Dataset ,\n",
        "                 epochs: int\n",
        "                 ):\n",
        "        \n",
        "        self.model = model\n",
        "        self.criterion = criterion\n",
        "        self.optimizer = optimizer\n",
        "        self.training_DataLoader = training_DataLoader\n",
        "        self.validation_DataLoader = validation_DataLoader\n",
        "        self.testing_DataLoader = testing_DataLoader\n",
        "        self.device = device\n",
        "        self.epochs = epochs\n",
        "\n",
        "\n",
        "    def run_trainer(self):\n",
        "\n",
        "        epoch_train_losses = []\n",
        "        epoch_val_losses = []\n",
        "        for epoch in tqdm(range(self.epochs)):\n",
        "                 \n",
        "\n",
        "            self.model.train()  # train mode\n",
        "\n",
        "            train_losses=[]\n",
        "            \n",
        "\n",
        "            for A, B, y in self.training_DataLoader:\n",
        "\n",
        "                A, B, target = A.reshape(-1, 1, 28, 28).to(self.device), B.reshape(-1, 1, 28, 28).to(self.device), y.to(self.device)  # send to device (GPU or CPU)\n",
        "                #print(A.shape)\n",
        "                self.optimizer.zero_grad()  # zerograd the parameters\n",
        "                out = self.model(A, B)  # one forward pass\n",
        "\n",
        "                loss = self.criterion(out, target)  # calculate loss\n",
        "                loss_value = loss.item()\n",
        "                train_losses.append(loss_value)\n",
        "                 \n",
        "                loss.backward()  # one backward pass\n",
        "                self.optimizer.step()  # update the parameters\n",
        "            \n",
        "            epoch_train_losses.append(np.mean(train_losses))\n",
        "\n",
        "            self.model.eval()  # evaluation mode\n",
        "            valid_losses = []  # accumulate the losses here\n",
        "\n",
        "            for A, B, y in self.validation_DataLoader:\n",
        "\n",
        "                A, B, target = A.reshape(-1, 1, 28, 28).to(self.device), B.reshape(-1, 1, 28, 28).to(self.device), y.to(self.device) # send to device (GPU or CPU)\n",
        "\n",
        "                with torch.no_grad():\n",
        "                    out = self.model(A, B)   # one forward pass\n",
        "                    loss = self.criterion(out, target) # calculate loss\n",
        "                 \n",
        "                    loss_value = loss.item()\n",
        "                    valid_losses.append(loss_value)\n",
        "            epoch_val_losses.append(np.mean(valid_losses))\n",
        "\n",
        "                \n",
        "            # print the results\n",
        "            print(\n",
        "                f'EPOCH: {epoch+1:0>{len(str(self.epochs))}}/{self.epochs}',\n",
        "                end=' '\n",
        "            )\n",
        "            print(f'LOSS: {np.mean(train_losses):.4f}',end=' ')\n",
        "            print(f'VAL-LOSS: {np.mean(valid_losses):.4f}',end='\\n')\n",
        "\n",
        "        return epoch_train_losses, epoch_val_losses\n",
        "        \n",
        "    def evaluate(self):\n",
        "\n",
        "        self.model.eval()\n",
        "\n",
        "        with torch.no_grad():\n",
        "            correct = 0\n",
        "            length = 0\n",
        "            for A, B, y in self.testing_DataLoader:\n",
        "\n",
        "                A, B, target = A.reshape(-1, 1, 28, 28).to(self.device), B.reshape(-1, 1, 28, 28).to(self.device), y.to(self.device)\n",
        "\n",
        "                out = self.model(A, B)\n",
        "\n",
        "                correct += (torch.round(out) == target).sum().item()\n",
        "                length += target.shape[0]\n",
        "            \n",
        "        print(f'Accuracy: {correct/length:.4f}',end=' ')"
      ]
    },
    {
      "cell_type": "markdown",
      "id": "6klTx-xHfL_O",
      "metadata": {
        "id": "6klTx-xHfL_O"
      },
      "source": [
        "## Experiment with original data with Binary Cross-Entropy Loss"
      ]
    },
    {
      "cell_type": "code",
      "execution_count": 23,
      "id": "d3d75da8",
      "metadata": {
        "id": "d3d75da8"
      },
      "outputs": [],
      "source": [
        "# Load the dataset\n",
        "train_dataset, val_dataset = train_validation_split(train_data, train_label, train_size=0.8, transform = None)\n",
        "test_dataset = TrainProcessDataset(test_data, test_label)"
      ]
    },
    {
      "cell_type": "code",
      "execution_count": 12,
      "id": "d4c1bd77",
      "metadata": {
        "id": "d4c1bd77"
      },
      "outputs": [],
      "source": [
        "train_loader = torch.utils.data.DataLoader(train_dataset, batch_size=10)\n",
        "val_loader = torch.utils.data.DataLoader(val_dataset, batch_size=10)\n",
        "test_loader = torch.utils.data.DataLoader(test_dataset, batch_size=10)"
      ]
    },
    {
      "cell_type": "code",
      "execution_count": 13,
      "id": "olguXsDAe7cG",
      "metadata": {
        "colab": {
          "base_uri": "https://localhost:8080/"
        },
        "id": "olguXsDAe7cG",
        "outputId": "51e58e80-5c7a-48e5-c5d5-1e1edbfd358f"
      },
      "outputs": [
        {
          "name": "stderr",
          "output_type": "stream",
          "text": [
            "  5%|▌         | 1/20 [00:24<07:50, 24.77s/it]"
          ]
        },
        {
          "name": "stdout",
          "output_type": "stream",
          "text": [
            "EPOCH: 01/20 LOSS: 0.5105 VAL-LOSS: 0.3575\n"
          ]
        },
        {
          "name": "stderr",
          "output_type": "stream",
          "text": [
            "\r 10%|█         | 2/20 [00:47<07:08, 23.83s/it]"
          ]
        },
        {
          "name": "stdout",
          "output_type": "stream",
          "text": [
            "EPOCH: 02/20 LOSS: 0.3040 VAL-LOSS: 0.2484\n"
          ]
        },
        {
          "name": "stderr",
          "output_type": "stream",
          "text": [
            "\r 15%|█▌        | 3/20 [01:12<06:48, 24.02s/it]"
          ]
        },
        {
          "name": "stdout",
          "output_type": "stream",
          "text": [
            "EPOCH: 03/20 LOSS: 0.1759 VAL-LOSS: 0.2053\n"
          ]
        },
        {
          "name": "stderr",
          "output_type": "stream",
          "text": [
            "\r 20%|██        | 4/20 [01:35<06:19, 23.75s/it]"
          ]
        },
        {
          "name": "stdout",
          "output_type": "stream",
          "text": [
            "EPOCH: 04/20 LOSS: 0.0873 VAL-LOSS: 0.1871\n"
          ]
        },
        {
          "name": "stderr",
          "output_type": "stream",
          "text": [
            "\r 25%|██▌       | 5/20 [01:58<05:54, 23.61s/it]"
          ]
        },
        {
          "name": "stdout",
          "output_type": "stream",
          "text": [
            "EPOCH: 05/20 LOSS: 0.0386 VAL-LOSS: 0.1776\n"
          ]
        },
        {
          "name": "stderr",
          "output_type": "stream",
          "text": [
            "\r 30%|███       | 6/20 [02:21<05:27, 23.43s/it]"
          ]
        },
        {
          "name": "stdout",
          "output_type": "stream",
          "text": [
            "EPOCH: 06/20 LOSS: 0.0198 VAL-LOSS: 0.1752\n"
          ]
        },
        {
          "name": "stderr",
          "output_type": "stream",
          "text": [
            "\r 35%|███▌      | 7/20 [02:45<05:04, 23.42s/it]"
          ]
        },
        {
          "name": "stdout",
          "output_type": "stream",
          "text": [
            "EPOCH: 07/20 LOSS: 0.0123 VAL-LOSS: 0.1755\n"
          ]
        },
        {
          "name": "stderr",
          "output_type": "stream",
          "text": [
            "\r 40%|████      | 8/20 [03:08<04:40, 23.36s/it]"
          ]
        },
        {
          "name": "stdout",
          "output_type": "stream",
          "text": [
            "EPOCH: 08/20 LOSS: 0.0087 VAL-LOSS: 0.1767\n"
          ]
        },
        {
          "name": "stderr",
          "output_type": "stream",
          "text": [
            "\r 45%|████▌     | 9/20 [03:31<04:15, 23.25s/it]"
          ]
        },
        {
          "name": "stdout",
          "output_type": "stream",
          "text": [
            "EPOCH: 09/20 LOSS: 0.0067 VAL-LOSS: 0.1785\n"
          ]
        },
        {
          "name": "stderr",
          "output_type": "stream",
          "text": [
            "\r 50%|█████     | 10/20 [03:54<03:52, 23.29s/it]"
          ]
        },
        {
          "name": "stdout",
          "output_type": "stream",
          "text": [
            "EPOCH: 10/20 LOSS: 0.0054 VAL-LOSS: 0.1801\n"
          ]
        },
        {
          "name": "stderr",
          "output_type": "stream",
          "text": [
            "\r 55%|█████▌    | 11/20 [04:29<04:01, 26.87s/it]"
          ]
        },
        {
          "name": "stdout",
          "output_type": "stream",
          "text": [
            "EPOCH: 11/20 LOSS: 0.0045 VAL-LOSS: 0.1817\n"
          ]
        },
        {
          "name": "stderr",
          "output_type": "stream",
          "text": [
            "\r 60%|██████    | 12/20 [05:02<03:49, 28.73s/it]"
          ]
        },
        {
          "name": "stdout",
          "output_type": "stream",
          "text": [
            "EPOCH: 12/20 LOSS: 0.0038 VAL-LOSS: 0.1832\n"
          ]
        },
        {
          "name": "stderr",
          "output_type": "stream",
          "text": [
            "\r 65%|██████▌   | 13/20 [05:26<03:10, 27.21s/it]"
          ]
        },
        {
          "name": "stdout",
          "output_type": "stream",
          "text": [
            "EPOCH: 13/20 LOSS: 0.0033 VAL-LOSS: 0.1845\n"
          ]
        },
        {
          "name": "stderr",
          "output_type": "stream",
          "text": [
            "\r 70%|███████   | 14/20 [05:53<02:41, 26.95s/it]"
          ]
        },
        {
          "name": "stdout",
          "output_type": "stream",
          "text": [
            "EPOCH: 14/20 LOSS: 0.0029 VAL-LOSS: 0.1857\n"
          ]
        },
        {
          "name": "stderr",
          "output_type": "stream",
          "text": [
            "\r 75%|███████▌  | 15/20 [06:19<02:13, 26.76s/it]"
          ]
        },
        {
          "name": "stdout",
          "output_type": "stream",
          "text": [
            "EPOCH: 15/20 LOSS: 0.0026 VAL-LOSS: 0.1869\n"
          ]
        },
        {
          "name": "stderr",
          "output_type": "stream",
          "text": [
            "\r 80%|████████  | 16/20 [06:43<01:44, 26.08s/it]"
          ]
        },
        {
          "name": "stdout",
          "output_type": "stream",
          "text": [
            "EPOCH: 16/20 LOSS: 0.0023 VAL-LOSS: 0.1880\n"
          ]
        },
        {
          "name": "stderr",
          "output_type": "stream",
          "text": [
            "\r 85%|████████▌ | 17/20 [07:08<01:16, 25.58s/it]"
          ]
        },
        {
          "name": "stdout",
          "output_type": "stream",
          "text": [
            "EPOCH: 17/20 LOSS: 0.0021 VAL-LOSS: 0.1889\n"
          ]
        },
        {
          "name": "stderr",
          "output_type": "stream",
          "text": [
            "\r 90%|█████████ | 18/20 [07:34<00:51, 25.93s/it]"
          ]
        },
        {
          "name": "stdout",
          "output_type": "stream",
          "text": [
            "EPOCH: 18/20 LOSS: 0.0020 VAL-LOSS: 0.1900\n"
          ]
        },
        {
          "name": "stderr",
          "output_type": "stream",
          "text": [
            "\r 95%|█████████▌| 19/20 [08:02<00:26, 26.41s/it]"
          ]
        },
        {
          "name": "stdout",
          "output_type": "stream",
          "text": [
            "EPOCH: 19/20 LOSS: 0.0018 VAL-LOSS: 0.1908\n"
          ]
        },
        {
          "name": "stderr",
          "output_type": "stream",
          "text": [
            "100%|██████████| 20/20 [08:28<00:00, 25.41s/it]"
          ]
        },
        {
          "name": "stdout",
          "output_type": "stream",
          "text": [
            "EPOCH: 20/20 LOSS: 0.0017 VAL-LOSS: 0.1917\n"
          ]
        },
        {
          "name": "stderr",
          "output_type": "stream",
          "text": [
            "\n"
          ]
        }
      ],
      "source": [
        "if torch.cuda.is_available():\n",
        "    device = torch.device('cuda')\n",
        "else:\n",
        "    device=torch.device('cpu')\n",
        "\n",
        "model = Siamese().to(device)\n",
        "\n",
        "criterion = torch.nn.BCELoss()\n",
        "\n",
        "optimizer = torch.optim.SGD(model.parameters(), lr=0.001, momentum=0.9)\n",
        "\n",
        "TrainingProcedure = Trainer(model, device, criterion, optimizer, train_loader, val_loader, test_loader, epochs = 20)\n",
        "\n",
        "train_loss, val_loss = TrainingProcedure.run_trainer()"
      ]
    },
    {
      "cell_type": "code",
      "execution_count": 18,
      "id": "4qInKMR-qI0F",
      "metadata": {
        "colab": {
          "base_uri": "https://localhost:8080/",
          "height": 513
        },
        "id": "4qInKMR-qI0F",
        "outputId": "738b4cae-11e0-46a3-c6bd-85855c823553"
      },
      "outputs": [
        {
          "data": {
            "image/png": "[encoded data removed]",
            "text/plain": [
              "<Figure size 864x576 with 1 Axes>"
            ]
          },
          "metadata": {
            "needs_background": "light"
          },
          "output_type": "display_data"
        }
      ],
      "source": [
        "plot_training(train_loss, val_loss)"
      ]
    },
    {
      "cell_type": "markdown",
      "id": "jhg4hpMJrdWV",
      "metadata": {
        "id": "jhg4hpMJrdWV"
      },
      "source": [
        "Check the test accuracy"
      ]
    },
    {
      "cell_type": "code",
      "execution_count": 19,
      "id": "5xOkVNFUrZ-l",
      "metadata": {
        "colab": {
          "base_uri": "https://localhost:8080/"
        },
        "id": "5xOkVNFUrZ-l",
        "outputId": "7458d7c6-bac6-42ec-d8ab-10b832422eb0"
      },
      "outputs": [
        {
          "name": "stdout",
          "output_type": "stream",
          "text": [
            "Accuracy: 0.9050 "
          ]
        }
      ],
      "source": [
        "TrainingProcedure.evaluate()"
      ]
    },
    {
      "cell_type": "markdown",
      "id": "ojwm366FPJq2",
      "metadata": {
        "id": "ojwm366FPJq2"
      },
      "source": [
        "## Experiment with data augmentation with Binary Cross-Entropy Loss"
      ]
    },
    {
      "cell_type": "markdown",
      "id": "9ppBubC3QHWI",
      "metadata": {
        "id": "9ppBubC3QHWI"
      },
      "source": [
        "#### Loading the data"
      ]
    },
    {
      "cell_type": "code",
      "execution_count": 35,
      "id": "7facd49b",
      "metadata": {
        "id": "7facd49b"
      },
      "outputs": [],
      "source": [
        "from torchvision import transforms\n",
        "augmentation = transforms.RandomAffine(degrees = (-20, 20), translate=(0.2, 0.2), scale=(0.9, 1.15), fill  = 1)"
      ]
    },
    {
      "cell_type": "code",
      "execution_count": 36,
      "id": "gC_2ltdqPdIP",
      "metadata": {
        "id": "gC_2ltdqPdIP"
      },
      "outputs": [],
      "source": [
        "train_dataset, val_dataset = train_validation_split(train_data, train_label, train_size=0.8, transform = augmentation)"
      ]
    },
    {
      "cell_type": "markdown",
      "id": "6ZTIEoovsiXS",
      "metadata": {
        "id": "6ZTIEoovsiXS"
      },
      "source": [
        "The examples of the transformations"
      ]
    },
    {
      "cell_type": "code",
      "execution_count": 37,
      "id": "i9TVlymYsSGc",
      "metadata": {
        "colab": {
          "base_uri": "https://localhost:8080/",
          "height": 425
        },
        "id": "i9TVlymYsSGc",
        "outputId": "6d0dea86-7728-403c-b9ef-2b2c20a46f4b"
      },
      "outputs": [
        {
          "data": {
            "text/plain": [
              "[<matplotlib.image.AxesImage at 0x7fab2c03f050>,\n",
              " <matplotlib.image.AxesImage at 0x7fab2c047850>,\n",
              " <matplotlib.image.AxesImage at 0x7fab2c047f10>,\n",
              " <matplotlib.image.AxesImage at 0x7fab2c047790>,\n",
              " <matplotlib.image.AxesImage at 0x7fab2c000790>,\n",
              " <matplotlib.image.AxesImage at 0x7fab2bff4050>]"
            ]
          },
          "execution_count": 37,
          "metadata": {},
          "output_type": "execute_result"
        },
        {
          "data": {
            "image/png": "[encoded data removed]",
            "text/plain": [
              "<Figure size 1440x360 with 12 Axes>"
            ]
          },
          "metadata": {
            "needs_background": "light"
          },
          "output_type": "display_data"
        }
      ],
      "source": [
        "examples = train_data[0]\n",
        "f, axes = plt.subplots(2, 6, figsize=(20,5))\n",
        "[ax.imshow(examples[i]) for i, ax in enumerate(axes[0,:])]\n",
        "[ax.imshow(augmentation(torch.Tensor(examples[i]).reshape((1,28,28))).reshape((28,28))) for i, ax in enumerate(axes[1,:])]"
      ]
    },
    {
      "cell_type": "code",
      "execution_count": 38,
      "id": "Ll-t3MhGPkY3",
      "metadata": {
        "id": "Ll-t3MhGPkY3"
      },
      "outputs": [],
      "source": [
        "train_loader = torch.utils.data.DataLoader(train_dataset, batch_size=10)\n",
        "val_loader = torch.utils.data.DataLoader(val_dataset, batch_size=10)"
      ]
    },
    {
      "cell_type": "code",
      "execution_count": 39,
      "id": "de2b661c",
      "metadata": {
        "colab": {
          "base_uri": "https://localhost:8080/"
        },
        "id": "de2b661c",
        "outputId": "86267678-4174-416c-9847-fb611785748a"
      },
      "outputs": [
        {
          "name": "stderr",
          "output_type": "stream",
          "text": [
            "  5%|▌         | 1/20 [00:56<17:58, 56.78s/it]"
          ]
        },
        {
          "name": "stdout",
          "output_type": "stream",
          "text": [
            "EPOCH: 01/20 LOSS: 0.6387 VAL-LOSS: 0.5840\n"
          ]
        },
        {
          "name": "stderr",
          "output_type": "stream",
          "text": [
            "\r 10%|█         | 2/20 [01:53<17:06, 57.03s/it]"
          ]
        },
        {
          "name": "stdout",
          "output_type": "stream",
          "text": [
            "EPOCH: 02/20 LOSS: 0.5943 VAL-LOSS: 0.5254\n"
          ]
        },
        {
          "name": "stderr",
          "output_type": "stream",
          "text": [
            "\r 15%|█▌        | 3/20 [02:51<16:13, 57.29s/it]"
          ]
        },
        {
          "name": "stdout",
          "output_type": "stream",
          "text": [
            "EPOCH: 03/20 LOSS: 0.5459 VAL-LOSS: 0.4671\n"
          ]
        },
        {
          "name": "stderr",
          "output_type": "stream",
          "text": [
            "\r 20%|██        | 4/20 [03:48<15:17, 57.33s/it]"
          ]
        },
        {
          "name": "stdout",
          "output_type": "stream",
          "text": [
            "EPOCH: 04/20 LOSS: 0.5061 VAL-LOSS: 0.4336\n"
          ]
        },
        {
          "name": "stderr",
          "output_type": "stream",
          "text": [
            "\r 25%|██▌       | 5/20 [04:46<14:21, 57.45s/it]"
          ]
        },
        {
          "name": "stdout",
          "output_type": "stream",
          "text": [
            "EPOCH: 05/20 LOSS: 0.4758 VAL-LOSS: 0.4168\n"
          ]
        },
        {
          "name": "stderr",
          "output_type": "stream",
          "text": [
            "\r 30%|███       | 6/20 [05:43<13:23, 57.40s/it]"
          ]
        },
        {
          "name": "stdout",
          "output_type": "stream",
          "text": [
            "EPOCH: 06/20 LOSS: 0.4536 VAL-LOSS: 0.3925\n"
          ]
        },
        {
          "name": "stderr",
          "output_type": "stream",
          "text": [
            "\r 35%|███▌      | 7/20 [06:40<12:23, 57.18s/it]"
          ]
        },
        {
          "name": "stdout",
          "output_type": "stream",
          "text": [
            "EPOCH: 07/20 LOSS: 0.4406 VAL-LOSS: 0.3813\n"
          ]
        },
        {
          "name": "stderr",
          "output_type": "stream",
          "text": [
            "\r 40%|████      | 8/20 [07:37<11:26, 57.23s/it]"
          ]
        },
        {
          "name": "stdout",
          "output_type": "stream",
          "text": [
            "EPOCH: 08/20 LOSS: 0.4214 VAL-LOSS: 0.3631\n"
          ]
        },
        {
          "name": "stderr",
          "output_type": "stream",
          "text": [
            "\r 45%|████▌     | 9/20 [08:35<10:30, 57.31s/it]"
          ]
        },
        {
          "name": "stdout",
          "output_type": "stream",
          "text": [
            "EPOCH: 09/20 LOSS: 0.4092 VAL-LOSS: 0.3562\n"
          ]
        },
        {
          "name": "stderr",
          "output_type": "stream",
          "text": [
            "\r 50%|█████     | 10/20 [09:33<09:33, 57.40s/it]"
          ]
        },
        {
          "name": "stdout",
          "output_type": "stream",
          "text": [
            "EPOCH: 10/20 LOSS: 0.3954 VAL-LOSS: 0.3511\n"
          ]
        },
        {
          "name": "stderr",
          "output_type": "stream",
          "text": [
            "\r 55%|█████▌    | 11/20 [10:30<08:37, 57.45s/it]"
          ]
        },
        {
          "name": "stdout",
          "output_type": "stream",
          "text": [
            "EPOCH: 11/20 LOSS: 0.3852 VAL-LOSS: 0.3296\n"
          ]
        },
        {
          "name": "stderr",
          "output_type": "stream",
          "text": [
            "\r 60%|██████    | 12/20 [11:27<07:39, 57.40s/it]"
          ]
        },
        {
          "name": "stdout",
          "output_type": "stream",
          "text": [
            "EPOCH: 12/20 LOSS: 0.3739 VAL-LOSS: 0.3217\n"
          ]
        },
        {
          "name": "stderr",
          "output_type": "stream",
          "text": [
            "\r 65%|██████▌   | 13/20 [12:25<06:42, 57.48s/it]"
          ]
        },
        {
          "name": "stdout",
          "output_type": "stream",
          "text": [
            "EPOCH: 13/20 LOSS: 0.3652 VAL-LOSS: 0.3229\n"
          ]
        },
        {
          "name": "stderr",
          "output_type": "stream",
          "text": [
            "\r 70%|███████   | 14/20 [13:22<05:44, 57.40s/it]"
          ]
        },
        {
          "name": "stdout",
          "output_type": "stream",
          "text": [
            "EPOCH: 14/20 LOSS: 0.3596 VAL-LOSS: 0.3163\n"
          ]
        },
        {
          "name": "stderr",
          "output_type": "stream",
          "text": [
            "\r 75%|███████▌  | 15/20 [14:19<04:46, 57.21s/it]"
          ]
        },
        {
          "name": "stdout",
          "output_type": "stream",
          "text": [
            "EPOCH: 15/20 LOSS: 0.3488 VAL-LOSS: 0.3068\n"
          ]
        },
        {
          "name": "stderr",
          "output_type": "stream",
          "text": [
            "\r 80%|████████  | 16/20 [15:16<03:48, 57.07s/it]"
          ]
        },
        {
          "name": "stdout",
          "output_type": "stream",
          "text": [
            "EPOCH: 16/20 LOSS: 0.3418 VAL-LOSS: 0.3043\n"
          ]
        },
        {
          "name": "stderr",
          "output_type": "stream",
          "text": [
            "\r 85%|████████▌ | 17/20 [16:12<02:49, 56.65s/it]"
          ]
        },
        {
          "name": "stdout",
          "output_type": "stream",
          "text": [
            "EPOCH: 17/20 LOSS: 0.3338 VAL-LOSS: 0.3061\n"
          ]
        },
        {
          "name": "stderr",
          "output_type": "stream",
          "text": [
            "\r 90%|█████████ | 18/20 [17:08<01:53, 56.54s/it]"
          ]
        },
        {
          "name": "stdout",
          "output_type": "stream",
          "text": [
            "EPOCH: 18/20 LOSS: 0.3288 VAL-LOSS: 0.2866\n"
          ]
        },
        {
          "name": "stderr",
          "output_type": "stream",
          "text": [
            "\r 95%|█████████▌| 19/20 [18:04<00:56, 56.54s/it]"
          ]
        },
        {
          "name": "stdout",
          "output_type": "stream",
          "text": [
            "EPOCH: 19/20 LOSS: 0.3236 VAL-LOSS: 0.2870\n"
          ]
        },
        {
          "name": "stderr",
          "output_type": "stream",
          "text": [
            "100%|██████████| 20/20 [19:00<00:00, 57.04s/it]"
          ]
        },
        {
          "name": "stdout",
          "output_type": "stream",
          "text": [
            "EPOCH: 20/20 LOSS: 0.3192 VAL-LOSS: 0.2819\n"
          ]
        },
        {
          "name": "stderr",
          "output_type": "stream",
          "text": [
            "\n"
          ]
        }
      ],
      "source": [
        "if torch.cuda.is_available():\n",
        "    device = torch.device('cuda')\n",
        "else:\n",
        "    device=torch.device('cpu')\n",
        "\n",
        "model = Siamese().to(device)\n",
        "\n",
        "criterion = torch.nn.BCELoss()\n",
        "\n",
        "optimizer = torch.optim.SGD(model.parameters(), lr=0.001, momentum=0.9)\n",
        "\n",
        "TrainingProcedure = Trainer(model, device, criterion, optimizer, train_loader, val_loader, test_loader, epochs = 20)\n",
        "\n",
        "train_loss, val_loss = TrainingProcedure.run_trainer()"
      ]
    },
    {
      "cell_type": "code",
      "execution_count": 40,
      "id": "biE7JmX6rnoQ",
      "metadata": {
        "colab": {
          "base_uri": "https://localhost:8080/",
          "height": 513
        },
        "id": "biE7JmX6rnoQ",
        "outputId": "61961f21-1675-4ccf-f81b-c194f1704aeb"
      },
      "outputs": [
        {
          "data": {
            "image/png": "[encoded data removed]",
            "text/plain": [
              "<Figure size 864x576 with 1 Axes>"
            ]
          },
          "metadata": {
            "needs_background": "light"
          },
          "output_type": "display_data"
        }
      ],
      "source": [
        "plot_training(train_loss, val_loss)"
      ]
    },
    {
      "cell_type": "markdown",
      "id": "Sk5jPRGtrkkO",
      "metadata": {
        "id": "Sk5jPRGtrkkO"
      },
      "source": [
        "Check the test accuracy"
      ]
    },
    {
      "cell_type": "code",
      "execution_count": 41,
      "id": "bKHxfWziNYjD",
      "metadata": {
        "colab": {
          "base_uri": "https://localhost:8080/"
        },
        "id": "bKHxfWziNYjD",
        "outputId": "ee29b323-1c5f-43f8-9d47-fab9c028a441"
      },
      "outputs": [
        {
          "name": "stdout",
          "output_type": "stream",
          "text": [
            "Accuracy: 0.9332 "
          ]
        }
      ],
      "source": [
        "TrainingProcedure.evaluate()"
      ]
    },
    {
      "cell_type": "markdown",
      "id": "E--HkcmH9-mf",
      "metadata": {
        "id": "E--HkcmH9-mf"
      },
      "source": [
        "### Experiment with data augmentation with Contrastive Loss"
      ]
    },
    {
      "cell_type": "code",
      "execution_count": 42,
      "id": "h6zna2Y0_Kyx",
      "metadata": {
        "id": "h6zna2Y0_Kyx"
      },
      "outputs": [],
      "source": [
        "class ContrastiveLoss(nn.Module):\n",
        "    \"\"\"\n",
        "    \"\"\"\n",
        "\n",
        "    def __init__(self):\n",
        "        super(ContrastiveLoss, self).__init__()\n",
        "        self.tau = nn.Parameter(torch.zeros(1))\n",
        "\n",
        "    def forward(self, distance, target):\n",
        "        if distance.is_cuda:\n",
        "          target.cuda()\n",
        "        relu = nn.ReLU()\n",
        "        out = (target)*0.5*(distance**2) + (1 - target)*(relu(self.tau - distance)**2)\n",
        "        return out.mean()"
      ]
    },
    {
      "cell_type": "code",
      "execution_count": 43,
      "id": "GqpuaFXv-oHa",
      "metadata": {
        "id": "GqpuaFXv-oHa"
      },
      "outputs": [],
      "source": [
        "class Siamese_Contrastive(nn.Module):\n",
        "    def __init__(self):\n",
        "        super(Siamese_Contrastive, self).__init__()\n",
        "        self.conv = nn.Sequential(\n",
        "             #1\n",
        "            nn.Conv2d(1, 64, 3), \n",
        "            nn.ReLU(inplace=True),\n",
        "            nn.MaxPool2d(2),  \n",
        "            nn.BatchNorm2d(64),\n",
        "            #2\n",
        "            nn.Conv2d(64, 128, 3),\n",
        "            nn.ReLU(),   \n",
        "            nn.MaxPool2d(2),   \n",
        "            nn.BatchNorm2d(128),\n",
        "            #3\n",
        "            nn.Conv2d(128, 256, 3),\n",
        "            nn.ReLU(),\n",
        "            nn.BatchNorm2d(256)\n",
        "        )\n",
        "        # the last layer of the model is the representation\n",
        "        self.liner = nn.Sequential(nn.Linear(3*3*256, 128), nn.ReLU())\n",
        "\n",
        "    def forward_one(self, x):\n",
        "        #print(x.shape)\n",
        "        x = self.conv(x)\n",
        "        x = x.view(x.size()[0], -1)\n",
        "        x = self.liner(x)\n",
        "        return x\n",
        "\n",
        "    def forward(self, x1, x2):\n",
        "        out1 = self.forward_one(x1)\n",
        "        out2 = self.forward_one(x2)\n",
        "        distance = torch.dist(out1, out2, 2)\n",
        "\n",
        "        return distance"
      ]
    },
    {
      "cell_type": "code",
      "execution_count": 44,
      "id": "6hoM2X5mAb_J",
      "metadata": {
        "id": "6hoM2X5mAb_J"
      },
      "outputs": [],
      "source": [
        "from tqdm import tqdm\n",
        "\n",
        "class Trainer_Contrastive():\n",
        "    def __init__(self,\n",
        "                 model: torch.nn.Module,\n",
        "                 device: torch.device,\n",
        "                 criterion: torch.nn.Module,\n",
        "                 optimizer: torch.optim.Optimizer,\n",
        "                 training_DataLoader: torch.utils.data.Dataset,\n",
        "                 validation_DataLoader: torch.utils.data.Dataset ,\n",
        "                 testing_DataLoader: torch.utils.data.Dataset ,\n",
        "                 epochs: int\n",
        "                 ):\n",
        "        \n",
        "        self.model = model\n",
        "        self.criterion = criterion\n",
        "        self.optimizer = optimizer\n",
        "        self.training_DataLoader = training_DataLoader\n",
        "        self.validation_DataLoader = validation_DataLoader\n",
        "        self.testing_DataLoader = testing_DataLoader\n",
        "        self.device = device\n",
        "        self.epochs = epochs\n",
        "\n",
        "\n",
        "    def run_trainer(self):\n",
        "\n",
        "        epoch_train_losses = []\n",
        "        epoch_val_losses = []\n",
        "        for epoch in tqdm(range(self.epochs)):\n",
        "                 \n",
        "\n",
        "            self.model.train()  # train mode\n",
        "\n",
        "            train_losses=[]\n",
        "            \n",
        "\n",
        "            for A, B, y in self.training_DataLoader:\n",
        "\n",
        "                A, B, target = A.reshape(-1, 1, 28, 28).to(self.device), B.reshape(-1, 1, 28, 28).to(self.device), y.to(self.device)  # send to device (GPU or CPU)\n",
        "                self.optimizer.zero_grad()  # zerograd the parameters\n",
        "                distance = self.model(A, B)  # one forward pass\n",
        "\n",
        "                loss = self.criterion(distance, target)  # calculate loss\n",
        "                loss_value = loss.item()\n",
        "                train_losses.append(loss_value)\n",
        "                 \n",
        "                loss.backward()  # one backward pass\n",
        "                self.optimizer.step()  # update the parameters\n",
        "            \n",
        "            epoch_train_losses.append(np.mean(train_losses))\n",
        "\n",
        "            self.model.eval()  # evaluation mode\n",
        "            valid_losses = []  # accumulate the losses here\n",
        "\n",
        "            for A, B, y in self.validation_DataLoader:\n",
        "\n",
        "                A, B, target = A.reshape(-1, 1, 28, 28).to(self.device), B.reshape(-1, 1, 28, 28).to(self.device), y.to(self.device) # send to device (GPU or CPU)\n",
        "\n",
        "                with torch.no_grad():\n",
        "                    distance = self.model(A, B)   # one forward pass\n",
        "                    loss = self.criterion(distance, target) # calculate loss\n",
        "                 \n",
        "                    loss_value = loss.item()\n",
        "                    valid_losses.append(loss_value)\n",
        "            epoch_val_losses.append(np.mean(valid_losses))\n",
        "\n",
        "                \n",
        "            # print the results\n",
        "            print(\n",
        "                f'EPOCH: {epoch+1:0>{len(str(self.epochs))}}/{self.epochs}',\n",
        "                end=' '\n",
        "            )\n",
        "            print(f'LOSS: {epoch_train_losses[-1]:.4f}',end=' ')\n",
        "            print(f'VAL-LOSS: {epoch_val_losses[-1]:.4f}',end='\\n')\n",
        "\n",
        "            #plot_training(epoch, np.round(epoch_train_losses, 5), np.round(epoch_val_losses, 5))\n",
        "        return epoch_train_losses, epoch_val_losses\n",
        "\n",
        "    def evaluate(self):\n",
        "\n",
        "        self.model.eval()\n",
        "\n",
        "        with torch.no_grad():\n",
        "            correct = 0\n",
        "            length = 0\n",
        "            for A, B, y in self.testing_DataLoader:\n",
        "\n",
        "                A, B, target = A.reshape(-1, 1, 28, 28).to(self.device), B.reshape(-1, 1, 28, 28).to(self.device), y.to(self.device)\n",
        "\n",
        "                distance = self.model(A, B)\n",
        "                out = (distance**2 < self.criterion.tau).int()\n",
        "                \n",
        "\n",
        "                correct += (out == target).sum().item()\n",
        "                length += target.shape[0]\n",
        "            \n",
        "        print(f'Accuracy: {correct/length:.4f}',end=' ')\n"
      ]
    },
    {
      "cell_type": "markdown",
      "id": "0I87i7e01MxF",
      "metadata": {
        "id": "0I87i7e01MxF"
      },
      "source": [
        "The number of epochs for the contrastive loss is smaller as after the 10th epoch the loss function for validation and training set is not changing"
      ]
    },
    {
      "cell_type": "code",
      "execution_count": 46,
      "id": "LdDaRGyqB7g7",
      "metadata": {
        "colab": {
          "base_uri": "https://localhost:8080/"
        },
        "id": "LdDaRGyqB7g7",
        "outputId": "e7839f17-8b38-41f8-b523-4f20ba58d8e8"
      },
      "outputs": [
        {
          "name": "stderr",
          "output_type": "stream",
          "text": [
            " 10%|█         | 1/10 [01:01<09:11, 61.24s/it]"
          ]
        },
        {
          "name": "stdout",
          "output_type": "stream",
          "text": [
            "EPOCH: 01/10 LOSS: 0.0093 VAL-LOSS: 0.0020\n"
          ]
        },
        {
          "name": "stderr",
          "output_type": "stream",
          "text": [
            "\r 20%|██        | 2/10 [01:58<07:51, 58.91s/it]"
          ]
        },
        {
          "name": "stdout",
          "output_type": "stream",
          "text": [
            "EPOCH: 02/10 LOSS: 0.0013 VAL-LOSS: 0.0009\n"
          ]
        },
        {
          "name": "stderr",
          "output_type": "stream",
          "text": [
            "\r 30%|███       | 3/10 [02:55<06:46, 58.11s/it]"
          ]
        },
        {
          "name": "stdout",
          "output_type": "stream",
          "text": [
            "EPOCH: 03/10 LOSS: 0.0007 VAL-LOSS: 0.0006\n"
          ]
        },
        {
          "name": "stderr",
          "output_type": "stream",
          "text": [
            "\r 40%|████      | 4/10 [03:52<05:46, 57.73s/it]"
          ]
        },
        {
          "name": "stdout",
          "output_type": "stream",
          "text": [
            "EPOCH: 04/10 LOSS: 0.0005 VAL-LOSS: 0.0005\n"
          ]
        },
        {
          "name": "stderr",
          "output_type": "stream",
          "text": [
            "\r 50%|█████     | 5/10 [04:50<04:47, 57.55s/it]"
          ]
        },
        {
          "name": "stdout",
          "output_type": "stream",
          "text": [
            "EPOCH: 05/10 LOSS: 0.0004 VAL-LOSS: 0.0004\n"
          ]
        },
        {
          "name": "stderr",
          "output_type": "stream",
          "text": [
            "\r 60%|██████    | 6/10 [05:47<03:49, 57.43s/it]"
          ]
        },
        {
          "name": "stdout",
          "output_type": "stream",
          "text": [
            "EPOCH: 06/10 LOSS: 0.0003 VAL-LOSS: 0.0003\n"
          ]
        },
        {
          "name": "stderr",
          "output_type": "stream",
          "text": [
            "\r 70%|███████   | 7/10 [06:44<02:52, 57.38s/it]"
          ]
        },
        {
          "name": "stdout",
          "output_type": "stream",
          "text": [
            "EPOCH: 07/10 LOSS: 0.0002 VAL-LOSS: 0.0003\n"
          ]
        },
        {
          "name": "stderr",
          "output_type": "stream",
          "text": [
            "\r 80%|████████  | 8/10 [07:42<01:55, 57.51s/it]"
          ]
        },
        {
          "name": "stdout",
          "output_type": "stream",
          "text": [
            "EPOCH: 08/10 LOSS: 0.0002 VAL-LOSS: 0.0002\n"
          ]
        },
        {
          "name": "stderr",
          "output_type": "stream",
          "text": [
            "\r 90%|█████████ | 9/10 [08:39<00:57, 57.53s/it]"
          ]
        },
        {
          "name": "stdout",
          "output_type": "stream",
          "text": [
            "EPOCH: 09/10 LOSS: 0.0002 VAL-LOSS: 0.0002\n"
          ]
        },
        {
          "name": "stderr",
          "output_type": "stream",
          "text": [
            "100%|██████████| 10/10 [09:37<00:00, 57.72s/it]"
          ]
        },
        {
          "name": "stdout",
          "output_type": "stream",
          "text": [
            "EPOCH: 10/10 LOSS: 0.0002 VAL-LOSS: 0.0002\n"
          ]
        },
        {
          "name": "stderr",
          "output_type": "stream",
          "text": [
            "\n"
          ]
        }
      ],
      "source": [
        "if torch.cuda.is_available():\n",
        "    device = torch.device('cuda')\n",
        "else:\n",
        "    device=torch.device('cpu')\n",
        "\n",
        "model = Siamese_Contrastive().to(device)\n",
        "\n",
        "criterion = ContrastiveLoss().to(device)\n",
        "\n",
        "optimizer = torch.optim.SGD(model.parameters(), lr=0.001, momentum=0.9)\n",
        "\n",
        "TrainingProcedure2 = Trainer_Contrastive(model, device, criterion, optimizer, train_loader, val_loader, test_loader, epochs = 10)\n",
        "\n",
        "train_loss, val_loss = TrainingProcedure2.run_trainer()"
      ]
    },
    {
      "cell_type": "code",
      "execution_count": 47,
      "id": "rAVSw2Z5r68o",
      "metadata": {
        "colab": {
          "base_uri": "https://localhost:8080/",
          "height": 513
        },
        "id": "rAVSw2Z5r68o",
        "outputId": "946682e0-5e0d-48ba-f73f-d05d354adfea"
      },
      "outputs": [
        {
          "data": {
            "image/png": "[encoded data removed]",
            "text/plain": [
              "<Figure size 864x576 with 1 Axes>"
            ]
          },
          "metadata": {
            "needs_background": "light"
          },
          "output_type": "display_data"
        }
      ],
      "source": [
        "plot_training(train_loss, val_loss )"
      ]
    },
    {
      "cell_type": "markdown",
      "id": "KB_swhAir5Gn",
      "metadata": {
        "id": "KB_swhAir5Gn"
      },
      "source": [
        "Check test accuracy:"
      ]
    },
    {
      "cell_type": "code",
      "execution_count": 49,
      "id": "P1pbSlwcG8g5",
      "metadata": {
        "colab": {
          "base_uri": "https://localhost:8080/"
        },
        "id": "P1pbSlwcG8g5",
        "outputId": "af2bf1e6-7f3d-4386-ddd4-9a95d2afe58e"
      },
      "outputs": [
        {
          "name": "stdout",
          "output_type": "stream",
          "text": [
            "Accuracy: 0.6114 "
          ]
        }
      ],
      "source": [
        "TrainingProcedure2.evaluate()"
      ]
    }
  ],
  "metadata": {
    "accelerator": "GPU",
    "colab": {
      "collapsed_sections": [],
      "name": "Assignment_1.ipynb",
      "provenance": []
    },
    "interpreter": {
      "hash": "b001d610a241339cc3b7988a7f6c804c70cb4dbbf032519cbfea0d67797e8b2b"
    },
    "kernelspec": {
      "display_name": "Python 3.9.7 ('base')",
      "language": "python",
      "name": "python3"
    },
    "language_info": {
      "codemirror_mode": {
        "name": "ipython",
        "version": 3
      },
      "file_extension": ".py",
      "mimetype": "text/x-python",
      "name": "python",
      "nbconvert_exporter": "python",
      "pygments_lexer": "ipython3",
      "version": "3.9.7"
    }
  },
  "nbformat": 4,
  "nbformat_minor": 5
}
